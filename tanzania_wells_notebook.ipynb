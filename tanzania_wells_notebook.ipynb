{
 "cells": [
  {
   "cell_type": "markdown",
   "id": "13cafa75-aa61-4d21-b705-4e97f763a799",
   "metadata": {},
   "source": [
    "# Tanzania Wells Analysis\n",
    "## by Allison Ward, Sarah Prusaitis, and Monica Pecha"
   ]
  },
  {
   "cell_type": "markdown",
   "id": "9319e9b1-3040-400f-a713-687483823ea0",
   "metadata": {},
   "source": [
    "## Overview\n",
    "This project analyzes the factors of successful wells in the Lake Victoria basin of Tanzania and provides key recommendations to initiate investment in further development of wells in the basin to ensure clean potable water for all residents.\n",
    "\n",
    "## Business Understanding\n",
    "NGOs are looking to invest in the establishment of wells to provide clean drinking water for all Tanzanians beginning with the Lake Victoria basin. This analysis provides recommendations for well type, water source, and managment practices to ensure the most successful well development model.\n",
    "\n",
    "The dataset was taken from [DrivenData](https://www.drivendata.org/competitions/7/pump-it-up-data-mining-the-water-table/page/23/), supplied by [Taarifa](https://taarifa.org/) and the [Tanzanian Ministry of Water](https://www.maji.go.tz/). These data were collected from 2011-2013."
   ]
  },
  {
   "cell_type": "markdown",
   "id": "1d16ae3d-d93d-4784-a3ea-33b2a7d155cc",
   "metadata": {},
   "source": [
    "## Data limitations\n",
    "There are limitations to this dataset and analysis. The year of construction of the well was thought to be an important factor, but due to the large volume of missing data it was not included in the analysis. This analysis focused on buidling new well systems based on the predicton of successful wells from existing wells. For this reason we categorized the ternary well functionality target as binary and included the functioning but in need of repair wells with the non functioning wells to ensure our. This could have led to misclassification. Regression model coefficients were exponentiated and probabilities were calculated making for interpretable results, but without confidence intervals for these coefficients it's difficult to understand what factors are significant."
   ]
  },
  {
   "cell_type": "markdown",
   "id": "953ad6ce-ded1-42d3-a532-4e79fb4444a5",
   "metadata": {},
   "source": [
    "# Table of Contents\n",
    "\n",
    "- Exploratory Data Analysis\n",
    "  - EDA Part 1 - Initial Analysis\n",
    "  - EDA Part 2 - Statistical Analysis\n",
    "- Training the Model\n",
    "    - Performing Train-Test Split\n",
    "    - Preprocessing\n",
    "    - Baseline (Dummy) Model\n",
    "    - Preliminary Model 1\n",
    "    - Preliminary Model 2\n",
    "- Testing the Model\n",
    "    - Transforming the Test Set\n",
    "    - Modeling the Test Set\n",
    "- Interpreting Results"
   ]
  },
  {
   "cell_type": "markdown",
   "id": "60da36df-9279-4583-b334-e0fad2e3699d",
   "metadata": {},
   "source": [
    "# Exploratory Data Analysis (EDA)"
   ]
  },
  {
   "cell_type": "markdown",
   "id": "7835c74d-e3ad-4faa-883b-363caccda3c8",
   "metadata": {},
   "source": [
    "## EDA Part 1 - Initial Analysis"
   ]
  },
  {
   "cell_type": "markdown",
   "id": "9ff1e01a-0d27-48e2-89d7-6b49a42f7f77",
   "metadata": {},
   "source": [
    "EDA began with importing the necessary packages, reading in our datasets, and analyzing each dataset individually. "
   ]
  },
  {
   "cell_type": "code",
   "execution_count": 2,
   "id": "8d74d5bd-372c-47db-a46b-d69b8ab49166",
   "metadata": {},
   "outputs": [],
   "source": [
    "import pandas as pd\n",
    "import numpy as np\n",
    "import matplotlib.pyplot as plt\n",
    "import seaborn as sns\n",
    "import seaborn.objects as so\n",
    "\n",
    "%matplotlib inline\n",
    "\n",
    "from sklearn.preprocessing import OneHotEncoder, StandardScaler\n",
    "\n",
    "from sklearn.impute import MissingIndicator, SimpleImputer\n",
    "\n",
    "from sklearn.dummy import DummyClassifier\n",
    "from sklearn.linear_model import LogisticRegression\n",
    "\n",
    "from sklearn.model_selection import train_test_split, cross_val_score\n",
    "from sklearn.feature_selection import SelectFromModel\n",
    "\n",
    "import statsmodels.api as sm\n",
    "from sklearn.preprocessing import StandardScaler, OneHotEncoder, OrdinalEncoder\n",
    "\n",
    "import scipy.stats as stats\n",
    "from scipy.stats import chi2_contingency\n",
    "\n",
    "from sklearn.tree import DecisionTreeClassifier, plot_tree\n",
    "from sklearn import tree"
   ]
  },
  {
   "cell_type": "code",
   "execution_count": 3,
   "id": "c11a6781-3a04-487e-9842-1c620bdaf128",
   "metadata": {},
   "outputs": [],
   "source": [
    "# this ensures that each time you run a cell, you're working on a copy of the dataframe and not the original dataframe. \n",
    "# different versions of pandas will differ on this\n",
    "pd.options.mode.copy_on_write = True"
   ]
  },
  {
   "cell_type": "code",
   "execution_count": 4,
   "id": "d2c74727-9cc4-4f64-a259-8c84d5c60e40",
   "metadata": {},
   "outputs": [],
   "source": [
    "# Reading in our datasets to explore\n",
    "df1 = pd.read_csv('data/test_set_values.csv')\n",
    "df2= pd.read_csv('data/training_set_labels.csv')\n",
    "df3 = pd.read_csv('data/training_set_values.csv')"
   ]
  },
  {
   "cell_type": "code",
   "execution_count": 5,
   "id": "9bdde872-5158-45d8-886e-402d4189cde0",
   "metadata": {},
   "outputs": [
    {
     "data": {
      "text/html": [
       "<div>\n",
       "<style scoped>\n",
       "    .dataframe tbody tr th:only-of-type {\n",
       "        vertical-align: middle;\n",
       "    }\n",
       "\n",
       "    .dataframe tbody tr th {\n",
       "        vertical-align: top;\n",
       "    }\n",
       "\n",
       "    .dataframe thead th {\n",
       "        text-align: right;\n",
       "    }\n",
       "</style>\n",
       "<table border=\"1\" class=\"dataframe\">\n",
       "  <thead>\n",
       "    <tr style=\"text-align: right;\">\n",
       "      <th></th>\n",
       "      <th>id</th>\n",
       "      <th>amount_tsh</th>\n",
       "      <th>date_recorded</th>\n",
       "      <th>funder</th>\n",
       "      <th>gps_height</th>\n",
       "      <th>installer</th>\n",
       "      <th>longitude</th>\n",
       "      <th>latitude</th>\n",
       "      <th>wpt_name</th>\n",
       "      <th>num_private</th>\n",
       "      <th>...</th>\n",
       "      <th>payment_type</th>\n",
       "      <th>water_quality</th>\n",
       "      <th>quality_group</th>\n",
       "      <th>quantity</th>\n",
       "      <th>quantity_group</th>\n",
       "      <th>source</th>\n",
       "      <th>source_type</th>\n",
       "      <th>source_class</th>\n",
       "      <th>waterpoint_type</th>\n",
       "      <th>waterpoint_type_group</th>\n",
       "    </tr>\n",
       "  </thead>\n",
       "  <tbody>\n",
       "    <tr>\n",
       "      <th>0</th>\n",
       "      <td>50785</td>\n",
       "      <td>0.0</td>\n",
       "      <td>2013-02-04</td>\n",
       "      <td>Dmdd</td>\n",
       "      <td>1996</td>\n",
       "      <td>DMDD</td>\n",
       "      <td>35.290799</td>\n",
       "      <td>-4.059696</td>\n",
       "      <td>Dinamu Secondary School</td>\n",
       "      <td>0</td>\n",
       "      <td>...</td>\n",
       "      <td>never pay</td>\n",
       "      <td>soft</td>\n",
       "      <td>good</td>\n",
       "      <td>seasonal</td>\n",
       "      <td>seasonal</td>\n",
       "      <td>rainwater harvesting</td>\n",
       "      <td>rainwater harvesting</td>\n",
       "      <td>surface</td>\n",
       "      <td>other</td>\n",
       "      <td>other</td>\n",
       "    </tr>\n",
       "    <tr>\n",
       "      <th>1</th>\n",
       "      <td>51630</td>\n",
       "      <td>0.0</td>\n",
       "      <td>2013-02-04</td>\n",
       "      <td>Government Of Tanzania</td>\n",
       "      <td>1569</td>\n",
       "      <td>DWE</td>\n",
       "      <td>36.656709</td>\n",
       "      <td>-3.309214</td>\n",
       "      <td>Kimnyak</td>\n",
       "      <td>0</td>\n",
       "      <td>...</td>\n",
       "      <td>never pay</td>\n",
       "      <td>soft</td>\n",
       "      <td>good</td>\n",
       "      <td>insufficient</td>\n",
       "      <td>insufficient</td>\n",
       "      <td>spring</td>\n",
       "      <td>spring</td>\n",
       "      <td>groundwater</td>\n",
       "      <td>communal standpipe</td>\n",
       "      <td>communal standpipe</td>\n",
       "    </tr>\n",
       "    <tr>\n",
       "      <th>2</th>\n",
       "      <td>17168</td>\n",
       "      <td>0.0</td>\n",
       "      <td>2013-02-01</td>\n",
       "      <td>NaN</td>\n",
       "      <td>1567</td>\n",
       "      <td>NaN</td>\n",
       "      <td>34.767863</td>\n",
       "      <td>-5.004344</td>\n",
       "      <td>Puma Secondary</td>\n",
       "      <td>0</td>\n",
       "      <td>...</td>\n",
       "      <td>never pay</td>\n",
       "      <td>soft</td>\n",
       "      <td>good</td>\n",
       "      <td>insufficient</td>\n",
       "      <td>insufficient</td>\n",
       "      <td>rainwater harvesting</td>\n",
       "      <td>rainwater harvesting</td>\n",
       "      <td>surface</td>\n",
       "      <td>other</td>\n",
       "      <td>other</td>\n",
       "    </tr>\n",
       "    <tr>\n",
       "      <th>3</th>\n",
       "      <td>45559</td>\n",
       "      <td>0.0</td>\n",
       "      <td>2013-01-22</td>\n",
       "      <td>Finn Water</td>\n",
       "      <td>267</td>\n",
       "      <td>FINN WATER</td>\n",
       "      <td>38.058046</td>\n",
       "      <td>-9.418672</td>\n",
       "      <td>Kwa Mzee Pange</td>\n",
       "      <td>0</td>\n",
       "      <td>...</td>\n",
       "      <td>unknown</td>\n",
       "      <td>soft</td>\n",
       "      <td>good</td>\n",
       "      <td>dry</td>\n",
       "      <td>dry</td>\n",
       "      <td>shallow well</td>\n",
       "      <td>shallow well</td>\n",
       "      <td>groundwater</td>\n",
       "      <td>other</td>\n",
       "      <td>other</td>\n",
       "    </tr>\n",
       "    <tr>\n",
       "      <th>4</th>\n",
       "      <td>49871</td>\n",
       "      <td>500.0</td>\n",
       "      <td>2013-03-27</td>\n",
       "      <td>Bruder</td>\n",
       "      <td>1260</td>\n",
       "      <td>BRUDER</td>\n",
       "      <td>35.006123</td>\n",
       "      <td>-10.950412</td>\n",
       "      <td>Kwa Mzee Turuka</td>\n",
       "      <td>0</td>\n",
       "      <td>...</td>\n",
       "      <td>monthly</td>\n",
       "      <td>soft</td>\n",
       "      <td>good</td>\n",
       "      <td>enough</td>\n",
       "      <td>enough</td>\n",
       "      <td>spring</td>\n",
       "      <td>spring</td>\n",
       "      <td>groundwater</td>\n",
       "      <td>communal standpipe</td>\n",
       "      <td>communal standpipe</td>\n",
       "    </tr>\n",
       "  </tbody>\n",
       "</table>\n",
       "<p>5 rows × 40 columns</p>\n",
       "</div>"
      ],
      "text/plain": [
       "      id  amount_tsh date_recorded                  funder  gps_height  \\\n",
       "0  50785         0.0    2013-02-04                    Dmdd        1996   \n",
       "1  51630         0.0    2013-02-04  Government Of Tanzania        1569   \n",
       "2  17168         0.0    2013-02-01                     NaN        1567   \n",
       "3  45559         0.0    2013-01-22              Finn Water         267   \n",
       "4  49871       500.0    2013-03-27                  Bruder        1260   \n",
       "\n",
       "    installer  longitude   latitude                 wpt_name  num_private  \\\n",
       "0        DMDD  35.290799  -4.059696  Dinamu Secondary School            0   \n",
       "1         DWE  36.656709  -3.309214                  Kimnyak            0   \n",
       "2         NaN  34.767863  -5.004344           Puma Secondary            0   \n",
       "3  FINN WATER  38.058046  -9.418672           Kwa Mzee Pange            0   \n",
       "4      BRUDER  35.006123 -10.950412          Kwa Mzee Turuka            0   \n",
       "\n",
       "   ... payment_type water_quality quality_group      quantity  quantity_group  \\\n",
       "0  ...    never pay          soft          good      seasonal        seasonal   \n",
       "1  ...    never pay          soft          good  insufficient    insufficient   \n",
       "2  ...    never pay          soft          good  insufficient    insufficient   \n",
       "3  ...      unknown          soft          good           dry             dry   \n",
       "4  ...      monthly          soft          good        enough          enough   \n",
       "\n",
       "                 source           source_type  source_class  \\\n",
       "0  rainwater harvesting  rainwater harvesting       surface   \n",
       "1                spring                spring   groundwater   \n",
       "2  rainwater harvesting  rainwater harvesting       surface   \n",
       "3          shallow well          shallow well   groundwater   \n",
       "4                spring                spring   groundwater   \n",
       "\n",
       "      waterpoint_type waterpoint_type_group  \n",
       "0               other                 other  \n",
       "1  communal standpipe    communal standpipe  \n",
       "2               other                 other  \n",
       "3               other                 other  \n",
       "4  communal standpipe    communal standpipe  \n",
       "\n",
       "[5 rows x 40 columns]"
      ]
     },
     "execution_count": 5,
     "metadata": {},
     "output_type": "execute_result"
    }
   ],
   "source": [
    "df1.head()"
   ]
  },
  {
   "cell_type": "code",
   "execution_count": 6,
   "id": "a2c1d166-49f3-4098-949e-570eba95df4c",
   "metadata": {},
   "outputs": [
    {
     "name": "stdout",
     "output_type": "stream",
     "text": [
      "<class 'pandas.core.frame.DataFrame'>\n",
      "RangeIndex: 14850 entries, 0 to 14849\n",
      "Data columns (total 40 columns):\n",
      " #   Column                 Non-Null Count  Dtype  \n",
      "---  ------                 --------------  -----  \n",
      " 0   id                     14850 non-null  int64  \n",
      " 1   amount_tsh             14850 non-null  float64\n",
      " 2   date_recorded          14850 non-null  object \n",
      " 3   funder                 13980 non-null  object \n",
      " 4   gps_height             14850 non-null  int64  \n",
      " 5   installer              13973 non-null  object \n",
      " 6   longitude              14850 non-null  float64\n",
      " 7   latitude               14850 non-null  float64\n",
      " 8   wpt_name               14850 non-null  object \n",
      " 9   num_private            14850 non-null  int64  \n",
      " 10  basin                  14850 non-null  object \n",
      " 11  subvillage             14751 non-null  object \n",
      " 12  region                 14850 non-null  object \n",
      " 13  region_code            14850 non-null  int64  \n",
      " 14  district_code          14850 non-null  int64  \n",
      " 15  lga                    14850 non-null  object \n",
      " 16  ward                   14850 non-null  object \n",
      " 17  population             14850 non-null  int64  \n",
      " 18  public_meeting         14029 non-null  object \n",
      " 19  recorded_by            14850 non-null  object \n",
      " 20  scheme_management      13881 non-null  object \n",
      " 21  scheme_name            7608 non-null   object \n",
      " 22  permit                 14113 non-null  object \n",
      " 23  construction_year      14850 non-null  int64  \n",
      " 24  extraction_type        14850 non-null  object \n",
      " 25  extraction_type_group  14850 non-null  object \n",
      " 26  extraction_type_class  14850 non-null  object \n",
      " 27  management             14850 non-null  object \n",
      " 28  management_group       14850 non-null  object \n",
      " 29  payment                14850 non-null  object \n",
      " 30  payment_type           14850 non-null  object \n",
      " 31  water_quality          14850 non-null  object \n",
      " 32  quality_group          14850 non-null  object \n",
      " 33  quantity               14850 non-null  object \n",
      " 34  quantity_group         14850 non-null  object \n",
      " 35  source                 14850 non-null  object \n",
      " 36  source_type            14850 non-null  object \n",
      " 37  source_class           14850 non-null  object \n",
      " 38  waterpoint_type        14850 non-null  object \n",
      " 39  waterpoint_type_group  14850 non-null  object \n",
      "dtypes: float64(3), int64(7), object(30)\n",
      "memory usage: 4.5+ MB\n"
     ]
    }
   ],
   "source": [
    "df1.info()"
   ]
  },
  {
   "cell_type": "code",
   "execution_count": 7,
   "id": "fe12be6a-f6f0-433f-aa89-d0624fec63eb",
   "metadata": {},
   "outputs": [
    {
     "data": {
      "text/html": [
       "<div>\n",
       "<style scoped>\n",
       "    .dataframe tbody tr th:only-of-type {\n",
       "        vertical-align: middle;\n",
       "    }\n",
       "\n",
       "    .dataframe tbody tr th {\n",
       "        vertical-align: top;\n",
       "    }\n",
       "\n",
       "    .dataframe thead th {\n",
       "        text-align: right;\n",
       "    }\n",
       "</style>\n",
       "<table border=\"1\" class=\"dataframe\">\n",
       "  <thead>\n",
       "    <tr style=\"text-align: right;\">\n",
       "      <th></th>\n",
       "      <th>id</th>\n",
       "      <th>status_group</th>\n",
       "    </tr>\n",
       "  </thead>\n",
       "  <tbody>\n",
       "    <tr>\n",
       "      <th>0</th>\n",
       "      <td>69572</td>\n",
       "      <td>functional</td>\n",
       "    </tr>\n",
       "    <tr>\n",
       "      <th>1</th>\n",
       "      <td>8776</td>\n",
       "      <td>functional</td>\n",
       "    </tr>\n",
       "    <tr>\n",
       "      <th>2</th>\n",
       "      <td>34310</td>\n",
       "      <td>functional</td>\n",
       "    </tr>\n",
       "    <tr>\n",
       "      <th>3</th>\n",
       "      <td>67743</td>\n",
       "      <td>non functional</td>\n",
       "    </tr>\n",
       "    <tr>\n",
       "      <th>4</th>\n",
       "      <td>19728</td>\n",
       "      <td>functional</td>\n",
       "    </tr>\n",
       "  </tbody>\n",
       "</table>\n",
       "</div>"
      ],
      "text/plain": [
       "      id    status_group\n",
       "0  69572      functional\n",
       "1   8776      functional\n",
       "2  34310      functional\n",
       "3  67743  non functional\n",
       "4  19728      functional"
      ]
     },
     "execution_count": 7,
     "metadata": {},
     "output_type": "execute_result"
    }
   ],
   "source": [
    "df2.head()"
   ]
  },
  {
   "cell_type": "code",
   "execution_count": 8,
   "id": "77998c3f-f19a-4f24-b98a-11635715e02a",
   "metadata": {},
   "outputs": [
    {
     "name": "stdout",
     "output_type": "stream",
     "text": [
      "<class 'pandas.core.frame.DataFrame'>\n",
      "RangeIndex: 59400 entries, 0 to 59399\n",
      "Data columns (total 2 columns):\n",
      " #   Column        Non-Null Count  Dtype \n",
      "---  ------        --------------  ----- \n",
      " 0   id            59400 non-null  int64 \n",
      " 1   status_group  59400 non-null  object\n",
      "dtypes: int64(1), object(1)\n",
      "memory usage: 928.2+ KB\n"
     ]
    }
   ],
   "source": [
    "df2.info()"
   ]
  },
  {
   "cell_type": "code",
   "execution_count": 9,
   "id": "4f19a899-106d-404f-8700-08adebab0f49",
   "metadata": {},
   "outputs": [
    {
     "data": {
      "text/html": [
       "<div>\n",
       "<style scoped>\n",
       "    .dataframe tbody tr th:only-of-type {\n",
       "        vertical-align: middle;\n",
       "    }\n",
       "\n",
       "    .dataframe tbody tr th {\n",
       "        vertical-align: top;\n",
       "    }\n",
       "\n",
       "    .dataframe thead th {\n",
       "        text-align: right;\n",
       "    }\n",
       "</style>\n",
       "<table border=\"1\" class=\"dataframe\">\n",
       "  <thead>\n",
       "    <tr style=\"text-align: right;\">\n",
       "      <th></th>\n",
       "      <th>id</th>\n",
       "      <th>amount_tsh</th>\n",
       "      <th>date_recorded</th>\n",
       "      <th>funder</th>\n",
       "      <th>gps_height</th>\n",
       "      <th>installer</th>\n",
       "      <th>longitude</th>\n",
       "      <th>latitude</th>\n",
       "      <th>wpt_name</th>\n",
       "      <th>num_private</th>\n",
       "      <th>...</th>\n",
       "      <th>payment_type</th>\n",
       "      <th>water_quality</th>\n",
       "      <th>quality_group</th>\n",
       "      <th>quantity</th>\n",
       "      <th>quantity_group</th>\n",
       "      <th>source</th>\n",
       "      <th>source_type</th>\n",
       "      <th>source_class</th>\n",
       "      <th>waterpoint_type</th>\n",
       "      <th>waterpoint_type_group</th>\n",
       "    </tr>\n",
       "  </thead>\n",
       "  <tbody>\n",
       "    <tr>\n",
       "      <th>0</th>\n",
       "      <td>69572</td>\n",
       "      <td>6000.0</td>\n",
       "      <td>2011-03-14</td>\n",
       "      <td>Roman</td>\n",
       "      <td>1390</td>\n",
       "      <td>Roman</td>\n",
       "      <td>34.938093</td>\n",
       "      <td>-9.856322</td>\n",
       "      <td>none</td>\n",
       "      <td>0</td>\n",
       "      <td>...</td>\n",
       "      <td>annually</td>\n",
       "      <td>soft</td>\n",
       "      <td>good</td>\n",
       "      <td>enough</td>\n",
       "      <td>enough</td>\n",
       "      <td>spring</td>\n",
       "      <td>spring</td>\n",
       "      <td>groundwater</td>\n",
       "      <td>communal standpipe</td>\n",
       "      <td>communal standpipe</td>\n",
       "    </tr>\n",
       "    <tr>\n",
       "      <th>1</th>\n",
       "      <td>8776</td>\n",
       "      <td>0.0</td>\n",
       "      <td>2013-03-06</td>\n",
       "      <td>Grumeti</td>\n",
       "      <td>1399</td>\n",
       "      <td>GRUMETI</td>\n",
       "      <td>34.698766</td>\n",
       "      <td>-2.147466</td>\n",
       "      <td>Zahanati</td>\n",
       "      <td>0</td>\n",
       "      <td>...</td>\n",
       "      <td>never pay</td>\n",
       "      <td>soft</td>\n",
       "      <td>good</td>\n",
       "      <td>insufficient</td>\n",
       "      <td>insufficient</td>\n",
       "      <td>rainwater harvesting</td>\n",
       "      <td>rainwater harvesting</td>\n",
       "      <td>surface</td>\n",
       "      <td>communal standpipe</td>\n",
       "      <td>communal standpipe</td>\n",
       "    </tr>\n",
       "    <tr>\n",
       "      <th>2</th>\n",
       "      <td>34310</td>\n",
       "      <td>25.0</td>\n",
       "      <td>2013-02-25</td>\n",
       "      <td>Lottery Club</td>\n",
       "      <td>686</td>\n",
       "      <td>World vision</td>\n",
       "      <td>37.460664</td>\n",
       "      <td>-3.821329</td>\n",
       "      <td>Kwa Mahundi</td>\n",
       "      <td>0</td>\n",
       "      <td>...</td>\n",
       "      <td>per bucket</td>\n",
       "      <td>soft</td>\n",
       "      <td>good</td>\n",
       "      <td>enough</td>\n",
       "      <td>enough</td>\n",
       "      <td>dam</td>\n",
       "      <td>dam</td>\n",
       "      <td>surface</td>\n",
       "      <td>communal standpipe multiple</td>\n",
       "      <td>communal standpipe</td>\n",
       "    </tr>\n",
       "    <tr>\n",
       "      <th>3</th>\n",
       "      <td>67743</td>\n",
       "      <td>0.0</td>\n",
       "      <td>2013-01-28</td>\n",
       "      <td>Unicef</td>\n",
       "      <td>263</td>\n",
       "      <td>UNICEF</td>\n",
       "      <td>38.486161</td>\n",
       "      <td>-11.155298</td>\n",
       "      <td>Zahanati Ya Nanyumbu</td>\n",
       "      <td>0</td>\n",
       "      <td>...</td>\n",
       "      <td>never pay</td>\n",
       "      <td>soft</td>\n",
       "      <td>good</td>\n",
       "      <td>dry</td>\n",
       "      <td>dry</td>\n",
       "      <td>machine dbh</td>\n",
       "      <td>borehole</td>\n",
       "      <td>groundwater</td>\n",
       "      <td>communal standpipe multiple</td>\n",
       "      <td>communal standpipe</td>\n",
       "    </tr>\n",
       "    <tr>\n",
       "      <th>4</th>\n",
       "      <td>19728</td>\n",
       "      <td>0.0</td>\n",
       "      <td>2011-07-13</td>\n",
       "      <td>Action In A</td>\n",
       "      <td>0</td>\n",
       "      <td>Artisan</td>\n",
       "      <td>31.130847</td>\n",
       "      <td>-1.825359</td>\n",
       "      <td>Shuleni</td>\n",
       "      <td>0</td>\n",
       "      <td>...</td>\n",
       "      <td>never pay</td>\n",
       "      <td>soft</td>\n",
       "      <td>good</td>\n",
       "      <td>seasonal</td>\n",
       "      <td>seasonal</td>\n",
       "      <td>rainwater harvesting</td>\n",
       "      <td>rainwater harvesting</td>\n",
       "      <td>surface</td>\n",
       "      <td>communal standpipe</td>\n",
       "      <td>communal standpipe</td>\n",
       "    </tr>\n",
       "  </tbody>\n",
       "</table>\n",
       "<p>5 rows × 40 columns</p>\n",
       "</div>"
      ],
      "text/plain": [
       "      id  amount_tsh date_recorded        funder  gps_height     installer  \\\n",
       "0  69572      6000.0    2011-03-14         Roman        1390         Roman   \n",
       "1   8776         0.0    2013-03-06       Grumeti        1399       GRUMETI   \n",
       "2  34310        25.0    2013-02-25  Lottery Club         686  World vision   \n",
       "3  67743         0.0    2013-01-28        Unicef         263        UNICEF   \n",
       "4  19728         0.0    2011-07-13   Action In A           0       Artisan   \n",
       "\n",
       "   longitude   latitude              wpt_name  num_private  ... payment_type  \\\n",
       "0  34.938093  -9.856322                  none            0  ...     annually   \n",
       "1  34.698766  -2.147466              Zahanati            0  ...    never pay   \n",
       "2  37.460664  -3.821329           Kwa Mahundi            0  ...   per bucket   \n",
       "3  38.486161 -11.155298  Zahanati Ya Nanyumbu            0  ...    never pay   \n",
       "4  31.130847  -1.825359               Shuleni            0  ...    never pay   \n",
       "\n",
       "  water_quality quality_group      quantity  quantity_group  \\\n",
       "0          soft          good        enough          enough   \n",
       "1          soft          good  insufficient    insufficient   \n",
       "2          soft          good        enough          enough   \n",
       "3          soft          good           dry             dry   \n",
       "4          soft          good      seasonal        seasonal   \n",
       "\n",
       "                 source           source_type  source_class  \\\n",
       "0                spring                spring   groundwater   \n",
       "1  rainwater harvesting  rainwater harvesting       surface   \n",
       "2                   dam                   dam       surface   \n",
       "3           machine dbh              borehole   groundwater   \n",
       "4  rainwater harvesting  rainwater harvesting       surface   \n",
       "\n",
       "               waterpoint_type waterpoint_type_group  \n",
       "0           communal standpipe    communal standpipe  \n",
       "1           communal standpipe    communal standpipe  \n",
       "2  communal standpipe multiple    communal standpipe  \n",
       "3  communal standpipe multiple    communal standpipe  \n",
       "4           communal standpipe    communal standpipe  \n",
       "\n",
       "[5 rows x 40 columns]"
      ]
     },
     "execution_count": 9,
     "metadata": {},
     "output_type": "execute_result"
    }
   ],
   "source": [
    "df3.head()"
   ]
  },
  {
   "cell_type": "code",
   "execution_count": 10,
   "id": "d793c820-5a24-4c7d-a2c1-454ee56051a9",
   "metadata": {},
   "outputs": [
    {
     "name": "stdout",
     "output_type": "stream",
     "text": [
      "<class 'pandas.core.frame.DataFrame'>\n",
      "RangeIndex: 59400 entries, 0 to 59399\n",
      "Data columns (total 40 columns):\n",
      " #   Column                 Non-Null Count  Dtype  \n",
      "---  ------                 --------------  -----  \n",
      " 0   id                     59400 non-null  int64  \n",
      " 1   amount_tsh             59400 non-null  float64\n",
      " 2   date_recorded          59400 non-null  object \n",
      " 3   funder                 55763 non-null  object \n",
      " 4   gps_height             59400 non-null  int64  \n",
      " 5   installer              55745 non-null  object \n",
      " 6   longitude              59400 non-null  float64\n",
      " 7   latitude               59400 non-null  float64\n",
      " 8   wpt_name               59398 non-null  object \n",
      " 9   num_private            59400 non-null  int64  \n",
      " 10  basin                  59400 non-null  object \n",
      " 11  subvillage             59029 non-null  object \n",
      " 12  region                 59400 non-null  object \n",
      " 13  region_code            59400 non-null  int64  \n",
      " 14  district_code          59400 non-null  int64  \n",
      " 15  lga                    59400 non-null  object \n",
      " 16  ward                   59400 non-null  object \n",
      " 17  population             59400 non-null  int64  \n",
      " 18  public_meeting         56066 non-null  object \n",
      " 19  recorded_by            59400 non-null  object \n",
      " 20  scheme_management      55522 non-null  object \n",
      " 21  scheme_name            30590 non-null  object \n",
      " 22  permit                 56344 non-null  object \n",
      " 23  construction_year      59400 non-null  int64  \n",
      " 24  extraction_type        59400 non-null  object \n",
      " 25  extraction_type_group  59400 non-null  object \n",
      " 26  extraction_type_class  59400 non-null  object \n",
      " 27  management             59400 non-null  object \n",
      " 28  management_group       59400 non-null  object \n",
      " 29  payment                59400 non-null  object \n",
      " 30  payment_type           59400 non-null  object \n",
      " 31  water_quality          59400 non-null  object \n",
      " 32  quality_group          59400 non-null  object \n",
      " 33  quantity               59400 non-null  object \n",
      " 34  quantity_group         59400 non-null  object \n",
      " 35  source                 59400 non-null  object \n",
      " 36  source_type            59400 non-null  object \n",
      " 37  source_class           59400 non-null  object \n",
      " 38  waterpoint_type        59400 non-null  object \n",
      " 39  waterpoint_type_group  59400 non-null  object \n",
      "dtypes: float64(3), int64(7), object(30)\n",
      "memory usage: 18.1+ MB\n"
     ]
    }
   ],
   "source": [
    "df3.info()"
   ]
  },
  {
   "cell_type": "markdown",
   "id": "ce1c71f5-d21b-4994-ad90-bf62a46cf6bf",
   "metadata": {},
   "source": [
    "After analyzing each dataframe, a few observations can be made. Of note, quite a few columns are missing values. Additionally, most variables are categorical and listed as the 'object' datatype. The next step was to merge dataframes 2 and 3, which include the independent and dependent variables that were provided as training materials. "
   ]
  },
  {
   "cell_type": "code",
   "execution_count": 11,
   "id": "13269785-c505-4c5a-8f9c-4a4cf178dbed",
   "metadata": {},
   "outputs": [
    {
     "data": {
      "text/html": [
       "<div>\n",
       "<style scoped>\n",
       "    .dataframe tbody tr th:only-of-type {\n",
       "        vertical-align: middle;\n",
       "    }\n",
       "\n",
       "    .dataframe tbody tr th {\n",
       "        vertical-align: top;\n",
       "    }\n",
       "\n",
       "    .dataframe thead th {\n",
       "        text-align: right;\n",
       "    }\n",
       "</style>\n",
       "<table border=\"1\" class=\"dataframe\">\n",
       "  <thead>\n",
       "    <tr style=\"text-align: right;\">\n",
       "      <th></th>\n",
       "      <th>id</th>\n",
       "      <th>amount_tsh</th>\n",
       "      <th>date_recorded</th>\n",
       "      <th>funder</th>\n",
       "      <th>gps_height</th>\n",
       "      <th>installer</th>\n",
       "      <th>longitude</th>\n",
       "      <th>latitude</th>\n",
       "      <th>wpt_name</th>\n",
       "      <th>num_private</th>\n",
       "      <th>...</th>\n",
       "      <th>water_quality</th>\n",
       "      <th>quality_group</th>\n",
       "      <th>quantity</th>\n",
       "      <th>quantity_group</th>\n",
       "      <th>source</th>\n",
       "      <th>source_type</th>\n",
       "      <th>source_class</th>\n",
       "      <th>waterpoint_type</th>\n",
       "      <th>waterpoint_type_group</th>\n",
       "      <th>status_group</th>\n",
       "    </tr>\n",
       "  </thead>\n",
       "  <tbody>\n",
       "    <tr>\n",
       "      <th>0</th>\n",
       "      <td>69572</td>\n",
       "      <td>6000.0</td>\n",
       "      <td>2011-03-14</td>\n",
       "      <td>Roman</td>\n",
       "      <td>1390</td>\n",
       "      <td>Roman</td>\n",
       "      <td>34.938093</td>\n",
       "      <td>-9.856322</td>\n",
       "      <td>none</td>\n",
       "      <td>0</td>\n",
       "      <td>...</td>\n",
       "      <td>soft</td>\n",
       "      <td>good</td>\n",
       "      <td>enough</td>\n",
       "      <td>enough</td>\n",
       "      <td>spring</td>\n",
       "      <td>spring</td>\n",
       "      <td>groundwater</td>\n",
       "      <td>communal standpipe</td>\n",
       "      <td>communal standpipe</td>\n",
       "      <td>functional</td>\n",
       "    </tr>\n",
       "    <tr>\n",
       "      <th>1</th>\n",
       "      <td>8776</td>\n",
       "      <td>0.0</td>\n",
       "      <td>2013-03-06</td>\n",
       "      <td>Grumeti</td>\n",
       "      <td>1399</td>\n",
       "      <td>GRUMETI</td>\n",
       "      <td>34.698766</td>\n",
       "      <td>-2.147466</td>\n",
       "      <td>Zahanati</td>\n",
       "      <td>0</td>\n",
       "      <td>...</td>\n",
       "      <td>soft</td>\n",
       "      <td>good</td>\n",
       "      <td>insufficient</td>\n",
       "      <td>insufficient</td>\n",
       "      <td>rainwater harvesting</td>\n",
       "      <td>rainwater harvesting</td>\n",
       "      <td>surface</td>\n",
       "      <td>communal standpipe</td>\n",
       "      <td>communal standpipe</td>\n",
       "      <td>functional</td>\n",
       "    </tr>\n",
       "    <tr>\n",
       "      <th>2</th>\n",
       "      <td>34310</td>\n",
       "      <td>25.0</td>\n",
       "      <td>2013-02-25</td>\n",
       "      <td>Lottery Club</td>\n",
       "      <td>686</td>\n",
       "      <td>World vision</td>\n",
       "      <td>37.460664</td>\n",
       "      <td>-3.821329</td>\n",
       "      <td>Kwa Mahundi</td>\n",
       "      <td>0</td>\n",
       "      <td>...</td>\n",
       "      <td>soft</td>\n",
       "      <td>good</td>\n",
       "      <td>enough</td>\n",
       "      <td>enough</td>\n",
       "      <td>dam</td>\n",
       "      <td>dam</td>\n",
       "      <td>surface</td>\n",
       "      <td>communal standpipe multiple</td>\n",
       "      <td>communal standpipe</td>\n",
       "      <td>functional</td>\n",
       "    </tr>\n",
       "    <tr>\n",
       "      <th>3</th>\n",
       "      <td>67743</td>\n",
       "      <td>0.0</td>\n",
       "      <td>2013-01-28</td>\n",
       "      <td>Unicef</td>\n",
       "      <td>263</td>\n",
       "      <td>UNICEF</td>\n",
       "      <td>38.486161</td>\n",
       "      <td>-11.155298</td>\n",
       "      <td>Zahanati Ya Nanyumbu</td>\n",
       "      <td>0</td>\n",
       "      <td>...</td>\n",
       "      <td>soft</td>\n",
       "      <td>good</td>\n",
       "      <td>dry</td>\n",
       "      <td>dry</td>\n",
       "      <td>machine dbh</td>\n",
       "      <td>borehole</td>\n",
       "      <td>groundwater</td>\n",
       "      <td>communal standpipe multiple</td>\n",
       "      <td>communal standpipe</td>\n",
       "      <td>non functional</td>\n",
       "    </tr>\n",
       "    <tr>\n",
       "      <th>4</th>\n",
       "      <td>19728</td>\n",
       "      <td>0.0</td>\n",
       "      <td>2011-07-13</td>\n",
       "      <td>Action In A</td>\n",
       "      <td>0</td>\n",
       "      <td>Artisan</td>\n",
       "      <td>31.130847</td>\n",
       "      <td>-1.825359</td>\n",
       "      <td>Shuleni</td>\n",
       "      <td>0</td>\n",
       "      <td>...</td>\n",
       "      <td>soft</td>\n",
       "      <td>good</td>\n",
       "      <td>seasonal</td>\n",
       "      <td>seasonal</td>\n",
       "      <td>rainwater harvesting</td>\n",
       "      <td>rainwater harvesting</td>\n",
       "      <td>surface</td>\n",
       "      <td>communal standpipe</td>\n",
       "      <td>communal standpipe</td>\n",
       "      <td>functional</td>\n",
       "    </tr>\n",
       "  </tbody>\n",
       "</table>\n",
       "<p>5 rows × 41 columns</p>\n",
       "</div>"
      ],
      "text/plain": [
       "      id  amount_tsh date_recorded        funder  gps_height     installer  \\\n",
       "0  69572      6000.0    2011-03-14         Roman        1390         Roman   \n",
       "1   8776         0.0    2013-03-06       Grumeti        1399       GRUMETI   \n",
       "2  34310        25.0    2013-02-25  Lottery Club         686  World vision   \n",
       "3  67743         0.0    2013-01-28        Unicef         263        UNICEF   \n",
       "4  19728         0.0    2011-07-13   Action In A           0       Artisan   \n",
       "\n",
       "   longitude   latitude              wpt_name  num_private  ... water_quality  \\\n",
       "0  34.938093  -9.856322                  none            0  ...          soft   \n",
       "1  34.698766  -2.147466              Zahanati            0  ...          soft   \n",
       "2  37.460664  -3.821329           Kwa Mahundi            0  ...          soft   \n",
       "3  38.486161 -11.155298  Zahanati Ya Nanyumbu            0  ...          soft   \n",
       "4  31.130847  -1.825359               Shuleni            0  ...          soft   \n",
       "\n",
       "  quality_group      quantity  quantity_group                source  \\\n",
       "0          good        enough          enough                spring   \n",
       "1          good  insufficient    insufficient  rainwater harvesting   \n",
       "2          good        enough          enough                   dam   \n",
       "3          good           dry             dry           machine dbh   \n",
       "4          good      seasonal        seasonal  rainwater harvesting   \n",
       "\n",
       "            source_type source_class              waterpoint_type  \\\n",
       "0                spring  groundwater           communal standpipe   \n",
       "1  rainwater harvesting      surface           communal standpipe   \n",
       "2                   dam      surface  communal standpipe multiple   \n",
       "3              borehole  groundwater  communal standpipe multiple   \n",
       "4  rainwater harvesting      surface           communal standpipe   \n",
       "\n",
       "  waterpoint_type_group    status_group  \n",
       "0    communal standpipe      functional  \n",
       "1    communal standpipe      functional  \n",
       "2    communal standpipe      functional  \n",
       "3    communal standpipe  non functional  \n",
       "4    communal standpipe      functional  \n",
       "\n",
       "[5 rows x 41 columns]"
      ]
     },
     "execution_count": 11,
     "metadata": {},
     "output_type": "execute_result"
    }
   ],
   "source": [
    "# merging dataframes 2 and 3 on id\n",
    "df4 = df3.merge(df2, on = \"id\")\n",
    "df4.head()"
   ]
  },
  {
   "cell_type": "markdown",
   "id": "de7943d1-103d-4204-ab98-31505a778449",
   "metadata": {},
   "source": [
    "After exploring each of the datasets thoroughly, columns were dropped that were duplicates of other columns or otherwise not relevant to the scope of the analysis. It was also found that some columns had values that represented null values, such as construction years that were listed as 0, that would be detrimental to the model and therefore removed. Lastly, the data was filtered for wells in the Lake Victoria basin that were communal standpipe wells or hand pump wells, as per the business problem."
   ]
  },
  {
   "cell_type": "code",
   "execution_count": 12,
   "id": "266b9140-e750-4d1b-9fae-e43cf268781b",
   "metadata": {},
   "outputs": [],
   "source": [
    "# dropping irrelevant columns\n",
    "to_drop = [\"scheme_name\", \"id\", \"public_meeting\", 'population', 'lga', 'permit', 'quantity', \"payment_type\", \"ward\", \"management\", \"water_quality\", \"wpt_name\", \"installer\", \"funder\", \"source_type\", \"subvillage\", \"extraction_type\", \"extraction_type_group\", \"source\", \"scheme_management\", \"construction_year\", \"quantity_group\", \"waterpoint_type\", \"amount_tsh\", \"region_code\", \"district_code\", \"num_private\", \"date_recorded\", \"recorded_by\"]\n",
    "df4.drop(to_drop, axis=1, inplace = True)"
   ]
  },
  {
   "cell_type": "code",
   "execution_count": 13,
   "id": "315f66c6-4052-40f6-ba9d-c722c1df9b77",
   "metadata": {},
   "outputs": [
    {
     "data": {
      "text/html": [
       "<div>\n",
       "<style scoped>\n",
       "    .dataframe tbody tr th:only-of-type {\n",
       "        vertical-align: middle;\n",
       "    }\n",
       "\n",
       "    .dataframe tbody tr th {\n",
       "        vertical-align: top;\n",
       "    }\n",
       "\n",
       "    .dataframe thead th {\n",
       "        text-align: right;\n",
       "    }\n",
       "</style>\n",
       "<table border=\"1\" class=\"dataframe\">\n",
       "  <thead>\n",
       "    <tr style=\"text-align: right;\">\n",
       "      <th></th>\n",
       "      <th>gps_height</th>\n",
       "      <th>longitude</th>\n",
       "      <th>latitude</th>\n",
       "      <th>basin</th>\n",
       "      <th>region</th>\n",
       "      <th>extraction_type_class</th>\n",
       "      <th>management_group</th>\n",
       "      <th>payment</th>\n",
       "      <th>quality_group</th>\n",
       "      <th>source_class</th>\n",
       "      <th>waterpoint_type_group</th>\n",
       "      <th>status_group</th>\n",
       "    </tr>\n",
       "  </thead>\n",
       "  <tbody>\n",
       "    <tr>\n",
       "      <th>1</th>\n",
       "      <td>1399</td>\n",
       "      <td>34.698766</td>\n",
       "      <td>-2.147466e+00</td>\n",
       "      <td>Lake Victoria</td>\n",
       "      <td>Mara</td>\n",
       "      <td>gravity</td>\n",
       "      <td>user-group</td>\n",
       "      <td>never pay</td>\n",
       "      <td>good</td>\n",
       "      <td>surface</td>\n",
       "      <td>communal standpipe</td>\n",
       "      <td>functional</td>\n",
       "    </tr>\n",
       "    <tr>\n",
       "      <th>4</th>\n",
       "      <td>0</td>\n",
       "      <td>31.130847</td>\n",
       "      <td>-1.825359e+00</td>\n",
       "      <td>Lake Victoria</td>\n",
       "      <td>Kagera</td>\n",
       "      <td>gravity</td>\n",
       "      <td>other</td>\n",
       "      <td>never pay</td>\n",
       "      <td>good</td>\n",
       "      <td>surface</td>\n",
       "      <td>communal standpipe</td>\n",
       "      <td>functional</td>\n",
       "    </tr>\n",
       "    <tr>\n",
       "      <th>9</th>\n",
       "      <td>0</td>\n",
       "      <td>30.626991</td>\n",
       "      <td>-1.257051e+00</td>\n",
       "      <td>Lake Victoria</td>\n",
       "      <td>Kagera</td>\n",
       "      <td>handpump</td>\n",
       "      <td>user-group</td>\n",
       "      <td>never pay</td>\n",
       "      <td>good</td>\n",
       "      <td>groundwater</td>\n",
       "      <td>hand pump</td>\n",
       "      <td>functional</td>\n",
       "    </tr>\n",
       "    <tr>\n",
       "      <th>18</th>\n",
       "      <td>1162</td>\n",
       "      <td>32.920154</td>\n",
       "      <td>-1.947868e+00</td>\n",
       "      <td>Lake Victoria</td>\n",
       "      <td>Mwanza</td>\n",
       "      <td>other</td>\n",
       "      <td>user-group</td>\n",
       "      <td>never pay</td>\n",
       "      <td>milky</td>\n",
       "      <td>groundwater</td>\n",
       "      <td>other</td>\n",
       "      <td>functional needs repair</td>\n",
       "    </tr>\n",
       "    <tr>\n",
       "      <th>21</th>\n",
       "      <td>0</td>\n",
       "      <td>0.000000</td>\n",
       "      <td>-2.000000e-08</td>\n",
       "      <td>Lake Victoria</td>\n",
       "      <td>Shinyanga</td>\n",
       "      <td>handpump</td>\n",
       "      <td>user-group</td>\n",
       "      <td>unknown</td>\n",
       "      <td>unknown</td>\n",
       "      <td>groundwater</td>\n",
       "      <td>hand pump</td>\n",
       "      <td>functional</td>\n",
       "    </tr>\n",
       "  </tbody>\n",
       "</table>\n",
       "</div>"
      ],
      "text/plain": [
       "    gps_height  longitude      latitude          basin     region  \\\n",
       "1         1399  34.698766 -2.147466e+00  Lake Victoria       Mara   \n",
       "4            0  31.130847 -1.825359e+00  Lake Victoria     Kagera   \n",
       "9            0  30.626991 -1.257051e+00  Lake Victoria     Kagera   \n",
       "18        1162  32.920154 -1.947868e+00  Lake Victoria     Mwanza   \n",
       "21           0   0.000000 -2.000000e-08  Lake Victoria  Shinyanga   \n",
       "\n",
       "   extraction_type_class management_group    payment quality_group  \\\n",
       "1                gravity       user-group  never pay          good   \n",
       "4                gravity            other  never pay          good   \n",
       "9               handpump       user-group  never pay          good   \n",
       "18                 other       user-group  never pay         milky   \n",
       "21              handpump       user-group    unknown       unknown   \n",
       "\n",
       "   source_class waterpoint_type_group             status_group  \n",
       "1       surface    communal standpipe               functional  \n",
       "4       surface    communal standpipe               functional  \n",
       "9   groundwater             hand pump               functional  \n",
       "18  groundwater                 other  functional needs repair  \n",
       "21  groundwater             hand pump               functional  "
      ]
     },
     "execution_count": 13,
     "metadata": {},
     "output_type": "execute_result"
    }
   ],
   "source": [
    "# dropping any wells that are not located in the Lake Victoria basin (our stakeholder wants to focus on one region)\n",
    "df5 = df4.drop(df4.index[df4['basin'] != 'Lake Victoria'])\n",
    "df5.head()"
   ]
  },
  {
   "cell_type": "code",
   "execution_count": 14,
   "id": "b7657b6f-3584-47ba-b226-5b79c5219301",
   "metadata": {},
   "outputs": [],
   "source": [
    "# dropping the column 'basin' since we filtered for only datapoints in the Lake Victoria basin\n",
    "df5.drop(['basin'], axis=1, inplace = True)"
   ]
  },
  {
   "cell_type": "code",
   "execution_count": 15,
   "id": "6dc807b3-3f5f-4437-b44b-0697a021e88d",
   "metadata": {},
   "outputs": [],
   "source": [
    "# dropping any wells that are not a communal standpipe or hand pump\n",
    "fdf = df5[df5['waterpoint_type_group'].isin(['communal standpipe', 'hand pump'])]"
   ]
  },
  {
   "cell_type": "code",
   "execution_count": 16,
   "id": "be5c5343-5869-489a-95ce-988b306c802d",
   "metadata": {},
   "outputs": [
    {
     "name": "stdout",
     "output_type": "stream",
     "text": [
      "<class 'pandas.core.frame.DataFrame'>\n",
      "Index: 8330 entries, 1 to 59385\n",
      "Data columns (total 11 columns):\n",
      " #   Column                 Non-Null Count  Dtype  \n",
      "---  ------                 --------------  -----  \n",
      " 0   gps_height             8330 non-null   int64  \n",
      " 1   longitude              8330 non-null   float64\n",
      " 2   latitude               8330 non-null   float64\n",
      " 3   region                 8330 non-null   object \n",
      " 4   extraction_type_class  8330 non-null   object \n",
      " 5   management_group       8330 non-null   object \n",
      " 6   payment                8330 non-null   object \n",
      " 7   quality_group          8330 non-null   object \n",
      " 8   source_class           8330 non-null   object \n",
      " 9   waterpoint_type_group  8330 non-null   object \n",
      " 10  target                 8330 non-null   object \n",
      "dtypes: float64(2), int64(1), object(8)\n",
      "memory usage: 780.9+ KB\n"
     ]
    }
   ],
   "source": [
    "# renaming the column \"status_group\" to \"target\"\n",
    "fdf.rename(columns={\"status_group\": \"target\"}, inplace= True)\n",
    "fdf.info()"
   ]
  },
  {
   "cell_type": "code",
   "execution_count": 17,
   "id": "445de78d-eae3-4693-a890-11d1916ad878",
   "metadata": {},
   "outputs": [
    {
     "data": {
      "text/plain": [
       "target\n",
       "functional                 4527\n",
       "non functional             2967\n",
       "functional needs repair     836\n",
       "Name: count, dtype: int64"
      ]
     },
     "execution_count": 17,
     "metadata": {},
     "output_type": "execute_result"
    }
   ],
   "source": [
    "# Checking to see counts of each of our target values\n",
    "fdf['target'].value_counts()"
   ]
  },
  {
   "cell_type": "markdown",
   "id": "d68dc437-49dc-4ee2-be73-09ca60dd95d1",
   "metadata": {},
   "source": [
    "It was determined that wells categorized as \"functional needs repair\" should be grouped with wells that are non functional. Since this analysis assesses factors that contribute to a well functioning appropriately, if a well is in need of repair it is not useful for this analysis and likely not serving its community as effectively as it could be. "
   ]
  },
  {
   "cell_type": "code",
   "execution_count": 18,
   "id": "9234b46c-edc2-446b-8771-1dcb5576f965",
   "metadata": {},
   "outputs": [],
   "source": [
    "# changing any row that says \"functional needs repair\" to \"non functional\"\n",
    "fdf.replace({'target': {'functional needs repair': 'non functional'}}, inplace=True)"
   ]
  },
  {
   "cell_type": "code",
   "execution_count": 19,
   "id": "6d27f2c7-f5bc-4fa6-a94c-f853b98054e4",
   "metadata": {},
   "outputs": [
    {
     "data": {
      "text/plain": [
       "target\n",
       "functional        4527\n",
       "non functional    3803\n",
       "Name: count, dtype: int64"
      ]
     },
     "execution_count": 19,
     "metadata": {},
     "output_type": "execute_result"
    }
   ],
   "source": [
    "# sanity check\n",
    "fdf['target'].value_counts()"
   ]
  },
  {
   "cell_type": "code",
   "execution_count": 20,
   "id": "6e647dcb-7c1e-4e2e-9bc9-65d7686eaa14",
   "metadata": {},
   "outputs": [],
   "source": [
    "# changing our target columns to be numeric instead of categorical\n",
    "fdf.replace({'target': {'functional': '1'}}, inplace=True)\n",
    "fdf.replace({'target': {'non functional': '0'}}, inplace=True)"
   ]
  },
  {
   "cell_type": "code",
   "execution_count": 21,
   "id": "f896cf17-fa6f-4ac4-af41-fc83d7ab2e11",
   "metadata": {},
   "outputs": [
    {
     "data": {
      "text/plain": [
       "target\n",
       "1    4527\n",
       "0    3803\n",
       "Name: count, dtype: int64"
      ]
     },
     "execution_count": 21,
     "metadata": {},
     "output_type": "execute_result"
    }
   ],
   "source": [
    "# sanity check\n",
    "fdf['target'].value_counts()"
   ]
  },
  {
   "cell_type": "markdown",
   "id": "97ce8541-fc0b-480e-9c57-d42e837b0a58",
   "metadata": {},
   "source": [
    "The next step was to look at each of the remaining columns individually to determine its contents."
   ]
  },
  {
   "cell_type": "code",
   "execution_count": 22,
   "id": "21b29e97-6fa4-425f-8913-fc07f442f449",
   "metadata": {},
   "outputs": [
    {
     "data": {
      "text/plain": [
       "count    8330.000000\n",
       "mean      343.155582\n",
       "std       589.799612\n",
       "min         0.000000\n",
       "25%         0.000000\n",
       "50%         0.000000\n",
       "75%      1145.000000\n",
       "max      2056.000000\n",
       "Name: gps_height, dtype: float64"
      ]
     },
     "execution_count": 22,
     "metadata": {},
     "output_type": "execute_result"
    }
   ],
   "source": [
    "fdf['gps_height'].describe()"
   ]
  },
  {
   "cell_type": "code",
   "execution_count": 23,
   "id": "3496797c-8028-4d54-bed5-083dccd8ac4f",
   "metadata": {},
   "outputs": [
    {
     "data": {
      "text/plain": [
       "count    8330.000000\n",
       "mean       26.843877\n",
       "std        12.726143\n",
       "min         0.000000\n",
       "25%        30.824277\n",
       "50%        32.763739\n",
       "75%        33.671843\n",
       "max        35.511809\n",
       "Name: longitude, dtype: float64"
      ]
     },
     "execution_count": 23,
     "metadata": {},
     "output_type": "execute_result"
    }
   ],
   "source": [
    "fdf['longitude'].describe()"
   ]
  },
  {
   "cell_type": "code",
   "execution_count": 24,
   "id": "e6f7ee7e-ff12-4bbf-8701-7aa605fbfd7b",
   "metadata": {},
   "outputs": [
    {
     "data": {
      "text/plain": [
       "count    8.330000e+03\n",
       "mean    -1.817385e+00\n",
       "std      1.051853e+00\n",
       "min     -3.926611e+00\n",
       "25%     -2.687290e+00\n",
       "50%     -1.855223e+00\n",
       "75%     -1.301407e+00\n",
       "max     -2.000000e-08\n",
       "Name: latitude, dtype: float64"
      ]
     },
     "execution_count": 24,
     "metadata": {},
     "output_type": "execute_result"
    }
   ],
   "source": [
    "fdf['latitude'].describe()"
   ]
  },
  {
   "cell_type": "code",
   "execution_count": 25,
   "id": "f4cb1ed9-da41-4e06-8907-19ddbe3367ee",
   "metadata": {},
   "outputs": [
    {
     "data": {
      "text/plain": [
       "region\n",
       "Mwanza       2389\n",
       "Kagera       2289\n",
       "Shinyanga    1896\n",
       "Mara         1724\n",
       "Arusha         32\n",
       "Name: count, dtype: int64"
      ]
     },
     "execution_count": 25,
     "metadata": {},
     "output_type": "execute_result"
    }
   ],
   "source": [
    "fdf['region'].value_counts()"
   ]
  },
  {
   "cell_type": "code",
   "execution_count": 26,
   "id": "4328b9c5-63eb-4fcf-89a7-3738d9829618",
   "metadata": {},
   "outputs": [
    {
     "data": {
      "text/plain": [
       "extraction_type_class\n",
       "handpump        4989\n",
       "gravity         2053\n",
       "submersible      523\n",
       "other            291\n",
       "motorpump        290\n",
       "rope pump        182\n",
       "wind-powered       2\n",
       "Name: count, dtype: int64"
      ]
     },
     "execution_count": 26,
     "metadata": {},
     "output_type": "execute_result"
    }
   ],
   "source": [
    "fdf['extraction_type_class'].value_counts()"
   ]
  },
  {
   "cell_type": "code",
   "execution_count": 27,
   "id": "39e7e78d-6c88-4bea-b61e-48c14f4fd216",
   "metadata": {},
   "outputs": [
    {
     "data": {
      "text/plain": [
       "management_group\n",
       "user-group    7337\n",
       "other          356\n",
       "parastatal     328\n",
       "commercial     227\n",
       "unknown         82\n",
       "Name: count, dtype: int64"
      ]
     },
     "execution_count": 27,
     "metadata": {},
     "output_type": "execute_result"
    }
   ],
   "source": [
    "fdf['management_group'].value_counts()"
   ]
  },
  {
   "cell_type": "code",
   "execution_count": 28,
   "id": "9351b742-b225-40eb-84dd-b7aeafdab11a",
   "metadata": {},
   "outputs": [
    {
     "data": {
      "text/plain": [
       "payment\n",
       "never pay                5199\n",
       "unknown                  1259\n",
       "pay monthly               556\n",
       "pay per bucket            409\n",
       "other                     406\n",
       "pay when scheme fails     292\n",
       "pay annually              209\n",
       "Name: count, dtype: int64"
      ]
     },
     "execution_count": 28,
     "metadata": {},
     "output_type": "execute_result"
    }
   ],
   "source": [
    "fdf['payment'].value_counts()"
   ]
  },
  {
   "cell_type": "code",
   "execution_count": 29,
   "id": "a294608c-df91-491e-bb7d-731df0236204",
   "metadata": {},
   "outputs": [
    {
     "data": {
      "text/plain": [
       "quality_group\n",
       "good        6976\n",
       "salty        941\n",
       "unknown      303\n",
       "milky         70\n",
       "colored       31\n",
       "fluoride       9\n",
       "Name: count, dtype: int64"
      ]
     },
     "execution_count": 29,
     "metadata": {},
     "output_type": "execute_result"
    }
   ],
   "source": [
    "fdf['quality_group'].value_counts()"
   ]
  },
  {
   "cell_type": "code",
   "execution_count": 30,
   "id": "ec7cc5ba-d769-4fbb-9d99-02057be9c89c",
   "metadata": {},
   "outputs": [
    {
     "data": {
      "text/plain": [
       "source_class\n",
       "groundwater    6737\n",
       "surface        1578\n",
       "unknown          15\n",
       "Name: count, dtype: int64"
      ]
     },
     "execution_count": 30,
     "metadata": {},
     "output_type": "execute_result"
    }
   ],
   "source": [
    "fdf['source_class'].value_counts()"
   ]
  },
  {
   "cell_type": "code",
   "execution_count": 31,
   "id": "9b0df716-7e5d-4a27-ba29-a3524997d425",
   "metadata": {},
   "outputs": [
    {
     "data": {
      "text/plain": [
       "waterpoint_type_group\n",
       "hand pump             5269\n",
       "communal standpipe    3061\n",
       "Name: count, dtype: int64"
      ]
     },
     "execution_count": 31,
     "metadata": {},
     "output_type": "execute_result"
    }
   ],
   "source": [
    "fdf['waterpoint_type_group'].value_counts()"
   ]
  },
  {
   "cell_type": "markdown",
   "id": "b92897f1-4d76-4244-9134-e9d900e445f3",
   "metadata": {},
   "source": [
    "Next, there were multiple features to engineer. Domain knowledge was used to group together classes based on similar qualities. "
   ]
  },
  {
   "cell_type": "code",
   "execution_count": 32,
   "id": "7d83b740-bffa-46b9-a37a-01b0b9ef9761",
   "metadata": {},
   "outputs": [
    {
     "data": {
      "text/plain": [
       "extraction_type_class\n",
       "manual        5171\n",
       "other         2346\n",
       "mechanical     813\n",
       "Name: count, dtype: int64"
      ]
     },
     "execution_count": 32,
     "metadata": {},
     "output_type": "execute_result"
    }
   ],
   "source": [
    "# creating groups for extraction_type_class\n",
    "fdf.replace({'extraction_type_class': {'handpump': 'manual'}}, inplace=True)\n",
    "fdf.replace({'extraction_type_class': {'gravity': 'other'}}, inplace=True)\n",
    "fdf.replace({'extraction_type_class': {'submersible': 'mechanical'}}, inplace=True)\n",
    "fdf.replace({'extraction_type_class': {'motorpump': 'mechanical'}}, inplace=True)\n",
    "fdf.replace({'extraction_type_class': {'rope pump': 'manual'}}, inplace=True)\n",
    "fdf.replace({'extraction_type_class': {'wind-powered': 'other'}}, inplace=True)\n",
    "# sanity check\n",
    "fdf['extraction_type_class'].value_counts()"
   ]
  },
  {
   "cell_type": "code",
   "execution_count": 33,
   "id": "188faab3-baa3-4def-9761-e6e94bb8ecf8",
   "metadata": {},
   "outputs": [
    {
     "data": {
      "text/plain": [
       "quality_group\n",
       "good       6976\n",
       "other      1051\n",
       "unknown     303\n",
       "Name: count, dtype: int64"
      ]
     },
     "execution_count": 33,
     "metadata": {},
     "output_type": "execute_result"
    }
   ],
   "source": [
    "# creating groups for quality_group\n",
    "fdf.replace({'quality_group': {'salty': 'other'}}, inplace=True)\n",
    "fdf.replace({'quality_group': {'milky': 'other'}}, inplace=True)\n",
    "fdf.replace({'quality_group': {'colored': 'other'}}, inplace=True)\n",
    "fdf.replace({'quality_group': {'fluoride': 'other'}}, inplace=True)\n",
    "# sanity check\n",
    "fdf['quality_group'].value_counts()"
   ]
  },
  {
   "cell_type": "code",
   "execution_count": 34,
   "id": "9c140140-0f3c-445e-9039-c4a464800432",
   "metadata": {},
   "outputs": [
    {
     "data": {
      "text/plain": [
       "payment\n",
       "never pay    5199\n",
       "other        1872\n",
       "unknown      1259\n",
       "Name: count, dtype: int64"
      ]
     },
     "execution_count": 34,
     "metadata": {},
     "output_type": "execute_result"
    }
   ],
   "source": [
    "# creating groups for payment\n",
    "fdf.replace({'payment': {'pay when scheme fails': 'other'}}, inplace=True)\n",
    "fdf.replace({'payment': {'pay monthly': 'other'}}, inplace=True)\n",
    "fdf.replace({'payment': {'pay per bucket': 'other'}}, inplace=True)\n",
    "fdf.replace({'payment': {'pay annually': 'other'}}, inplace=True)\n",
    "# sanity check\n",
    "fdf['payment'].value_counts()"
   ]
  },
  {
   "cell_type": "markdown",
   "id": "9cd9a2cc-6c14-4375-b2af-a035d8aeaefb",
   "metadata": {},
   "source": [
    "Next, we continued our data exploration by creating multiple visuals."
   ]
  },
  {
   "cell_type": "code",
   "execution_count": 35,
   "id": "5a96a58b-cf4f-4000-af9c-84a78639b2e8",
   "metadata": {},
   "outputs": [
    {
     "data": {
      "image/png": "[encoded data removed]",
      "text/plain": [
       "<seaborn._core.plot.Plot at 0x15d107f10>"
      ]
     },
     "execution_count": 35,
     "metadata": {
      "image/png": {
       "height": 556.25,
       "width": 840
      }
     },
     "output_type": "execute_result"
    }
   ],
   "source": [
    "# comparing our target by region\n",
    "\n",
    "#makes the plot bigger\n",
    "so.Plot.config.display[\"scaling\"] = 1.25\n",
    "\n",
    "# the plot\n",
    "so.Plot(fdf, x=\"region\", color=\"target\").add(so.Bar(), so.Count(), so.Stack())"
   ]
  },
  {
   "cell_type": "code",
   "execution_count": 36,
   "id": "ac8c4d78-0f3b-4582-b8e2-8f37e3f5a4fb",
   "metadata": {},
   "outputs": [
    {
     "name": "stdout",
     "output_type": "stream",
     "text": [
      "Functioning Wells % by\n",
      "region\n",
      "Mwanza       30.594213\n",
      "Shinyanga    25.601944\n",
      "Kagera       25.226419\n",
      "Mara         18.113541\n",
      "Arusha        0.463883\n",
      "Name: proportion, dtype: float64\n",
      "___________\n",
      "Nonfunctioning Wells % by\n",
      "region\n",
      "Kagera       30.160400\n",
      "Mwanza       26.400210\n",
      "Mara         23.770707\n",
      "Shinyanga    19.379437\n",
      "Arusha        0.289245\n",
      "Name: proportion, dtype: float64\n"
     ]
    }
   ],
   "source": [
    "# comparing percentages of functioning vs nonfunctioning by extraction type class\n",
    "print('Functioning Wells % by')\n",
    "print(fdf[\"region\"].loc[fdf['target'] == '1'].value_counts(normalize=True) * 100)\n",
    "print('___________')\n",
    "print('Nonfunctioning Wells % by')\n",
    "print(fdf[\"region\"].loc[fdf['target'] == '0'].value_counts(normalize=True) * 100)"
   ]
  },
  {
   "cell_type": "code",
   "execution_count": 37,
   "id": "c7afd233-7628-4200-b760-4406d1b75e4f",
   "metadata": {},
   "outputs": [
    {
     "data": {
      "image/png": "[encoded data removed]",
      "text/plain": [
       "<seaborn._core.plot.Plot at 0x15d198ca0>"
      ]
     },
     "execution_count": 37,
     "metadata": {
      "image/png": {
       "height": 556.25,
       "width": 840
      }
     },
     "output_type": "execute_result"
    }
   ],
   "source": [
    "# comparing our target by extraction type\n",
    "so.Plot(fdf, y=\"extraction_type_class\", color=\"target\").add(so.Bar(), so.Count(), so.Stack())"
   ]
  },
  {
   "cell_type": "code",
   "execution_count": 38,
   "id": "b0fd905b-92e8-4f47-b3da-38ae1631ec40",
   "metadata": {},
   "outputs": [
    {
     "name": "stdout",
     "output_type": "stream",
     "text": [
      "Functioning Wells % by\n",
      "extraction_type_class\n",
      "manual        72.697150\n",
      "other         21.515352\n",
      "mechanical     5.787497\n",
      "Name: proportion, dtype: float64\n",
      "___________\n",
      "Nonfunctioning Wells % by\n",
      "extraction_type_class\n",
      "manual        49.434657\n",
      "other         36.076781\n",
      "mechanical    14.488562\n",
      "Name: proportion, dtype: float64\n"
     ]
    }
   ],
   "source": [
    "# comparing percentages of functioning vs nonfunctioning by extraction type class\n",
    "print('Functioning Wells % by')\n",
    "print(fdf[\"extraction_type_class\"].loc[fdf['target'] == '1'].value_counts(normalize=True) * 100)\n",
    "print('___________')\n",
    "print('Nonfunctioning Wells % by')\n",
    "print(fdf[\"extraction_type_class\"].loc[fdf['target'] == '0'].value_counts(normalize=True) * 100)"
   ]
  },
  {
   "cell_type": "code",
   "execution_count": 39,
   "id": "08f15a6c-a76b-49dd-91c6-37a44c1492ef",
   "metadata": {},
   "outputs": [
    {
     "data": {
      "image/png": "[encoded data removed]",
      "text/plain": [
       "<seaborn._core.plot.Plot at 0x15d2b6b20>"
      ]
     },
     "execution_count": 39,
     "metadata": {
      "image/png": {
       "height": 556.25,
       "width": 840
      }
     },
     "output_type": "execute_result"
    }
   ],
   "source": [
    "# comparing payment method and target\n",
    "so.Plot(fdf, y=\"payment\", color=\"target\").add(so.Bar(), so.Count(), so.Stack())"
   ]
  },
  {
   "cell_type": "code",
   "execution_count": 40,
   "id": "7577305c-e2b0-446e-9a4f-051bcc70277a",
   "metadata": {},
   "outputs": [
    {
     "data": {
      "image/png": "[encoded data removed]",
      "text/plain": [
       "<seaborn._core.plot.Plot at 0x15d350ee0>"
      ]
     },
     "execution_count": 40,
     "metadata": {
      "image/png": {
       "height": 556.25,
       "width": 840
      }
     },
     "output_type": "execute_result"
    }
   ],
   "source": [
    "# comparing waterpoint type and target\n",
    "so.Plot(fdf, x=\"waterpoint_type_group\", color=\"target\").add(so.Bar(), so.Count(), so.Stack())"
   ]
  },
  {
   "cell_type": "code",
   "execution_count": 41,
   "id": "a7474092-cd29-4416-9305-8fd42c35d3a6",
   "metadata": {},
   "outputs": [
    {
     "name": "stdout",
     "output_type": "stream",
     "text": [
      "Functioning Wells % by\n",
      "waterpoint_type_group\n",
      "hand pump             73.514469\n",
      "communal standpipe    26.485531\n",
      "Name: proportion, dtype: float64\n",
      "___________\n",
      "Nonfunctioning Wells % by\n",
      "waterpoint_type_group\n",
      "hand pump             51.038654\n",
      "communal standpipe    48.961346\n",
      "Name: proportion, dtype: float64\n"
     ]
    }
   ],
   "source": [
    "# comparing percentages of functioning vs nonfunctioning by extraction type class\n",
    "print('Functioning Wells % by')\n",
    "print(fdf[\"waterpoint_type_group\"].loc[fdf['target'] == '1'].value_counts(normalize=True) * 100)\n",
    "print('___________')\n",
    "print('Nonfunctioning Wells % by')\n",
    "print(fdf[\"waterpoint_type_group\"].loc[fdf['target'] == '0'].value_counts(normalize=True) * 100)"
   ]
  },
  {
   "cell_type": "code",
   "execution_count": 42,
   "id": "3fee4760-5f3c-4c62-a77a-04dc4609e3f3",
   "metadata": {},
   "outputs": [
    {
     "data": {
      "image/png": "[encoded data removed]",
      "text/plain": [
       "<seaborn._core.plot.Plot at 0x15d060490>"
      ]
     },
     "execution_count": 42,
     "metadata": {
      "image/png": {
       "height": 556.25,
       "width": 840
      }
     },
     "output_type": "execute_result"
    }
   ],
   "source": [
    "# comparing quality group and target\n",
    "so.Plot(fdf, x=\"quality_group\", color=\"target\").add(so.Bar(), so.Count(), so.Stack())"
   ]
  },
  {
   "cell_type": "code",
   "execution_count": 43,
   "id": "ab141d3e-c5a7-407e-8181-b7775a5852de",
   "metadata": {},
   "outputs": [
    {
     "name": "stdout",
     "output_type": "stream",
     "text": [
      "Functioning Wells % by\n",
      "quality_group\n",
      "good       84.824387\n",
      "other      13.474707\n",
      "unknown     1.700906\n",
      "Name: proportion, dtype: float64\n",
      "___________\n",
      "Nonfunctioning Wells % by\n",
      "quality_group\n",
      "good       82.461215\n",
      "other      11.596108\n",
      "unknown     5.942677\n",
      "Name: proportion, dtype: float64\n"
     ]
    }
   ],
   "source": [
    "# comparing percentages of functioning vs nonfunctioning by extraction type class\n",
    "print('Functioning Wells % by')\n",
    "print(fdf[\"quality_group\"].loc[fdf['target'] == '1'].value_counts(normalize=True) * 100)\n",
    "print('___________')\n",
    "print('Nonfunctioning Wells % by')\n",
    "print(fdf[\"quality_group\"].loc[fdf['target'] == '0'].value_counts(normalize=True) * 100)"
   ]
  },
  {
   "cell_type": "markdown",
   "id": "97c35397-4c9a-4b7c-bf19-b3e5c5d1b2b2",
   "metadata": {},
   "source": [
    "## EDA Part 2 - Statistical Analysis"
   ]
  },
  {
   "cell_type": "markdown",
   "id": "c72b3d60-0810-4623-a182-4a9b10d300bd",
   "metadata": {},
   "source": [
    "After initial EDA, statistical tests were performed to see if any variables are highly correlated. Pearson's correlation was performed on numeric variables. For comparing categorical variables, a Chi-Squared test of independence was used. Using domain knowledge, it was likely that extraction type, source of the water, and the type of well (waterpoint type) might be related. These variables were likely dependent on one another, which would result in multicollinearity in the model. However, despite their significance, it was determined that extraction type, source of the water, and waterpoint type were important features for the stakeholder to consider."
   ]
  },
  {
   "cell_type": "code",
   "execution_count": 44,
   "id": "0431ef17-2a1f-4f1e-9a3a-97267f8e007e",
   "metadata": {},
   "outputs": [
    {
     "data": {
      "text/html": [
       "<div>\n",
       "<style scoped>\n",
       "    .dataframe tbody tr th:only-of-type {\n",
       "        vertical-align: middle;\n",
       "    }\n",
       "\n",
       "    .dataframe tbody tr th {\n",
       "        vertical-align: top;\n",
       "    }\n",
       "\n",
       "    .dataframe thead th {\n",
       "        text-align: right;\n",
       "    }\n",
       "</style>\n",
       "<table border=\"1\" class=\"dataframe\">\n",
       "  <thead>\n",
       "    <tr style=\"text-align: right;\">\n",
       "      <th></th>\n",
       "      <th>gps_height</th>\n",
       "      <th>longitude</th>\n",
       "      <th>latitude</th>\n",
       "    </tr>\n",
       "  </thead>\n",
       "  <tbody>\n",
       "    <tr>\n",
       "      <th>gps_height</th>\n",
       "      <td>1.000000</td>\n",
       "      <td>0.332200</td>\n",
       "      <td>-0.022864</td>\n",
       "    </tr>\n",
       "    <tr>\n",
       "      <th>longitude</th>\n",
       "      <td>0.332200</td>\n",
       "      <td>1.000000</td>\n",
       "      <td>-0.821219</td>\n",
       "    </tr>\n",
       "    <tr>\n",
       "      <th>latitude</th>\n",
       "      <td>-0.022864</td>\n",
       "      <td>-0.821219</td>\n",
       "      <td>1.000000</td>\n",
       "    </tr>\n",
       "  </tbody>\n",
       "</table>\n",
       "</div>"
      ],
      "text/plain": [
       "            gps_height  longitude  latitude\n",
       "gps_height    1.000000   0.332200 -0.022864\n",
       "longitude     0.332200   1.000000 -0.821219\n",
       "latitude     -0.022864  -0.821219  1.000000"
      ]
     },
     "execution_count": 44,
     "metadata": {},
     "output_type": "execute_result"
    }
   ],
   "source": [
    "# looking for correlations in our numeric variables\n",
    "fdf.corr(method='pearson', numeric_only=True)"
   ]
  },
  {
   "cell_type": "code",
   "execution_count": 45,
   "id": "f6faa877-5376-4ca8-aa31-d76e062b5722",
   "metadata": {},
   "outputs": [
    {
     "name": "stdout",
     "output_type": "stream",
     "text": [
      "source_class           groundwater  surface  unknown\n",
      "extraction_type_class                               \n",
      "manual                        5146       20        5\n",
      "mechanical                     396      416        1\n",
      "other                         1195     1142        9\n",
      "Chi-square statistic: 3074.33292231809\n",
      "p-value: 0.0\n"
     ]
    }
   ],
   "source": [
    "# comparing extraction type and source\n",
    "homogeneity_table1 = pd.crosstab(fdf[\"extraction_type_class\"], fdf[\"source_class\"])\n",
    "print(homogeneity_table1)\n",
    "\n",
    "# performing chi-squared\n",
    "chi2, p, dof, ex = stats.chi2_contingency(homogeneity_table1)\n",
    "\n",
    "print(\"Chi-square statistic:\", chi2)\n",
    "print(\"p-value:\", p)"
   ]
  },
  {
   "cell_type": "code",
   "execution_count": 46,
   "id": "30f1a9a3-d486-40da-97ea-9c366d40c9da",
   "metadata": {},
   "outputs": [
    {
     "name": "stdout",
     "output_type": "stream",
     "text": [
      "source_class           groundwater  surface  unknown\n",
      "waterpoint_type_group                               \n",
      "communal standpipe            1513     1543        5\n",
      "hand pump                     5224       35       10\n",
      "Chi-square statistic: 3120.9459742088507\n",
      "p-value: 0.0\n"
     ]
    }
   ],
   "source": [
    "# comparing waterpoint type and source class\n",
    "homogeneity_table2 = pd.crosstab(fdf[\"waterpoint_type_group\"], fdf[\"source_class\"])\n",
    "print(homogeneity_table2)\n",
    "\n",
    "# performing chi-squared\n",
    "chi2, p, dof, ex = stats.chi2_contingency(homogeneity_table2)\n",
    "\n",
    "print(\"Chi-square statistic:\", chi2)\n",
    "print(\"p-value:\", p)"
   ]
  },
  {
   "cell_type": "code",
   "execution_count": 47,
   "id": "b716e2eb-74ec-435e-b952-877821b6f7c7",
   "metadata": {},
   "outputs": [
    {
     "name": "stdout",
     "output_type": "stream",
     "text": [
      "waterpoint_type_group  communal standpipe  hand pump\n",
      "extraction_type_class                               \n",
      "manual                                 63       5108\n",
      "mechanical                            803         10\n",
      "other                                2195        151\n",
      "Chi-square statistic: 7411.935370052781\n",
      "p-value: 0.0\n"
     ]
    }
   ],
   "source": [
    "# comparing extraction type and waterpoint type\n",
    "homogeneity_table3 = pd.crosstab(fdf[\"extraction_type_class\"], fdf[\"waterpoint_type_group\"])\n",
    "print(homogeneity_table3)\n",
    "\n",
    "# performing chi-squared\n",
    "chi2, p, dof, ex = stats.chi2_contingency(homogeneity_table3)\n",
    "\n",
    "print(\"Chi-square statistic:\", chi2)\n",
    "print(\"p-value:\", p)"
   ]
  },
  {
   "cell_type": "markdown",
   "id": "19c4615f-e4dd-4bf5-bedc-088b1a4d93d0",
   "metadata": {},
   "source": [
    "# Training the Model"
   ]
  },
  {
   "cell_type": "markdown",
   "id": "e47c6507-817c-4914-8cc7-d54e9e04e152",
   "metadata": {},
   "source": [
    "## Performing Train-Test Split"
   ]
  },
  {
   "cell_type": "markdown",
   "id": "e2054088-87c8-4fc7-88b3-f165b786e3e2",
   "metadata": {},
   "source": [
    "After EDA was complete, the data was split into a training and testing set to ensure no data leakage. This was before performing any preprocessing steps. \n",
    "\n",
    "Latitude, longitude, and gps height (aka altitude) would likely be highly multicollinear, and also did not seem relevant for the scope of this analysis, and therefore were left out of the training and testing data."
   ]
  },
  {
   "cell_type": "code",
   "execution_count": 48,
   "id": "d311d177-28a0-44ee-ac85-9bc7f55bbd27",
   "metadata": {},
   "outputs": [],
   "source": [
    "# train-test split\n",
    "\n",
    "X = fdf.drop([\"target\", \"latitude\", \"longitude\", \"gps_height\"], axis=1)\n",
    "y = fdf[\"target\"]\n",
    "X_train, X_test, y_train, y_test = train_test_split(X, y, random_state=42, stratify=y)"
   ]
  },
  {
   "cell_type": "code",
   "execution_count": 49,
   "id": "aa7fe00c-9d21-4c5a-ab12-5d34315dcc85",
   "metadata": {},
   "outputs": [
    {
     "data": {
      "text/plain": [
       "(6247, 7)"
      ]
     },
     "execution_count": 49,
     "metadata": {},
     "output_type": "execute_result"
    }
   ],
   "source": [
    "# checking the shapes to make sure they look correct\n",
    "X_train.shape"
   ]
  },
  {
   "cell_type": "code",
   "execution_count": 50,
   "id": "8db3ce99-a53e-4e27-ae97-b10b31451e8e",
   "metadata": {},
   "outputs": [
    {
     "data": {
      "text/plain": [
       "(6247,)"
      ]
     },
     "execution_count": 50,
     "metadata": {},
     "output_type": "execute_result"
    }
   ],
   "source": [
    "# checking the shapes to make sure they look correct\n",
    "y_train.shape"
   ]
  },
  {
   "cell_type": "code",
   "execution_count": 51,
   "id": "3547c864-4eb5-4a04-80e7-6dff3923d8c8",
   "metadata": {},
   "outputs": [
    {
     "data": {
      "text/plain": [
       "(2083, 7)"
      ]
     },
     "execution_count": 51,
     "metadata": {},
     "output_type": "execute_result"
    }
   ],
   "source": [
    "# checking the shapes to make sure they look correct\n",
    "X_test.shape"
   ]
  },
  {
   "cell_type": "code",
   "execution_count": 52,
   "id": "5cd2234a-365b-4aad-ae77-63ad840d85c5",
   "metadata": {},
   "outputs": [
    {
     "data": {
      "text/plain": [
       "(2083,)"
      ]
     },
     "execution_count": 52,
     "metadata": {},
     "output_type": "execute_result"
    }
   ],
   "source": [
    "# checking the shapes to make sure they look correct\n",
    "y_test.shape"
   ]
  },
  {
   "cell_type": "code",
   "execution_count": 53,
   "id": "8babb41e-d821-47ed-ae43-7057df5160e6",
   "metadata": {},
   "outputs": [
    {
     "name": "stdout",
     "output_type": "stream",
     "text": [
      "<class 'pandas.core.frame.DataFrame'>\n",
      "Index: 6247 entries, 3438 to 23277\n",
      "Data columns (total 7 columns):\n",
      " #   Column                 Non-Null Count  Dtype \n",
      "---  ------                 --------------  ----- \n",
      " 0   region                 6247 non-null   object\n",
      " 1   extraction_type_class  6247 non-null   object\n",
      " 2   management_group       6247 non-null   object\n",
      " 3   payment                6247 non-null   object\n",
      " 4   quality_group          6247 non-null   object\n",
      " 5   source_class           6247 non-null   object\n",
      " 6   waterpoint_type_group  6247 non-null   object\n",
      "dtypes: object(7)\n",
      "memory usage: 390.4+ KB\n"
     ]
    }
   ],
   "source": [
    "# making sure we have the variables we need\n",
    "X_train.info()"
   ]
  },
  {
   "cell_type": "markdown",
   "id": "641a4413-47e0-4d45-bc6c-2025219fe902",
   "metadata": {},
   "source": [
    "## Preprocessing"
   ]
  },
  {
   "cell_type": "markdown",
   "id": "3f94ad9b-3445-48e8-bcd0-e581229883c9",
   "metadata": {},
   "source": [
    "The first preprocessing step was performing One Hot Encoding. Since all of the relevant variables are categorical and no values were missing, this was relatively straightforward. "
   ]
  },
  {
   "cell_type": "code",
   "execution_count": 54,
   "id": "c4781f0e-2a25-4ecc-8cd5-b9e5803e1b49",
   "metadata": {},
   "outputs": [
    {
     "name": "stdout",
     "output_type": "stream",
     "text": [
      "<class 'pandas.core.frame.DataFrame'>\n",
      "RangeIndex: 6247 entries, 0 to 6246\n",
      "Data columns (total 24 columns):\n",
      " #   Column                                    Non-Null Count  Dtype  \n",
      "---  ------                                    --------------  -----  \n",
      " 0   region_Arusha                             6247 non-null   float64\n",
      " 1   region_Kagera                             6247 non-null   float64\n",
      " 2   region_Mara                               6247 non-null   float64\n",
      " 3   region_Mwanza                             6247 non-null   float64\n",
      " 4   region_Shinyanga                          6247 non-null   float64\n",
      " 5   extraction_type_class_manual              6247 non-null   float64\n",
      " 6   extraction_type_class_mechanical          6247 non-null   float64\n",
      " 7   extraction_type_class_other               6247 non-null   float64\n",
      " 8   management_group_commercial               6247 non-null   float64\n",
      " 9   management_group_other                    6247 non-null   float64\n",
      " 10  management_group_parastatal               6247 non-null   float64\n",
      " 11  management_group_unknown                  6247 non-null   float64\n",
      " 12  management_group_user-group               6247 non-null   float64\n",
      " 13  payment_never pay                         6247 non-null   float64\n",
      " 14  payment_other                             6247 non-null   float64\n",
      " 15  payment_unknown                           6247 non-null   float64\n",
      " 16  quality_group_good                        6247 non-null   float64\n",
      " 17  quality_group_other                       6247 non-null   float64\n",
      " 18  quality_group_unknown                     6247 non-null   float64\n",
      " 19  source_class_groundwater                  6247 non-null   float64\n",
      " 20  source_class_surface                      6247 non-null   float64\n",
      " 21  source_class_unknown                      6247 non-null   float64\n",
      " 22  waterpoint_type_group_communal standpipe  6247 non-null   float64\n",
      " 23  waterpoint_type_group_hand pump           6247 non-null   float64\n",
      "dtypes: float64(24)\n",
      "memory usage: 1.1 MB\n"
     ]
    }
   ],
   "source": [
    "# instantiate the OneHotEncoder\n",
    "ohe = OneHotEncoder()\n",
    "\n",
    "# fit the ohe on our training set\n",
    "ohe.fit(X_train)\n",
    "\n",
    "# transform columns and convert our encoded matrix back into a dataframe\n",
    "X_train_encoded = pd.DataFrame(ohe.transform(X_train).todense(),\n",
    "                               columns=ohe.get_feature_names_out())\n",
    "\n",
    "# sanity check\n",
    "X_train_encoded.info()"
   ]
  },
  {
   "cell_type": "markdown",
   "id": "2c2e7fd2-b62b-4a04-86ee-c2503adf74b6",
   "metadata": {},
   "source": [
    "## Baseline (Dummy) Model"
   ]
  },
  {
   "cell_type": "markdown",
   "id": "ae587f59-d049-4b99-b04b-91e684264b47",
   "metadata": {},
   "source": [
    "After performing our preprocessing, a baseline model was performed using SKLearn's Dummy Classifier to determine the value of the target that appears most frequently. "
   ]
  },
  {
   "cell_type": "code",
   "execution_count": 55,
   "id": "0ff03ec9-ae12-4100-b368-c05a69aa32bc",
   "metadata": {},
   "outputs": [
    {
     "data": {
      "text/plain": [
       "array(['1', '1', '1', '1', '1', '1', '1', '1', '1', '1'], dtype='<U1')"
      ]
     },
     "execution_count": 55,
     "metadata": {},
     "output_type": "execute_result"
    }
   ],
   "source": [
    "# Instantiate the model\n",
    "dummy_model = DummyClassifier(strategy=\"most_frequent\")\n",
    "\n",
    "# fitting the model to our newly encoded dataset\n",
    "dummy_model.fit(X_train_encoded, y_train)\n",
    "\n",
    "# predicting the first 10\n",
    "dummy_model.predict(X_train_encoded)[:10]"
   ]
  },
  {
   "cell_type": "markdown",
   "id": "de0729a0-a6c0-4a42-b3ca-0f25124acb5a",
   "metadata": {},
   "source": [
    "The target that appears most frequently is 1, which is representative of a functioning well. In order to double check this, it was important to look at the proportion of functioning to nonfunctioning wells in the training set, which validated that 1 appears most frequently. If the model were to predict 1 each time, it would be accurate 54% of the time. This serves as a good baseline to use as a comparison for the model. "
   ]
  },
  {
   "cell_type": "code",
   "execution_count": 56,
   "id": "d9cfc889-e14e-4066-826f-725cfe2aa4e0",
   "metadata": {},
   "outputs": [
    {
     "name": "stdout",
     "output_type": "stream",
     "text": [
      "target\n",
      "1    0.543461\n",
      "0    0.456539\n",
      "Name: proportion, dtype: float64\n"
     ]
    }
   ],
   "source": [
    "# checking the ratio of 1 to 0 in our training set\n",
    "print(y_train.value_counts(normalize=True))"
   ]
  },
  {
   "cell_type": "markdown",
   "id": "b1c1c650-e336-4b5f-bfa0-a6022d12ca58",
   "metadata": {},
   "source": [
    "# Preliminary Model 1"
   ]
  },
  {
   "cell_type": "markdown",
   "id": "e1738a91-4ee0-4c0c-b151-d91d7237157a",
   "metadata": {},
   "source": [
    "In order to further determine which predictors of the target are the strongest, a Decision Tree Classifier was used."
   ]
  },
  {
   "cell_type": "code",
   "execution_count": 57,
   "id": "55fdb6be-7710-46ea-bd65-550fd24e2efc",
   "metadata": {},
   "outputs": [
    {
     "data": {
      "image/png": "[encoded data removed]",
      "text/plain": [
       "<Figure size 2000x1500 with 1 Axes>"
      ]
     },
     "metadata": {},
     "output_type": "display_data"
    }
   ],
   "source": [
    "# instantiate tree\n",
    "tree = DecisionTreeClassifier(max_depth=3, random_state=42)\n",
    "\n",
    "# fit to our training set\n",
    "tree.fit(X_train_encoded, y_train)\n",
    "\n",
    "# plotting the figure\n",
    "plt.figure(figsize=(20,15))  # set plot size (denoted in inches)\n",
    "plot_tree(tree, fontsize=12)\n",
    "plt.show();"
   ]
  },
  {
   "cell_type": "markdown",
   "id": "58c0201b-55e7-432b-8969-413a29702319",
   "metadata": {},
   "source": [
    "Decision trees determine which variables are most significant in a model, and splits the data based on each variable. The further down the tree you go, the more \"pure\" each group becomes. The goal is to have the most \"pure\" group possible. \n",
    "\n",
    "The tree split first on extraction type, and then split on management group. The next split included payment method, waterpoint type (this is the type of well), and region."
   ]
  },
  {
   "cell_type": "markdown",
   "id": "08dd298f-7267-47ec-8060-c14fab98076f",
   "metadata": {},
   "source": [
    "Next, a logistic regression was performed to classify each well based on the predictors. Logistic Regression is an excellent model to use for classification. In this instance, a binary classification was performed to determine whether a well is functioning (1) or not functioning (0). \n",
    "\n",
    "Standard scaling was not necessary since all of the variables were categorical and already processed via one hot encoding. "
   ]
  },
  {
   "cell_type": "code",
   "execution_count": 58,
   "id": "b54f1df8-e619-469b-b15e-bbc075486c2b",
   "metadata": {},
   "outputs": [
    {
     "data": {
      "text/html": [
       "<style>#sk-container-id-1 {\n",
       "  /* Definition of color scheme common for light and dark mode */\n",
       "  --sklearn-color-text: black;\n",
       "  --sklearn-color-line: gray;\n",
       "  /* Definition of color scheme for unfitted estimators */\n",
       "  --sklearn-color-unfitted-level-0: #fff5e6;\n",
       "  --sklearn-color-unfitted-level-1: #f6e4d2;\n",
       "  --sklearn-color-unfitted-level-2: #ffe0b3;\n",
       "  --sklearn-color-unfitted-level-3: chocolate;\n",
       "  /* Definition of color scheme for fitted estimators */\n",
       "  --sklearn-color-fitted-level-0: #f0f8ff;\n",
       "  --sklearn-color-fitted-level-1: #d4ebff;\n",
       "  --sklearn-color-fitted-level-2: #b3dbfd;\n",
       "  --sklearn-color-fitted-level-3: cornflowerblue;\n",
       "\n",
       "  /* Specific color for light theme */\n",
       "  --sklearn-color-text-on-default-background: var(--sg-text-color, var(--theme-code-foreground, var(--jp-content-font-color1, black)));\n",
       "  --sklearn-color-background: var(--sg-background-color, var(--theme-background, var(--jp-layout-color0, white)));\n",
       "  --sklearn-color-border-box: var(--sg-text-color, var(--theme-code-foreground, var(--jp-content-font-color1, black)));\n",
       "  --sklearn-color-icon: #696969;\n",
       "\n",
       "  @media (prefers-color-scheme: dark) {\n",
       "    /* Redefinition of color scheme for dark theme */\n",
       "    --sklearn-color-text-on-default-background: var(--sg-text-color, var(--theme-code-foreground, var(--jp-content-font-color1, white)));\n",
       "    --sklearn-color-background: var(--sg-background-color, var(--theme-background, var(--jp-layout-color0, #111)));\n",
       "    --sklearn-color-border-box: var(--sg-text-color, var(--theme-code-foreground, var(--jp-content-font-color1, white)));\n",
       "    --sklearn-color-icon: #878787;\n",
       "  }\n",
       "}\n",
       "\n",
       "#sk-container-id-1 {\n",
       "  color: var(--sklearn-color-text);\n",
       "}\n",
       "\n",
       "#sk-container-id-1 pre {\n",
       "  padding: 0;\n",
       "}\n",
       "\n",
       "#sk-container-id-1 input.sk-hidden--visually {\n",
       "  border: 0;\n",
       "  clip: rect(1px 1px 1px 1px);\n",
       "  clip: rect(1px, 1px, 1px, 1px);\n",
       "  height: 1px;\n",
       "  margin: -1px;\n",
       "  overflow: hidden;\n",
       "  padding: 0;\n",
       "  position: absolute;\n",
       "  width: 1px;\n",
       "}\n",
       "\n",
       "#sk-container-id-1 div.sk-dashed-wrapped {\n",
       "  border: 1px dashed var(--sklearn-color-line);\n",
       "  margin: 0 0.4em 0.5em 0.4em;\n",
       "  box-sizing: border-box;\n",
       "  padding-bottom: 0.4em;\n",
       "  background-color: var(--sklearn-color-background);\n",
       "}\n",
       "\n",
       "#sk-container-id-1 div.sk-container {\n",
       "  /* jupyter's `normalize.less` sets `[hidden] { display: none; }`\n",
       "     but bootstrap.min.css set `[hidden] { display: none !important; }`\n",
       "     so we also need the `!important` here to be able to override the\n",
       "     default hidden behavior on the sphinx rendered scikit-learn.org.\n",
       "     See: https://github.com/scikit-learn/scikit-learn/issues/21755 */\n",
       "  display: inline-block !important;\n",
       "  position: relative;\n",
       "}\n",
       "\n",
       "#sk-container-id-1 div.sk-text-repr-fallback {\n",
       "  display: none;\n",
       "}\n",
       "\n",
       "div.sk-parallel-item,\n",
       "div.sk-serial,\n",
       "div.sk-item {\n",
       "  /* draw centered vertical line to link estimators */\n",
       "  background-image: linear-gradient(var(--sklearn-color-text-on-default-background), var(--sklearn-color-text-on-default-background));\n",
       "  background-size: 2px 100%;\n",
       "  background-repeat: no-repeat;\n",
       "  background-position: center center;\n",
       "}\n",
       "\n",
       "/* Parallel-specific style estimator block */\n",
       "\n",
       "#sk-container-id-1 div.sk-parallel-item::after {\n",
       "  content: \"\";\n",
       "  width: 100%;\n",
       "  border-bottom: 2px solid var(--sklearn-color-text-on-default-background);\n",
       "  flex-grow: 1;\n",
       "}\n",
       "\n",
       "#sk-container-id-1 div.sk-parallel {\n",
       "  display: flex;\n",
       "  align-items: stretch;\n",
       "  justify-content: center;\n",
       "  background-color: var(--sklearn-color-background);\n",
       "  position: relative;\n",
       "}\n",
       "\n",
       "#sk-container-id-1 div.sk-parallel-item {\n",
       "  display: flex;\n",
       "  flex-direction: column;\n",
       "}\n",
       "\n",
       "#sk-container-id-1 div.sk-parallel-item:first-child::after {\n",
       "  align-self: flex-end;\n",
       "  width: 50%;\n",
       "}\n",
       "\n",
       "#sk-container-id-1 div.sk-parallel-item:last-child::after {\n",
       "  align-self: flex-start;\n",
       "  width: 50%;\n",
       "}\n",
       "\n",
       "#sk-container-id-1 div.sk-parallel-item:only-child::after {\n",
       "  width: 0;\n",
       "}\n",
       "\n",
       "/* Serial-specific style estimator block */\n",
       "\n",
       "#sk-container-id-1 div.sk-serial {\n",
       "  display: flex;\n",
       "  flex-direction: column;\n",
       "  align-items: center;\n",
       "  background-color: var(--sklearn-color-background);\n",
       "  padding-right: 1em;\n",
       "  padding-left: 1em;\n",
       "}\n",
       "\n",
       "\n",
       "/* Toggleable style: style used for estimator/Pipeline/ColumnTransformer box that is\n",
       "clickable and can be expanded/collapsed.\n",
       "- Pipeline and ColumnTransformer use this feature and define the default style\n",
       "- Estimators will overwrite some part of the style using the `sk-estimator` class\n",
       "*/\n",
       "\n",
       "/* Pipeline and ColumnTransformer style (default) */\n",
       "\n",
       "#sk-container-id-1 div.sk-toggleable {\n",
       "  /* Default theme specific background. It is overwritten whether we have a\n",
       "  specific estimator or a Pipeline/ColumnTransformer */\n",
       "  background-color: var(--sklearn-color-background);\n",
       "}\n",
       "\n",
       "/* Toggleable label */\n",
       "#sk-container-id-1 label.sk-toggleable__label {\n",
       "  cursor: pointer;\n",
       "  display: block;\n",
       "  width: 100%;\n",
       "  margin-bottom: 0;\n",
       "  padding: 0.5em;\n",
       "  box-sizing: border-box;\n",
       "  text-align: center;\n",
       "}\n",
       "\n",
       "#sk-container-id-1 label.sk-toggleable__label-arrow:before {\n",
       "  /* Arrow on the left of the label */\n",
       "  content: \"▸\";\n",
       "  float: left;\n",
       "  margin-right: 0.25em;\n",
       "  color: var(--sklearn-color-icon);\n",
       "}\n",
       "\n",
       "#sk-container-id-1 label.sk-toggleable__label-arrow:hover:before {\n",
       "  color: var(--sklearn-color-text);\n",
       "}\n",
       "\n",
       "/* Toggleable content - dropdown */\n",
       "\n",
       "#sk-container-id-1 div.sk-toggleable__content {\n",
       "  max-height: 0;\n",
       "  max-width: 0;\n",
       "  overflow: hidden;\n",
       "  text-align: left;\n",
       "  /* unfitted */\n",
       "  background-color: var(--sklearn-color-unfitted-level-0);\n",
       "}\n",
       "\n",
       "#sk-container-id-1 div.sk-toggleable__content.fitted {\n",
       "  /* fitted */\n",
       "  background-color: var(--sklearn-color-fitted-level-0);\n",
       "}\n",
       "\n",
       "#sk-container-id-1 div.sk-toggleable__content pre {\n",
       "  margin: 0.2em;\n",
       "  border-radius: 0.25em;\n",
       "  color: var(--sklearn-color-text);\n",
       "  /* unfitted */\n",
       "  background-color: var(--sklearn-color-unfitted-level-0);\n",
       "}\n",
       "\n",
       "#sk-container-id-1 div.sk-toggleable__content.fitted pre {\n",
       "  /* unfitted */\n",
       "  background-color: var(--sklearn-color-fitted-level-0);\n",
       "}\n",
       "\n",
       "#sk-container-id-1 input.sk-toggleable__control:checked~div.sk-toggleable__content {\n",
       "  /* Expand drop-down */\n",
       "  max-height: 200px;\n",
       "  max-width: 100%;\n",
       "  overflow: auto;\n",
       "}\n",
       "\n",
       "#sk-container-id-1 input.sk-toggleable__control:checked~label.sk-toggleable__label-arrow:before {\n",
       "  content: \"▾\";\n",
       "}\n",
       "\n",
       "/* Pipeline/ColumnTransformer-specific style */\n",
       "\n",
       "#sk-container-id-1 div.sk-label input.sk-toggleable__control:checked~label.sk-toggleable__label {\n",
       "  color: var(--sklearn-color-text);\n",
       "  background-color: var(--sklearn-color-unfitted-level-2);\n",
       "}\n",
       "\n",
       "#sk-container-id-1 div.sk-label.fitted input.sk-toggleable__control:checked~label.sk-toggleable__label {\n",
       "  background-color: var(--sklearn-color-fitted-level-2);\n",
       "}\n",
       "\n",
       "/* Estimator-specific style */\n",
       "\n",
       "/* Colorize estimator box */\n",
       "#sk-container-id-1 div.sk-estimator input.sk-toggleable__control:checked~label.sk-toggleable__label {\n",
       "  /* unfitted */\n",
       "  background-color: var(--sklearn-color-unfitted-level-2);\n",
       "}\n",
       "\n",
       "#sk-container-id-1 div.sk-estimator.fitted input.sk-toggleable__control:checked~label.sk-toggleable__label {\n",
       "  /* fitted */\n",
       "  background-color: var(--sklearn-color-fitted-level-2);\n",
       "}\n",
       "\n",
       "#sk-container-id-1 div.sk-label label.sk-toggleable__label,\n",
       "#sk-container-id-1 div.sk-label label {\n",
       "  /* The background is the default theme color */\n",
       "  color: var(--sklearn-color-text-on-default-background);\n",
       "}\n",
       "\n",
       "/* On hover, darken the color of the background */\n",
       "#sk-container-id-1 div.sk-label:hover label.sk-toggleable__label {\n",
       "  color: var(--sklearn-color-text);\n",
       "  background-color: var(--sklearn-color-unfitted-level-2);\n",
       "}\n",
       "\n",
       "/* Label box, darken color on hover, fitted */\n",
       "#sk-container-id-1 div.sk-label.fitted:hover label.sk-toggleable__label.fitted {\n",
       "  color: var(--sklearn-color-text);\n",
       "  background-color: var(--sklearn-color-fitted-level-2);\n",
       "}\n",
       "\n",
       "/* Estimator label */\n",
       "\n",
       "#sk-container-id-1 div.sk-label label {\n",
       "  font-family: monospace;\n",
       "  font-weight: bold;\n",
       "  display: inline-block;\n",
       "  line-height: 1.2em;\n",
       "}\n",
       "\n",
       "#sk-container-id-1 div.sk-label-container {\n",
       "  text-align: center;\n",
       "}\n",
       "\n",
       "/* Estimator-specific */\n",
       "#sk-container-id-1 div.sk-estimator {\n",
       "  font-family: monospace;\n",
       "  border: 1px dotted var(--sklearn-color-border-box);\n",
       "  border-radius: 0.25em;\n",
       "  box-sizing: border-box;\n",
       "  margin-bottom: 0.5em;\n",
       "  /* unfitted */\n",
       "  background-color: var(--sklearn-color-unfitted-level-0);\n",
       "}\n",
       "\n",
       "#sk-container-id-1 div.sk-estimator.fitted {\n",
       "  /* fitted */\n",
       "  background-color: var(--sklearn-color-fitted-level-0);\n",
       "}\n",
       "\n",
       "/* on hover */\n",
       "#sk-container-id-1 div.sk-estimator:hover {\n",
       "  /* unfitted */\n",
       "  background-color: var(--sklearn-color-unfitted-level-2);\n",
       "}\n",
       "\n",
       "#sk-container-id-1 div.sk-estimator.fitted:hover {\n",
       "  /* fitted */\n",
       "  background-color: var(--sklearn-color-fitted-level-2);\n",
       "}\n",
       "\n",
       "/* Specification for estimator info (e.g. \"i\" and \"?\") */\n",
       "\n",
       "/* Common style for \"i\" and \"?\" */\n",
       "\n",
       ".sk-estimator-doc-link,\n",
       "a:link.sk-estimator-doc-link,\n",
       "a:visited.sk-estimator-doc-link {\n",
       "  float: right;\n",
       "  font-size: smaller;\n",
       "  line-height: 1em;\n",
       "  font-family: monospace;\n",
       "  background-color: var(--sklearn-color-background);\n",
       "  border-radius: 1em;\n",
       "  height: 1em;\n",
       "  width: 1em;\n",
       "  text-decoration: none !important;\n",
       "  margin-left: 1ex;\n",
       "  /* unfitted */\n",
       "  border: var(--sklearn-color-unfitted-level-1) 1pt solid;\n",
       "  color: var(--sklearn-color-unfitted-level-1);\n",
       "}\n",
       "\n",
       ".sk-estimator-doc-link.fitted,\n",
       "a:link.sk-estimator-doc-link.fitted,\n",
       "a:visited.sk-estimator-doc-link.fitted {\n",
       "  /* fitted */\n",
       "  border: var(--sklearn-color-fitted-level-1) 1pt solid;\n",
       "  color: var(--sklearn-color-fitted-level-1);\n",
       "}\n",
       "\n",
       "/* On hover */\n",
       "div.sk-estimator:hover .sk-estimator-doc-link:hover,\n",
       ".sk-estimator-doc-link:hover,\n",
       "div.sk-label-container:hover .sk-estimator-doc-link:hover,\n",
       ".sk-estimator-doc-link:hover {\n",
       "  /* unfitted */\n",
       "  background-color: var(--sklearn-color-unfitted-level-3);\n",
       "  color: var(--sklearn-color-background);\n",
       "  text-decoration: none;\n",
       "}\n",
       "\n",
       "div.sk-estimator.fitted:hover .sk-estimator-doc-link.fitted:hover,\n",
       ".sk-estimator-doc-link.fitted:hover,\n",
       "div.sk-label-container:hover .sk-estimator-doc-link.fitted:hover,\n",
       ".sk-estimator-doc-link.fitted:hover {\n",
       "  /* fitted */\n",
       "  background-color: var(--sklearn-color-fitted-level-3);\n",
       "  color: var(--sklearn-color-background);\n",
       "  text-decoration: none;\n",
       "}\n",
       "\n",
       "/* Span, style for the box shown on hovering the info icon */\n",
       ".sk-estimator-doc-link span {\n",
       "  display: none;\n",
       "  z-index: 9999;\n",
       "  position: relative;\n",
       "  font-weight: normal;\n",
       "  right: .2ex;\n",
       "  padding: .5ex;\n",
       "  margin: .5ex;\n",
       "  width: min-content;\n",
       "  min-width: 20ex;\n",
       "  max-width: 50ex;\n",
       "  color: var(--sklearn-color-text);\n",
       "  box-shadow: 2pt 2pt 4pt #999;\n",
       "  /* unfitted */\n",
       "  background: var(--sklearn-color-unfitted-level-0);\n",
       "  border: .5pt solid var(--sklearn-color-unfitted-level-3);\n",
       "}\n",
       "\n",
       ".sk-estimator-doc-link.fitted span {\n",
       "  /* fitted */\n",
       "  background: var(--sklearn-color-fitted-level-0);\n",
       "  border: var(--sklearn-color-fitted-level-3);\n",
       "}\n",
       "\n",
       ".sk-estimator-doc-link:hover span {\n",
       "  display: block;\n",
       "}\n",
       "\n",
       "/* \"?\"-specific style due to the `<a>` HTML tag */\n",
       "\n",
       "#sk-container-id-1 a.estimator_doc_link {\n",
       "  float: right;\n",
       "  font-size: 1rem;\n",
       "  line-height: 1em;\n",
       "  font-family: monospace;\n",
       "  background-color: var(--sklearn-color-background);\n",
       "  border-radius: 1rem;\n",
       "  height: 1rem;\n",
       "  width: 1rem;\n",
       "  text-decoration: none;\n",
       "  /* unfitted */\n",
       "  color: var(--sklearn-color-unfitted-level-1);\n",
       "  border: var(--sklearn-color-unfitted-level-1) 1pt solid;\n",
       "}\n",
       "\n",
       "#sk-container-id-1 a.estimator_doc_link.fitted {\n",
       "  /* fitted */\n",
       "  border: var(--sklearn-color-fitted-level-1) 1pt solid;\n",
       "  color: var(--sklearn-color-fitted-level-1);\n",
       "}\n",
       "\n",
       "/* On hover */\n",
       "#sk-container-id-1 a.estimator_doc_link:hover {\n",
       "  /* unfitted */\n",
       "  background-color: var(--sklearn-color-unfitted-level-3);\n",
       "  color: var(--sklearn-color-background);\n",
       "  text-decoration: none;\n",
       "}\n",
       "\n",
       "#sk-container-id-1 a.estimator_doc_link.fitted:hover {\n",
       "  /* fitted */\n",
       "  background-color: var(--sklearn-color-fitted-level-3);\n",
       "}\n",
       "</style><div id=\"sk-container-id-1\" class=\"sk-top-container\"><div class=\"sk-text-repr-fallback\"><pre>LogisticRegression(random_state=42)</pre><b>In a Jupyter environment, please rerun this cell to show the HTML representation or trust the notebook. <br />On GitHub, the HTML representation is unable to render, please try loading this page with nbviewer.org.</b></div><div class=\"sk-container\" hidden><div class=\"sk-item\"><div class=\"sk-estimator fitted sk-toggleable\"><input class=\"sk-toggleable__control sk-hidden--visually\" id=\"sk-estimator-id-1\" type=\"checkbox\" checked><label for=\"sk-estimator-id-1\" class=\"sk-toggleable__label fitted sk-toggleable__label-arrow fitted\">&nbsp;&nbsp;LogisticRegression<a class=\"sk-estimator-doc-link fitted\" rel=\"noreferrer\" target=\"_blank\" href=\"https://scikit-learn.org/1.4/modules/generated/sklearn.linear_model.LogisticRegression.html\">?<span>Documentation for LogisticRegression</span></a><span class=\"sk-estimator-doc-link fitted\">i<span>Fitted</span></span></label><div class=\"sk-toggleable__content fitted\"><pre>LogisticRegression(random_state=42)</pre></div> </div></div></div></div>"
      ],
      "text/plain": [
       "LogisticRegression(random_state=42)"
      ]
     },
     "execution_count": 58,
     "metadata": {},
     "output_type": "execute_result"
    }
   ],
   "source": [
    "# instantiating the model\n",
    "log = LogisticRegression(random_state=42)\n",
    "\n",
    "# fitting the model to our scaled training set\n",
    "log.fit(X_train_encoded, y_train)"
   ]
  },
  {
   "cell_type": "code",
   "execution_count": 59,
   "id": "2e2e9bef-a47e-4d32-acef-1caaa900b2b7",
   "metadata": {},
   "outputs": [
    {
     "data": {
      "text/plain": [
       "array(['0', '0', '0', ..., '0', '0', '1'], dtype=object)"
      ]
     },
     "execution_count": 59,
     "metadata": {},
     "output_type": "execute_result"
    }
   ],
   "source": [
    "# predicting our target\n",
    "y_predict = log.predict(X_train_encoded)\n",
    "y_predict"
   ]
  },
  {
   "cell_type": "code",
   "execution_count": 60,
   "id": "2e3ce4d5-5158-45ec-8662-2f0e4bd6b597",
   "metadata": {},
   "outputs": [
    {
     "data": {
      "image/png": "[encoded data removed]",
      "text/plain": [
       "<Figure size 640x480 with 2 Axes>"
      ]
     },
     "metadata": {},
     "output_type": "display_data"
    }
   ],
   "source": [
    "# plotting a confusion matrix to assess our model\n",
    "\n",
    "from sklearn.metrics import confusion_matrix, ConfusionMatrixDisplay\n",
    "cm = confusion_matrix(y_train, y_predict)\n",
    "disp = ConfusionMatrixDisplay(confusion_matrix=cm)\n",
    "disp.plot()\n",
    "plt.show()"
   ]
  },
  {
   "cell_type": "code",
   "execution_count": 61,
   "id": "d1d07059-a7d1-4f45-bc6d-78ff285b9695",
   "metadata": {},
   "outputs": [
    {
     "data": {
      "text/plain": [
       "0.6601568753001441"
      ]
     },
     "execution_count": 61,
     "metadata": {},
     "output_type": "execute_result"
    }
   ],
   "source": [
    "# printing out an accuracy report to further verify our model\n",
    "\n",
    "from sklearn.metrics import accuracy_score\n",
    "\n",
    "training_accuracy = accuracy_score(y_train, y_predict)\n",
    "training_accuracy"
   ]
  },
  {
   "cell_type": "code",
   "execution_count": 62,
   "id": "c012a920-c32a-459f-b2ca-d67b734523e9",
   "metadata": {},
   "outputs": [
    {
     "name": "stdout",
     "output_type": "stream",
     "text": [
      "              precision    recall  f1-score   support\n",
      "\n",
      "           0       0.67      0.51      0.58      2852\n",
      "           1       0.66      0.79      0.72      3395\n",
      "\n",
      "    accuracy                           0.66      6247\n",
      "   macro avg       0.66      0.65      0.65      6247\n",
      "weighted avg       0.66      0.66      0.65      6247\n",
      "\n"
     ]
    }
   ],
   "source": [
    "# printing out a full classification report to check precision and recall\n",
    "\n",
    "from sklearn.metrics import classification_report\n",
    "print(classification_report(y_train, y_predict))"
   ]
  },
  {
   "cell_type": "markdown",
   "id": "6529f656-d9e6-4656-91b9-dbd90428b574",
   "metadata": {},
   "source": [
    "The initial model did better than our baseline, with an accuracy score of 66%. The evaluation metric chosen to focus on was precision, which is more sensitive to false positives, which in this case means identifying a well as functioning when it is not. It was determined that it would be more detrimental to the NGO to identify a well as functioning when it was actually in need of repair. The precision score of 66% indicated that the initial model was performing better than the baseline model. However, it was necessary to explore the possibility of fine-tuning the model even more. "
   ]
  },
  {
   "cell_type": "markdown",
   "id": "f79befe2-f3e5-4251-8f7b-ff18b174354b",
   "metadata": {},
   "source": [
    "# Preliminary Model 2"
   ]
  },
  {
   "cell_type": "markdown",
   "id": "97c1ec46-c97c-4ee1-93e8-897aa955da78",
   "metadata": {},
   "source": [
    "The second model took into account the regularization of the model to ensure no overfitting occurred. The model was run again adjusting the regularization parameter from 1 (the default) to 0.5. "
   ]
  },
  {
   "cell_type": "code",
   "execution_count": 63,
   "id": "d3f75e1e-2c58-48a4-9ff3-3d12df8150f1",
   "metadata": {},
   "outputs": [
    {
     "data": {
      "text/plain": [
       "array(['0', '0', '0', ..., '0', '0', '1'], dtype=object)"
      ]
     },
     "execution_count": 63,
     "metadata": {},
     "output_type": "execute_result"
    }
   ],
   "source": [
    "# changing the regularization to 0.5\n",
    "log = LogisticRegression(random_state=42, C=0.5)\n",
    "log.fit(X_train_encoded, y_train)\n",
    "y_predict2 = log.predict(X_train_encoded)\n",
    "y_predict2"
   ]
  },
  {
   "cell_type": "code",
   "execution_count": 64,
   "id": "92ef6d0d-1bcb-4705-874e-e8b321928b0b",
   "metadata": {},
   "outputs": [
    {
     "name": "stdout",
     "output_type": "stream",
     "text": [
      "              precision    recall  f1-score   support\n",
      "\n",
      "           0       0.67      0.51      0.58      2852\n",
      "           1       0.66      0.79      0.72      3395\n",
      "\n",
      "    accuracy                           0.66      6247\n",
      "   macro avg       0.66      0.65      0.65      6247\n",
      "weighted avg       0.66      0.66      0.65      6247\n",
      "\n"
     ]
    }
   ],
   "source": [
    "print(classification_report(y_train, y_predict2))"
   ]
  },
  {
   "cell_type": "markdown",
   "id": "82f33318-c0f2-47f9-8f16-a8b84581c9d8",
   "metadata": {},
   "source": [
    "Once again, the accuracy and precision were about 66% after this change. The next step was to transform the test set and run the model on the testing set to assess its performance in making predictions on unseen data. "
   ]
  },
  {
   "cell_type": "markdown",
   "id": "796aa336-456f-4041-a57b-58df6c7b0d21",
   "metadata": {},
   "source": [
    "# Testing the Model"
   ]
  },
  {
   "cell_type": "markdown",
   "id": "7b0cde33-f9c1-4c71-86f1-57c1b2f855f2",
   "metadata": {},
   "source": [
    "## Transforming the Test Set"
   ]
  },
  {
   "cell_type": "code",
   "execution_count": 65,
   "id": "cb523f60-a890-4699-aaec-2488e5fc51a4",
   "metadata": {},
   "outputs": [
    {
     "data": {
      "text/html": [
       "<div>\n",
       "<style scoped>\n",
       "    .dataframe tbody tr th:only-of-type {\n",
       "        vertical-align: middle;\n",
       "    }\n",
       "\n",
       "    .dataframe tbody tr th {\n",
       "        vertical-align: top;\n",
       "    }\n",
       "\n",
       "    .dataframe thead th {\n",
       "        text-align: right;\n",
       "    }\n",
       "</style>\n",
       "<table border=\"1\" class=\"dataframe\">\n",
       "  <thead>\n",
       "    <tr style=\"text-align: right;\">\n",
       "      <th></th>\n",
       "      <th>region_Arusha</th>\n",
       "      <th>region_Kagera</th>\n",
       "      <th>region_Mara</th>\n",
       "      <th>region_Mwanza</th>\n",
       "      <th>region_Shinyanga</th>\n",
       "      <th>extraction_type_class_manual</th>\n",
       "      <th>extraction_type_class_mechanical</th>\n",
       "      <th>extraction_type_class_other</th>\n",
       "      <th>management_group_commercial</th>\n",
       "      <th>management_group_other</th>\n",
       "      <th>...</th>\n",
       "      <th>payment_other</th>\n",
       "      <th>payment_unknown</th>\n",
       "      <th>quality_group_good</th>\n",
       "      <th>quality_group_other</th>\n",
       "      <th>quality_group_unknown</th>\n",
       "      <th>source_class_groundwater</th>\n",
       "      <th>source_class_surface</th>\n",
       "      <th>source_class_unknown</th>\n",
       "      <th>waterpoint_type_group_communal standpipe</th>\n",
       "      <th>waterpoint_type_group_hand pump</th>\n",
       "    </tr>\n",
       "  </thead>\n",
       "  <tbody>\n",
       "    <tr>\n",
       "      <th>0</th>\n",
       "      <td>0.0</td>\n",
       "      <td>0.0</td>\n",
       "      <td>0.0</td>\n",
       "      <td>0.0</td>\n",
       "      <td>1.0</td>\n",
       "      <td>1.0</td>\n",
       "      <td>0.0</td>\n",
       "      <td>0.0</td>\n",
       "      <td>0.0</td>\n",
       "      <td>0.0</td>\n",
       "      <td>...</td>\n",
       "      <td>0.0</td>\n",
       "      <td>1.0</td>\n",
       "      <td>0.0</td>\n",
       "      <td>1.0</td>\n",
       "      <td>0.0</td>\n",
       "      <td>1.0</td>\n",
       "      <td>0.0</td>\n",
       "      <td>0.0</td>\n",
       "      <td>0.0</td>\n",
       "      <td>1.0</td>\n",
       "    </tr>\n",
       "    <tr>\n",
       "      <th>1</th>\n",
       "      <td>0.0</td>\n",
       "      <td>0.0</td>\n",
       "      <td>1.0</td>\n",
       "      <td>0.0</td>\n",
       "      <td>0.0</td>\n",
       "      <td>0.0</td>\n",
       "      <td>1.0</td>\n",
       "      <td>0.0</td>\n",
       "      <td>0.0</td>\n",
       "      <td>0.0</td>\n",
       "      <td>...</td>\n",
       "      <td>1.0</td>\n",
       "      <td>0.0</td>\n",
       "      <td>1.0</td>\n",
       "      <td>0.0</td>\n",
       "      <td>0.0</td>\n",
       "      <td>0.0</td>\n",
       "      <td>1.0</td>\n",
       "      <td>0.0</td>\n",
       "      <td>1.0</td>\n",
       "      <td>0.0</td>\n",
       "    </tr>\n",
       "    <tr>\n",
       "      <th>2</th>\n",
       "      <td>0.0</td>\n",
       "      <td>0.0</td>\n",
       "      <td>0.0</td>\n",
       "      <td>0.0</td>\n",
       "      <td>1.0</td>\n",
       "      <td>1.0</td>\n",
       "      <td>0.0</td>\n",
       "      <td>0.0</td>\n",
       "      <td>0.0</td>\n",
       "      <td>0.0</td>\n",
       "      <td>...</td>\n",
       "      <td>0.0</td>\n",
       "      <td>1.0</td>\n",
       "      <td>0.0</td>\n",
       "      <td>1.0</td>\n",
       "      <td>0.0</td>\n",
       "      <td>1.0</td>\n",
       "      <td>0.0</td>\n",
       "      <td>0.0</td>\n",
       "      <td>0.0</td>\n",
       "      <td>1.0</td>\n",
       "    </tr>\n",
       "    <tr>\n",
       "      <th>3</th>\n",
       "      <td>0.0</td>\n",
       "      <td>0.0</td>\n",
       "      <td>0.0</td>\n",
       "      <td>1.0</td>\n",
       "      <td>0.0</td>\n",
       "      <td>1.0</td>\n",
       "      <td>0.0</td>\n",
       "      <td>0.0</td>\n",
       "      <td>0.0</td>\n",
       "      <td>0.0</td>\n",
       "      <td>...</td>\n",
       "      <td>0.0</td>\n",
       "      <td>0.0</td>\n",
       "      <td>1.0</td>\n",
       "      <td>0.0</td>\n",
       "      <td>0.0</td>\n",
       "      <td>1.0</td>\n",
       "      <td>0.0</td>\n",
       "      <td>0.0</td>\n",
       "      <td>0.0</td>\n",
       "      <td>1.0</td>\n",
       "    </tr>\n",
       "    <tr>\n",
       "      <th>4</th>\n",
       "      <td>0.0</td>\n",
       "      <td>0.0</td>\n",
       "      <td>1.0</td>\n",
       "      <td>0.0</td>\n",
       "      <td>0.0</td>\n",
       "      <td>0.0</td>\n",
       "      <td>0.0</td>\n",
       "      <td>1.0</td>\n",
       "      <td>0.0</td>\n",
       "      <td>1.0</td>\n",
       "      <td>...</td>\n",
       "      <td>0.0</td>\n",
       "      <td>0.0</td>\n",
       "      <td>1.0</td>\n",
       "      <td>0.0</td>\n",
       "      <td>0.0</td>\n",
       "      <td>0.0</td>\n",
       "      <td>1.0</td>\n",
       "      <td>0.0</td>\n",
       "      <td>1.0</td>\n",
       "      <td>0.0</td>\n",
       "    </tr>\n",
       "  </tbody>\n",
       "</table>\n",
       "<p>5 rows × 24 columns</p>\n",
       "</div>"
      ],
      "text/plain": [
       "   region_Arusha  region_Kagera  region_Mara  region_Mwanza  region_Shinyanga  \\\n",
       "0            0.0            0.0          0.0            0.0               1.0   \n",
       "1            0.0            0.0          1.0            0.0               0.0   \n",
       "2            0.0            0.0          0.0            0.0               1.0   \n",
       "3            0.0            0.0          0.0            1.0               0.0   \n",
       "4            0.0            0.0          1.0            0.0               0.0   \n",
       "\n",
       "   extraction_type_class_manual  extraction_type_class_mechanical  \\\n",
       "0                           1.0                               0.0   \n",
       "1                           0.0                               1.0   \n",
       "2                           1.0                               0.0   \n",
       "3                           1.0                               0.0   \n",
       "4                           0.0                               0.0   \n",
       "\n",
       "   extraction_type_class_other  management_group_commercial  \\\n",
       "0                          0.0                          0.0   \n",
       "1                          0.0                          0.0   \n",
       "2                          0.0                          0.0   \n",
       "3                          0.0                          0.0   \n",
       "4                          1.0                          0.0   \n",
       "\n",
       "   management_group_other  ...  payment_other  payment_unknown  \\\n",
       "0                     0.0  ...            0.0              1.0   \n",
       "1                     0.0  ...            1.0              0.0   \n",
       "2                     0.0  ...            0.0              1.0   \n",
       "3                     0.0  ...            0.0              0.0   \n",
       "4                     1.0  ...            0.0              0.0   \n",
       "\n",
       "   quality_group_good  quality_group_other  quality_group_unknown  \\\n",
       "0                 0.0                  1.0                    0.0   \n",
       "1                 1.0                  0.0                    0.0   \n",
       "2                 0.0                  1.0                    0.0   \n",
       "3                 1.0                  0.0                    0.0   \n",
       "4                 1.0                  0.0                    0.0   \n",
       "\n",
       "   source_class_groundwater  source_class_surface  source_class_unknown  \\\n",
       "0                       1.0                   0.0                   0.0   \n",
       "1                       0.0                   1.0                   0.0   \n",
       "2                       1.0                   0.0                   0.0   \n",
       "3                       1.0                   0.0                   0.0   \n",
       "4                       0.0                   1.0                   0.0   \n",
       "\n",
       "   waterpoint_type_group_communal standpipe  waterpoint_type_group_hand pump  \n",
       "0                                       0.0                              1.0  \n",
       "1                                       1.0                              0.0  \n",
       "2                                       0.0                              1.0  \n",
       "3                                       0.0                              1.0  \n",
       "4                                       1.0                              0.0  \n",
       "\n",
       "[5 rows x 24 columns]"
      ]
     },
     "execution_count": 65,
     "metadata": {},
     "output_type": "execute_result"
    }
   ],
   "source": [
    "# instantiate the OneHotEncoder\n",
    "ohe = OneHotEncoder()\n",
    "\n",
    "# fit the ohe on our training set\n",
    "ohe.fit(X_test)\n",
    "\n",
    "# transform columns and convert our encoded matrix back into a dataframe\n",
    "X_test_encoded = pd.DataFrame(ohe.transform(X_test).todense(),\n",
    "                               columns=ohe.get_feature_names_out())\n",
    "\n",
    "# sanity check\n",
    "X_test_encoded.head()"
   ]
  },
  {
   "cell_type": "code",
   "execution_count": 66,
   "id": "07181469-cc1e-4941-9000-66ce4e7c5d43",
   "metadata": {},
   "outputs": [
    {
     "name": "stdout",
     "output_type": "stream",
     "text": [
      "<class 'pandas.core.frame.DataFrame'>\n",
      "RangeIndex: 2083 entries, 0 to 2082\n",
      "Data columns (total 24 columns):\n",
      " #   Column                                    Non-Null Count  Dtype  \n",
      "---  ------                                    --------------  -----  \n",
      " 0   region_Arusha                             2083 non-null   float64\n",
      " 1   region_Kagera                             2083 non-null   float64\n",
      " 2   region_Mara                               2083 non-null   float64\n",
      " 3   region_Mwanza                             2083 non-null   float64\n",
      " 4   region_Shinyanga                          2083 non-null   float64\n",
      " 5   extraction_type_class_manual              2083 non-null   float64\n",
      " 6   extraction_type_class_mechanical          2083 non-null   float64\n",
      " 7   extraction_type_class_other               2083 non-null   float64\n",
      " 8   management_group_commercial               2083 non-null   float64\n",
      " 9   management_group_other                    2083 non-null   float64\n",
      " 10  management_group_parastatal               2083 non-null   float64\n",
      " 11  management_group_unknown                  2083 non-null   float64\n",
      " 12  management_group_user-group               2083 non-null   float64\n",
      " 13  payment_never pay                         2083 non-null   float64\n",
      " 14  payment_other                             2083 non-null   float64\n",
      " 15  payment_unknown                           2083 non-null   float64\n",
      " 16  quality_group_good                        2083 non-null   float64\n",
      " 17  quality_group_other                       2083 non-null   float64\n",
      " 18  quality_group_unknown                     2083 non-null   float64\n",
      " 19  source_class_groundwater                  2083 non-null   float64\n",
      " 20  source_class_surface                      2083 non-null   float64\n",
      " 21  source_class_unknown                      2083 non-null   float64\n",
      " 22  waterpoint_type_group_communal standpipe  2083 non-null   float64\n",
      " 23  waterpoint_type_group_hand pump           2083 non-null   float64\n",
      "dtypes: float64(24)\n",
      "memory usage: 390.7 KB\n"
     ]
    }
   ],
   "source": [
    "# making sure we have all the columns we need\n",
    "X_test_encoded.info()"
   ]
  },
  {
   "cell_type": "markdown",
   "id": "6e5e839c-5ce9-4181-ba88-d6994eb39812",
   "metadata": {},
   "source": [
    "## Modeling the Test Set"
   ]
  },
  {
   "cell_type": "code",
   "execution_count": 67,
   "id": "46dd136e-a34b-41a3-8c70-e513d92f03b9",
   "metadata": {},
   "outputs": [
    {
     "data": {
      "text/plain": [
       "array(['1', '0', '1', ..., '0', '1', '1'], dtype=object)"
      ]
     },
     "execution_count": 67,
     "metadata": {},
     "output_type": "execute_result"
    }
   ],
   "source": [
    "# predicting using our regression that was fit to the training set\n",
    "y_test_predict = log.predict(X_test_encoded)\n",
    "y_test_predict"
   ]
  },
  {
   "cell_type": "code",
   "execution_count": 68,
   "id": "e3f69993-2728-4847-9816-a4162bcf8d8e",
   "metadata": {},
   "outputs": [
    {
     "name": "stdout",
     "output_type": "stream",
     "text": [
      "              precision    recall  f1-score   support\n",
      "\n",
      "           0       0.69      0.49      0.58       951\n",
      "           1       0.66      0.82      0.73      1132\n",
      "\n",
      "    accuracy                           0.67      2083\n",
      "   macro avg       0.67      0.65      0.65      2083\n",
      "weighted avg       0.67      0.67      0.66      2083\n",
      "\n"
     ]
    }
   ],
   "source": [
    "# printing the classification report\n",
    "print(classification_report(y_test, y_test_predict))"
   ]
  },
  {
   "cell_type": "code",
   "execution_count": 69,
   "id": "8082a537-9150-4526-bf2c-89197d998cb1",
   "metadata": {},
   "outputs": [
    {
     "name": "stdout",
     "output_type": "stream",
     "text": [
      "Coefficients: [[ 0.75833721  0.08553771 -0.66966193  0.12851836 -0.15799856  0.49848682\n",
      "  -0.35065808 -0.00309596  0.93182345  0.38244545 -0.25113937 -0.01037599\n",
      "  -0.90802077 -0.35737868  0.39169927  0.11041219  0.46100046  0.29816945\n",
      "  -0.61443713  0.15993763  0.18722619 -0.20243104 -0.210479    0.35521178]]\n"
     ]
    }
   ],
   "source": [
    "# printing out the coefficients\n",
    "coefficients = log.coef_\n",
    "print(\"Coefficients:\", coefficients)"
   ]
  },
  {
   "cell_type": "code",
   "execution_count": 70,
   "id": "f0fc4f78-b358-41a6-b087-10fbad9ac4b3",
   "metadata": {},
   "outputs": [
    {
     "data": {
      "image/png": "[encoded data removed]",
      "text/plain": [
       "<Figure size 640x480 with 2 Axes>"
      ]
     },
     "metadata": {},
     "output_type": "display_data"
    }
   ],
   "source": [
    "# plotting a confusion matrix to assess our model\n",
    "cm = confusion_matrix(y_test, y_test_predict)\n",
    "disp = ConfusionMatrixDisplay(confusion_matrix=cm)\n",
    "disp.plot()\n",
    "plt.show()"
   ]
  },
  {
   "cell_type": "markdown",
   "id": "860aadbf-3e0f-41dc-a3d1-3aa2dc986e7c",
   "metadata": {},
   "source": [
    "# Interpreting Results"
   ]
  },
  {
   "cell_type": "markdown",
   "id": "dc0c98e2-e391-422e-a9c4-3fb3dfc69dd4",
   "metadata": {},
   "source": [
    "With the model run on unseen data, the next step was to interpret the results in order to make concrete business recommendations. Logistic regression provides coefficients that represent the log-odds of an event occurring, and therefore need to be expontiated in order to be more interpretable. Once exponentiated, one is left with the odds of the event happening. However, it was decided that it would be easier to understand probability, and therefore the odds were converted to probabilites."
   ]
  },
  {
   "cell_type": "code",
   "execution_count": 71,
   "id": "f112296f-dda6-4835-9a2d-47262f7bff29",
   "metadata": {},
   "outputs": [
    {
     "data": {
      "text/plain": [
       "[0.6809926150819248,\n",
       " 0.5213713979384738,\n",
       " 0.3385725441771756,\n",
       " 0.532085439323957,\n",
       " 0.4605823254181342,\n",
       " 0.6221036618974064,\n",
       " 0.41322284799345416,\n",
       " 0.4992260113105907,\n",
       " 0.7174450781475488,\n",
       " 0.5944627804184235,\n",
       " 0.4375430818139921,\n",
       " 0.49740602628718644,\n",
       " 0.2874050202936819,\n",
       " 0.4115942616354281,\n",
       " 0.5966916978276982,\n",
       " 0.5275750390157711,\n",
       " 0.6132514868085608,\n",
       " 0.5739949621094583,\n",
       " 0.3510476948418757,\n",
       " 0.5398993919309092,\n",
       " 0.5466702971223839,\n",
       " 0.44956435287307284,\n",
       " 0.4475736533904264,\n",
       " 0.5878808500442273]"
      ]
     },
     "execution_count": 71,
     "metadata": {},
     "output_type": "execute_result"
    }
   ],
   "source": [
    "# converting from log-odds to probabilities using a list comprehension from this source: https://stackoverflow.com/questions/51006193/interpreting-logistic-regression-feature-coefficient-values-in-sklearn\n",
    "probabilities = [np.exp(x)/(1 + np.exp(x)) for x in coefficients[0]]\n",
    "probabilities"
   ]
  },
  {
   "cell_type": "code",
   "execution_count": 72,
   "id": "5e98d3cc-90e5-40af-b960-a2c7eb7d0ca0",
   "metadata": {},
   "outputs": [
    {
     "data": {
      "text/plain": [
       "{0.6809926151: 'region_Arusha',\n",
       " 0.5213713979: 'region_Kagera',\n",
       " 0.3385725442: 'region_Mara',\n",
       " 0.5320854393: 'region_Mwanza',\n",
       " 0.4605823254: 'region_Shinyanga',\n",
       " 0.6221036619: 'extraction_type_class_manual',\n",
       " 0.413222848: 'extraction_type_class_mechanical',\n",
       " 0.4992260113: 'extraction_type_class_other',\n",
       " 0.7174450781: 'management_group_commercial',\n",
       " 0.5944627804: 'management_group_other',\n",
       " 0.4375430818: 'management_group_parastatal',\n",
       " 0.4974060263: 'management_group_unknown',\n",
       " 0.2874050203: 'management_group_user-group',\n",
       " 0.4115942616: 'payment_never pay',\n",
       " 0.5966916978: 'payment_other',\n",
       " 0.527575039: 'payment_unknown',\n",
       " 0.6132514868: 'quality_group_good',\n",
       " 0.5739949621: 'quality_group_other',\n",
       " 0.3510476948: 'quality_group_unknown',\n",
       " 0.5398993919: 'source_class_groundwater',\n",
       " 0.5466702971: 'source_class_surface',\n",
       " 0.4495643529: 'source_class_unknown',\n",
       " 0.4475736534: 'waterpoint_type_group_communal standpipe',\n",
       " 0.58788085: 'waterpoint_type_group_hand pump'}"
      ]
     },
     "execution_count": 72,
     "metadata": {},
     "output_type": "execute_result"
    }
   ],
   "source": [
    "# creating a dictionary of the probabilites that's easier to read\n",
    "dict_of_probs = {0.6809926151:'region_Arusha', 0.5213713979:'region_Kagera', 0.3385725442:'region_Mara', 0.5320854393:'region_Mwanza', 0.4605823254:'region_Shinyanga', 0.6221036619:'extraction_type_class_manual', 0.413222848:'extraction_type_class_mechanical', 0.4992260113:'extraction_type_class_other', 0.7174450781:'management_group_commercial', 0.5944627804:'management_group_other', 0.4375430818:'management_group_parastatal', 0.4974060263:'management_group_unknown', 0.2874050203:'management_group_user-group', 0.4115942616:'payment_never pay', 0.5966916978:'payment_other', 0.527575039:'payment_unknown', 0.6132514868:'quality_group_good', 0.5739949621:'quality_group_other', 0.3510476948:'quality_group_unknown', 0.5398993919:'source_class_groundwater', 0.5466702971:'source_class_surface', 0.4495643529:'source_class_unknown', 0.4475736534:'waterpoint_type_group_communal standpipe', 0.58788085:'waterpoint_type_group_hand pump'}\n",
    "dict_of_probs"
   ]
  },
  {
   "cell_type": "markdown",
   "id": "b12f8cec-f8b8-4fc4-86a0-d40982c669ab",
   "metadata": {},
   "source": [
    "## Key Findings:\n",
    "\n",
    "(1) There’s a 58% probability a hand pump well will be functioning.\n",
    "\n",
    "(2) Wells that extract water manually are 62% more likely to be functioning.\n",
    "\n",
    "(3) Wells managed by commercial groups are 72% more likely to be functioning."
   ]
  }
 ],
 "metadata": {
  "kernelspec": {
   "display_name": "Python (learn-env)",
   "language": "python",
   "name": "learn-env"
  },
  "language_info": {
   "codemirror_mode": {
    "name": "ipython",
    "version": 3
   },
   "file_extension": ".py",
   "mimetype": "text/x-python",
   "name": "python",
   "nbconvert_exporter": "python",
   "pygments_lexer": "ipython3",
   "version": "3.9.18"
  }
 },
 "nbformat": 4,
 "nbformat_minor": 5
}
