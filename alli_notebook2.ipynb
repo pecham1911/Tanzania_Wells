{
 "cells": [
  {
   "cell_type": "markdown",
   "id": "621d5bb2-b6ba-4b04-ad66-fc58ead587a9",
   "metadata": {},
   "source": [
    "# Tanzania Wells Analysis\n",
    "## by Allison Ward, Sarah Prusaitis, and Monica Pecha"
   ]
  },
  {
   "cell_type": "markdown",
   "id": "87c74a11-7c87-4232-93d1-b21a5db43a00",
   "metadata": {},
   "source": [
    "Business problem: A theoretical NGO is looking to asses the condition of hand pump and communal standpipe wells in the Lake Victoria basin. They have requested that we help them predict the likelihood of a well being functional or nonfunctional so that they can identify the wells in disrepair and fix them and/or build new ones. \n",
    "\n",
    "The dataset was taken from [DrivenData](https://www.drivendata.org/competitions/7/pump-it-up-data-mining-the-water-table/page/23/), supplied by [Taarifa](https://taarifa.org/) and the [Tanzanian Ministry of Water](https://www.maji.go.tz/). "
   ]
  },
  {
   "cell_type": "markdown",
   "id": "f926400c-e427-4749-b960-6afa86972662",
   "metadata": {},
   "source": [
    "Initial BLUF: Communal standpipe wells are more likely to be in need of repair\n",
    "Wells with surface water as a source are more likely to be in need of repair\n",
    "Mwanza is a region to learn from"
   ]
  },
  {
   "cell_type": "markdown",
   "id": "81433b81-719f-4695-a14b-ba319dd9287d",
   "metadata": {},
   "source": [
    "# Exploratory Data Analysis (EDA)"
   ]
  },
  {
   "cell_type": "markdown",
   "id": "b5250c86-460a-4503-b5b4-41661cada355",
   "metadata": {},
   "source": [
    "## Part 1 - Initial EDA"
   ]
  },
  {
   "cell_type": "code",
   "execution_count": 256,
   "id": "f75edd0e-8b40-4596-b0cc-f477c5d92e5e",
   "metadata": {},
   "outputs": [],
   "source": [
    "import pandas as pd\n",
    "import numpy as np\n",
    "import matplotlib.pyplot as plt\n",
    "import seaborn as sns\n",
    "import seaborn.objects as so\n",
    "\n",
    "%matplotlib inline\n",
    "\n",
    "from sklearn.preprocessing import OneHotEncoder, StandardScaler\n",
    "\n",
    "from sklearn.impute import MissingIndicator, SimpleImputer\n",
    "\n",
    "from sklearn.dummy import DummyClassifier\n",
    "from sklearn.linear_model import LogisticRegression\n",
    "\n",
    "from sklearn.model_selection import train_test_split, cross_val_score\n",
    "from sklearn.feature_selection import SelectFromModel\n",
    "\n",
    "import statsmodels.api as sm\n",
    "from sklearn.preprocessing import StandardScaler, OneHotEncoder, OrdinalEncoder\n",
    "\n",
    "import scipy.stats as stats\n",
    "from scipy.stats import chi2_contingency\n",
    "\n",
    "from sklearn.tree import DecisionTreeClassifier, plot_tree\n",
    "from sklearn import tree"
   ]
  },
  {
   "cell_type": "code",
   "execution_count": 257,
   "id": "c9c0caeb-66a3-445e-bb9f-1d0d9d31b0ae",
   "metadata": {},
   "outputs": [],
   "source": [
    "pd.options.mode.copy_on_write = True"
   ]
  },
  {
   "cell_type": "code",
   "execution_count": 258,
   "id": "780496ef-a077-4107-8fb7-a4903b867ca8",
   "metadata": {},
   "outputs": [],
   "source": [
    "# Reading in our datasets to explore\n",
    "df1 = pd.read_csv('data/test_set_values.csv')\n",
    "df2= pd.read_csv('data/training_set_labels.csv')\n",
    "df3 = pd.read_csv('data/training_set_values.csv')"
   ]
  },
  {
   "cell_type": "code",
   "execution_count": 259,
   "id": "eca8b02c-54f2-4594-a686-5a86a839863a",
   "metadata": {},
   "outputs": [
    {
     "data": {
      "text/html": [
       "<div>\n",
       "<style scoped>\n",
       "    .dataframe tbody tr th:only-of-type {\n",
       "        vertical-align: middle;\n",
       "    }\n",
       "\n",
       "    .dataframe tbody tr th {\n",
       "        vertical-align: top;\n",
       "    }\n",
       "\n",
       "    .dataframe thead th {\n",
       "        text-align: right;\n",
       "    }\n",
       "</style>\n",
       "<table border=\"1\" class=\"dataframe\">\n",
       "  <thead>\n",
       "    <tr style=\"text-align: right;\">\n",
       "      <th></th>\n",
       "      <th>id</th>\n",
       "      <th>amount_tsh</th>\n",
       "      <th>date_recorded</th>\n",
       "      <th>funder</th>\n",
       "      <th>gps_height</th>\n",
       "      <th>installer</th>\n",
       "      <th>longitude</th>\n",
       "      <th>latitude</th>\n",
       "      <th>wpt_name</th>\n",
       "      <th>num_private</th>\n",
       "      <th>...</th>\n",
       "      <th>payment_type</th>\n",
       "      <th>water_quality</th>\n",
       "      <th>quality_group</th>\n",
       "      <th>quantity</th>\n",
       "      <th>quantity_group</th>\n",
       "      <th>source</th>\n",
       "      <th>source_type</th>\n",
       "      <th>source_class</th>\n",
       "      <th>waterpoint_type</th>\n",
       "      <th>waterpoint_type_group</th>\n",
       "    </tr>\n",
       "  </thead>\n",
       "  <tbody>\n",
       "    <tr>\n",
       "      <th>0</th>\n",
       "      <td>50785</td>\n",
       "      <td>0.0</td>\n",
       "      <td>2013-02-04</td>\n",
       "      <td>Dmdd</td>\n",
       "      <td>1996</td>\n",
       "      <td>DMDD</td>\n",
       "      <td>35.290799</td>\n",
       "      <td>-4.059696</td>\n",
       "      <td>Dinamu Secondary School</td>\n",
       "      <td>0</td>\n",
       "      <td>...</td>\n",
       "      <td>never pay</td>\n",
       "      <td>soft</td>\n",
       "      <td>good</td>\n",
       "      <td>seasonal</td>\n",
       "      <td>seasonal</td>\n",
       "      <td>rainwater harvesting</td>\n",
       "      <td>rainwater harvesting</td>\n",
       "      <td>surface</td>\n",
       "      <td>other</td>\n",
       "      <td>other</td>\n",
       "    </tr>\n",
       "    <tr>\n",
       "      <th>1</th>\n",
       "      <td>51630</td>\n",
       "      <td>0.0</td>\n",
       "      <td>2013-02-04</td>\n",
       "      <td>Government Of Tanzania</td>\n",
       "      <td>1569</td>\n",
       "      <td>DWE</td>\n",
       "      <td>36.656709</td>\n",
       "      <td>-3.309214</td>\n",
       "      <td>Kimnyak</td>\n",
       "      <td>0</td>\n",
       "      <td>...</td>\n",
       "      <td>never pay</td>\n",
       "      <td>soft</td>\n",
       "      <td>good</td>\n",
       "      <td>insufficient</td>\n",
       "      <td>insufficient</td>\n",
       "      <td>spring</td>\n",
       "      <td>spring</td>\n",
       "      <td>groundwater</td>\n",
       "      <td>communal standpipe</td>\n",
       "      <td>communal standpipe</td>\n",
       "    </tr>\n",
       "    <tr>\n",
       "      <th>2</th>\n",
       "      <td>17168</td>\n",
       "      <td>0.0</td>\n",
       "      <td>2013-02-01</td>\n",
       "      <td>NaN</td>\n",
       "      <td>1567</td>\n",
       "      <td>NaN</td>\n",
       "      <td>34.767863</td>\n",
       "      <td>-5.004344</td>\n",
       "      <td>Puma Secondary</td>\n",
       "      <td>0</td>\n",
       "      <td>...</td>\n",
       "      <td>never pay</td>\n",
       "      <td>soft</td>\n",
       "      <td>good</td>\n",
       "      <td>insufficient</td>\n",
       "      <td>insufficient</td>\n",
       "      <td>rainwater harvesting</td>\n",
       "      <td>rainwater harvesting</td>\n",
       "      <td>surface</td>\n",
       "      <td>other</td>\n",
       "      <td>other</td>\n",
       "    </tr>\n",
       "    <tr>\n",
       "      <th>3</th>\n",
       "      <td>45559</td>\n",
       "      <td>0.0</td>\n",
       "      <td>2013-01-22</td>\n",
       "      <td>Finn Water</td>\n",
       "      <td>267</td>\n",
       "      <td>FINN WATER</td>\n",
       "      <td>38.058046</td>\n",
       "      <td>-9.418672</td>\n",
       "      <td>Kwa Mzee Pange</td>\n",
       "      <td>0</td>\n",
       "      <td>...</td>\n",
       "      <td>unknown</td>\n",
       "      <td>soft</td>\n",
       "      <td>good</td>\n",
       "      <td>dry</td>\n",
       "      <td>dry</td>\n",
       "      <td>shallow well</td>\n",
       "      <td>shallow well</td>\n",
       "      <td>groundwater</td>\n",
       "      <td>other</td>\n",
       "      <td>other</td>\n",
       "    </tr>\n",
       "    <tr>\n",
       "      <th>4</th>\n",
       "      <td>49871</td>\n",
       "      <td>500.0</td>\n",
       "      <td>2013-03-27</td>\n",
       "      <td>Bruder</td>\n",
       "      <td>1260</td>\n",
       "      <td>BRUDER</td>\n",
       "      <td>35.006123</td>\n",
       "      <td>-10.950412</td>\n",
       "      <td>Kwa Mzee Turuka</td>\n",
       "      <td>0</td>\n",
       "      <td>...</td>\n",
       "      <td>monthly</td>\n",
       "      <td>soft</td>\n",
       "      <td>good</td>\n",
       "      <td>enough</td>\n",
       "      <td>enough</td>\n",
       "      <td>spring</td>\n",
       "      <td>spring</td>\n",
       "      <td>groundwater</td>\n",
       "      <td>communal standpipe</td>\n",
       "      <td>communal standpipe</td>\n",
       "    </tr>\n",
       "  </tbody>\n",
       "</table>\n",
       "<p>5 rows × 40 columns</p>\n",
       "</div>"
      ],
      "text/plain": [
       "      id  amount_tsh date_recorded                  funder  gps_height  \\\n",
       "0  50785         0.0    2013-02-04                    Dmdd        1996   \n",
       "1  51630         0.0    2013-02-04  Government Of Tanzania        1569   \n",
       "2  17168         0.0    2013-02-01                     NaN        1567   \n",
       "3  45559         0.0    2013-01-22              Finn Water         267   \n",
       "4  49871       500.0    2013-03-27                  Bruder        1260   \n",
       "\n",
       "    installer  longitude   latitude                 wpt_name  num_private  \\\n",
       "0        DMDD  35.290799  -4.059696  Dinamu Secondary School            0   \n",
       "1         DWE  36.656709  -3.309214                  Kimnyak            0   \n",
       "2         NaN  34.767863  -5.004344           Puma Secondary            0   \n",
       "3  FINN WATER  38.058046  -9.418672           Kwa Mzee Pange            0   \n",
       "4      BRUDER  35.006123 -10.950412          Kwa Mzee Turuka            0   \n",
       "\n",
       "   ... payment_type water_quality quality_group      quantity  quantity_group  \\\n",
       "0  ...    never pay          soft          good      seasonal        seasonal   \n",
       "1  ...    never pay          soft          good  insufficient    insufficient   \n",
       "2  ...    never pay          soft          good  insufficient    insufficient   \n",
       "3  ...      unknown          soft          good           dry             dry   \n",
       "4  ...      monthly          soft          good        enough          enough   \n",
       "\n",
       "                 source           source_type  source_class  \\\n",
       "0  rainwater harvesting  rainwater harvesting       surface   \n",
       "1                spring                spring   groundwater   \n",
       "2  rainwater harvesting  rainwater harvesting       surface   \n",
       "3          shallow well          shallow well   groundwater   \n",
       "4                spring                spring   groundwater   \n",
       "\n",
       "      waterpoint_type waterpoint_type_group  \n",
       "0               other                 other  \n",
       "1  communal standpipe    communal standpipe  \n",
       "2               other                 other  \n",
       "3               other                 other  \n",
       "4  communal standpipe    communal standpipe  \n",
       "\n",
       "[5 rows x 40 columns]"
      ]
     },
     "execution_count": 259,
     "metadata": {},
     "output_type": "execute_result"
    }
   ],
   "source": [
    "df1.head()"
   ]
  },
  {
   "cell_type": "code",
   "execution_count": 260,
   "id": "b3ece6fb-603e-4892-9e5f-25f6e0defd44",
   "metadata": {},
   "outputs": [
    {
     "name": "stdout",
     "output_type": "stream",
     "text": [
      "<class 'pandas.core.frame.DataFrame'>\n",
      "RangeIndex: 14850 entries, 0 to 14849\n",
      "Data columns (total 40 columns):\n",
      " #   Column                 Non-Null Count  Dtype  \n",
      "---  ------                 --------------  -----  \n",
      " 0   id                     14850 non-null  int64  \n",
      " 1   amount_tsh             14850 non-null  float64\n",
      " 2   date_recorded          14850 non-null  object \n",
      " 3   funder                 13980 non-null  object \n",
      " 4   gps_height             14850 non-null  int64  \n",
      " 5   installer              13973 non-null  object \n",
      " 6   longitude              14850 non-null  float64\n",
      " 7   latitude               14850 non-null  float64\n",
      " 8   wpt_name               14850 non-null  object \n",
      " 9   num_private            14850 non-null  int64  \n",
      " 10  basin                  14850 non-null  object \n",
      " 11  subvillage             14751 non-null  object \n",
      " 12  region                 14850 non-null  object \n",
      " 13  region_code            14850 non-null  int64  \n",
      " 14  district_code          14850 non-null  int64  \n",
      " 15  lga                    14850 non-null  object \n",
      " 16  ward                   14850 non-null  object \n",
      " 17  population             14850 non-null  int64  \n",
      " 18  public_meeting         14029 non-null  object \n",
      " 19  recorded_by            14850 non-null  object \n",
      " 20  scheme_management      13881 non-null  object \n",
      " 21  scheme_name            7608 non-null   object \n",
      " 22  permit                 14113 non-null  object \n",
      " 23  construction_year      14850 non-null  int64  \n",
      " 24  extraction_type        14850 non-null  object \n",
      " 25  extraction_type_group  14850 non-null  object \n",
      " 26  extraction_type_class  14850 non-null  object \n",
      " 27  management             14850 non-null  object \n",
      " 28  management_group       14850 non-null  object \n",
      " 29  payment                14850 non-null  object \n",
      " 30  payment_type           14850 non-null  object \n",
      " 31  water_quality          14850 non-null  object \n",
      " 32  quality_group          14850 non-null  object \n",
      " 33  quantity               14850 non-null  object \n",
      " 34  quantity_group         14850 non-null  object \n",
      " 35  source                 14850 non-null  object \n",
      " 36  source_type            14850 non-null  object \n",
      " 37  source_class           14850 non-null  object \n",
      " 38  waterpoint_type        14850 non-null  object \n",
      " 39  waterpoint_type_group  14850 non-null  object \n",
      "dtypes: float64(3), int64(7), object(30)\n",
      "memory usage: 4.5+ MB\n"
     ]
    }
   ],
   "source": [
    "df1.info()"
   ]
  },
  {
   "cell_type": "code",
   "execution_count": 261,
   "id": "393632a3-ec42-4c54-8ade-cbcf592012a9",
   "metadata": {},
   "outputs": [
    {
     "data": {
      "text/html": [
       "<div>\n",
       "<style scoped>\n",
       "    .dataframe tbody tr th:only-of-type {\n",
       "        vertical-align: middle;\n",
       "    }\n",
       "\n",
       "    .dataframe tbody tr th {\n",
       "        vertical-align: top;\n",
       "    }\n",
       "\n",
       "    .dataframe thead th {\n",
       "        text-align: right;\n",
       "    }\n",
       "</style>\n",
       "<table border=\"1\" class=\"dataframe\">\n",
       "  <thead>\n",
       "    <tr style=\"text-align: right;\">\n",
       "      <th></th>\n",
       "      <th>id</th>\n",
       "      <th>status_group</th>\n",
       "    </tr>\n",
       "  </thead>\n",
       "  <tbody>\n",
       "    <tr>\n",
       "      <th>0</th>\n",
       "      <td>69572</td>\n",
       "      <td>functional</td>\n",
       "    </tr>\n",
       "    <tr>\n",
       "      <th>1</th>\n",
       "      <td>8776</td>\n",
       "      <td>functional</td>\n",
       "    </tr>\n",
       "    <tr>\n",
       "      <th>2</th>\n",
       "      <td>34310</td>\n",
       "      <td>functional</td>\n",
       "    </tr>\n",
       "    <tr>\n",
       "      <th>3</th>\n",
       "      <td>67743</td>\n",
       "      <td>non functional</td>\n",
       "    </tr>\n",
       "    <tr>\n",
       "      <th>4</th>\n",
       "      <td>19728</td>\n",
       "      <td>functional</td>\n",
       "    </tr>\n",
       "  </tbody>\n",
       "</table>\n",
       "</div>"
      ],
      "text/plain": [
       "      id    status_group\n",
       "0  69572      functional\n",
       "1   8776      functional\n",
       "2  34310      functional\n",
       "3  67743  non functional\n",
       "4  19728      functional"
      ]
     },
     "execution_count": 261,
     "metadata": {},
     "output_type": "execute_result"
    }
   ],
   "source": [
    "df2.head()"
   ]
  },
  {
   "cell_type": "code",
   "execution_count": 262,
   "id": "834180fa-d732-4226-bc14-b26c3d2c8aca",
   "metadata": {},
   "outputs": [
    {
     "name": "stdout",
     "output_type": "stream",
     "text": [
      "<class 'pandas.core.frame.DataFrame'>\n",
      "RangeIndex: 59400 entries, 0 to 59399\n",
      "Data columns (total 2 columns):\n",
      " #   Column        Non-Null Count  Dtype \n",
      "---  ------        --------------  ----- \n",
      " 0   id            59400 non-null  int64 \n",
      " 1   status_group  59400 non-null  object\n",
      "dtypes: int64(1), object(1)\n",
      "memory usage: 928.2+ KB\n"
     ]
    }
   ],
   "source": [
    "df2.info()"
   ]
  },
  {
   "cell_type": "code",
   "execution_count": 263,
   "id": "4ef75db1-ef6a-41b3-b3e8-90be5685aaaf",
   "metadata": {},
   "outputs": [
    {
     "data": {
      "text/html": [
       "<div>\n",
       "<style scoped>\n",
       "    .dataframe tbody tr th:only-of-type {\n",
       "        vertical-align: middle;\n",
       "    }\n",
       "\n",
       "    .dataframe tbody tr th {\n",
       "        vertical-align: top;\n",
       "    }\n",
       "\n",
       "    .dataframe thead th {\n",
       "        text-align: right;\n",
       "    }\n",
       "</style>\n",
       "<table border=\"1\" class=\"dataframe\">\n",
       "  <thead>\n",
       "    <tr style=\"text-align: right;\">\n",
       "      <th></th>\n",
       "      <th>id</th>\n",
       "      <th>amount_tsh</th>\n",
       "      <th>date_recorded</th>\n",
       "      <th>funder</th>\n",
       "      <th>gps_height</th>\n",
       "      <th>installer</th>\n",
       "      <th>longitude</th>\n",
       "      <th>latitude</th>\n",
       "      <th>wpt_name</th>\n",
       "      <th>num_private</th>\n",
       "      <th>...</th>\n",
       "      <th>payment_type</th>\n",
       "      <th>water_quality</th>\n",
       "      <th>quality_group</th>\n",
       "      <th>quantity</th>\n",
       "      <th>quantity_group</th>\n",
       "      <th>source</th>\n",
       "      <th>source_type</th>\n",
       "      <th>source_class</th>\n",
       "      <th>waterpoint_type</th>\n",
       "      <th>waterpoint_type_group</th>\n",
       "    </tr>\n",
       "  </thead>\n",
       "  <tbody>\n",
       "    <tr>\n",
       "      <th>0</th>\n",
       "      <td>69572</td>\n",
       "      <td>6000.0</td>\n",
       "      <td>2011-03-14</td>\n",
       "      <td>Roman</td>\n",
       "      <td>1390</td>\n",
       "      <td>Roman</td>\n",
       "      <td>34.938093</td>\n",
       "      <td>-9.856322</td>\n",
       "      <td>none</td>\n",
       "      <td>0</td>\n",
       "      <td>...</td>\n",
       "      <td>annually</td>\n",
       "      <td>soft</td>\n",
       "      <td>good</td>\n",
       "      <td>enough</td>\n",
       "      <td>enough</td>\n",
       "      <td>spring</td>\n",
       "      <td>spring</td>\n",
       "      <td>groundwater</td>\n",
       "      <td>communal standpipe</td>\n",
       "      <td>communal standpipe</td>\n",
       "    </tr>\n",
       "    <tr>\n",
       "      <th>1</th>\n",
       "      <td>8776</td>\n",
       "      <td>0.0</td>\n",
       "      <td>2013-03-06</td>\n",
       "      <td>Grumeti</td>\n",
       "      <td>1399</td>\n",
       "      <td>GRUMETI</td>\n",
       "      <td>34.698766</td>\n",
       "      <td>-2.147466</td>\n",
       "      <td>Zahanati</td>\n",
       "      <td>0</td>\n",
       "      <td>...</td>\n",
       "      <td>never pay</td>\n",
       "      <td>soft</td>\n",
       "      <td>good</td>\n",
       "      <td>insufficient</td>\n",
       "      <td>insufficient</td>\n",
       "      <td>rainwater harvesting</td>\n",
       "      <td>rainwater harvesting</td>\n",
       "      <td>surface</td>\n",
       "      <td>communal standpipe</td>\n",
       "      <td>communal standpipe</td>\n",
       "    </tr>\n",
       "    <tr>\n",
       "      <th>2</th>\n",
       "      <td>34310</td>\n",
       "      <td>25.0</td>\n",
       "      <td>2013-02-25</td>\n",
       "      <td>Lottery Club</td>\n",
       "      <td>686</td>\n",
       "      <td>World vision</td>\n",
       "      <td>37.460664</td>\n",
       "      <td>-3.821329</td>\n",
       "      <td>Kwa Mahundi</td>\n",
       "      <td>0</td>\n",
       "      <td>...</td>\n",
       "      <td>per bucket</td>\n",
       "      <td>soft</td>\n",
       "      <td>good</td>\n",
       "      <td>enough</td>\n",
       "      <td>enough</td>\n",
       "      <td>dam</td>\n",
       "      <td>dam</td>\n",
       "      <td>surface</td>\n",
       "      <td>communal standpipe multiple</td>\n",
       "      <td>communal standpipe</td>\n",
       "    </tr>\n",
       "    <tr>\n",
       "      <th>3</th>\n",
       "      <td>67743</td>\n",
       "      <td>0.0</td>\n",
       "      <td>2013-01-28</td>\n",
       "      <td>Unicef</td>\n",
       "      <td>263</td>\n",
       "      <td>UNICEF</td>\n",
       "      <td>38.486161</td>\n",
       "      <td>-11.155298</td>\n",
       "      <td>Zahanati Ya Nanyumbu</td>\n",
       "      <td>0</td>\n",
       "      <td>...</td>\n",
       "      <td>never pay</td>\n",
       "      <td>soft</td>\n",
       "      <td>good</td>\n",
       "      <td>dry</td>\n",
       "      <td>dry</td>\n",
       "      <td>machine dbh</td>\n",
       "      <td>borehole</td>\n",
       "      <td>groundwater</td>\n",
       "      <td>communal standpipe multiple</td>\n",
       "      <td>communal standpipe</td>\n",
       "    </tr>\n",
       "    <tr>\n",
       "      <th>4</th>\n",
       "      <td>19728</td>\n",
       "      <td>0.0</td>\n",
       "      <td>2011-07-13</td>\n",
       "      <td>Action In A</td>\n",
       "      <td>0</td>\n",
       "      <td>Artisan</td>\n",
       "      <td>31.130847</td>\n",
       "      <td>-1.825359</td>\n",
       "      <td>Shuleni</td>\n",
       "      <td>0</td>\n",
       "      <td>...</td>\n",
       "      <td>never pay</td>\n",
       "      <td>soft</td>\n",
       "      <td>good</td>\n",
       "      <td>seasonal</td>\n",
       "      <td>seasonal</td>\n",
       "      <td>rainwater harvesting</td>\n",
       "      <td>rainwater harvesting</td>\n",
       "      <td>surface</td>\n",
       "      <td>communal standpipe</td>\n",
       "      <td>communal standpipe</td>\n",
       "    </tr>\n",
       "  </tbody>\n",
       "</table>\n",
       "<p>5 rows × 40 columns</p>\n",
       "</div>"
      ],
      "text/plain": [
       "      id  amount_tsh date_recorded        funder  gps_height     installer  \\\n",
       "0  69572      6000.0    2011-03-14         Roman        1390         Roman   \n",
       "1   8776         0.0    2013-03-06       Grumeti        1399       GRUMETI   \n",
       "2  34310        25.0    2013-02-25  Lottery Club         686  World vision   \n",
       "3  67743         0.0    2013-01-28        Unicef         263        UNICEF   \n",
       "4  19728         0.0    2011-07-13   Action In A           0       Artisan   \n",
       "\n",
       "   longitude   latitude              wpt_name  num_private  ... payment_type  \\\n",
       "0  34.938093  -9.856322                  none            0  ...     annually   \n",
       "1  34.698766  -2.147466              Zahanati            0  ...    never pay   \n",
       "2  37.460664  -3.821329           Kwa Mahundi            0  ...   per bucket   \n",
       "3  38.486161 -11.155298  Zahanati Ya Nanyumbu            0  ...    never pay   \n",
       "4  31.130847  -1.825359               Shuleni            0  ...    never pay   \n",
       "\n",
       "  water_quality quality_group      quantity  quantity_group  \\\n",
       "0          soft          good        enough          enough   \n",
       "1          soft          good  insufficient    insufficient   \n",
       "2          soft          good        enough          enough   \n",
       "3          soft          good           dry             dry   \n",
       "4          soft          good      seasonal        seasonal   \n",
       "\n",
       "                 source           source_type  source_class  \\\n",
       "0                spring                spring   groundwater   \n",
       "1  rainwater harvesting  rainwater harvesting       surface   \n",
       "2                   dam                   dam       surface   \n",
       "3           machine dbh              borehole   groundwater   \n",
       "4  rainwater harvesting  rainwater harvesting       surface   \n",
       "\n",
       "               waterpoint_type waterpoint_type_group  \n",
       "0           communal standpipe    communal standpipe  \n",
       "1           communal standpipe    communal standpipe  \n",
       "2  communal standpipe multiple    communal standpipe  \n",
       "3  communal standpipe multiple    communal standpipe  \n",
       "4           communal standpipe    communal standpipe  \n",
       "\n",
       "[5 rows x 40 columns]"
      ]
     },
     "execution_count": 263,
     "metadata": {},
     "output_type": "execute_result"
    }
   ],
   "source": [
    "df3.head()"
   ]
  },
  {
   "cell_type": "markdown",
   "id": "9e221e22-d9fe-4876-81f7-e863a8508d5d",
   "metadata": {},
   "source": [
    "After looking at the data, we decided to merge dataframes 2 and 3, which include the independent and dependent variables that were provided as training materials. "
   ]
  },
  {
   "cell_type": "code",
   "execution_count": 264,
   "id": "c793d7dc-7ca9-4aa6-8044-94feb6f9e88a",
   "metadata": {},
   "outputs": [
    {
     "data": {
      "text/html": [
       "<div>\n",
       "<style scoped>\n",
       "    .dataframe tbody tr th:only-of-type {\n",
       "        vertical-align: middle;\n",
       "    }\n",
       "\n",
       "    .dataframe tbody tr th {\n",
       "        vertical-align: top;\n",
       "    }\n",
       "\n",
       "    .dataframe thead th {\n",
       "        text-align: right;\n",
       "    }\n",
       "</style>\n",
       "<table border=\"1\" class=\"dataframe\">\n",
       "  <thead>\n",
       "    <tr style=\"text-align: right;\">\n",
       "      <th></th>\n",
       "      <th>id</th>\n",
       "      <th>amount_tsh</th>\n",
       "      <th>date_recorded</th>\n",
       "      <th>funder</th>\n",
       "      <th>gps_height</th>\n",
       "      <th>installer</th>\n",
       "      <th>longitude</th>\n",
       "      <th>latitude</th>\n",
       "      <th>wpt_name</th>\n",
       "      <th>num_private</th>\n",
       "      <th>...</th>\n",
       "      <th>water_quality</th>\n",
       "      <th>quality_group</th>\n",
       "      <th>quantity</th>\n",
       "      <th>quantity_group</th>\n",
       "      <th>source</th>\n",
       "      <th>source_type</th>\n",
       "      <th>source_class</th>\n",
       "      <th>waterpoint_type</th>\n",
       "      <th>waterpoint_type_group</th>\n",
       "      <th>status_group</th>\n",
       "    </tr>\n",
       "  </thead>\n",
       "  <tbody>\n",
       "    <tr>\n",
       "      <th>0</th>\n",
       "      <td>69572</td>\n",
       "      <td>6000.0</td>\n",
       "      <td>2011-03-14</td>\n",
       "      <td>Roman</td>\n",
       "      <td>1390</td>\n",
       "      <td>Roman</td>\n",
       "      <td>34.938093</td>\n",
       "      <td>-9.856322</td>\n",
       "      <td>none</td>\n",
       "      <td>0</td>\n",
       "      <td>...</td>\n",
       "      <td>soft</td>\n",
       "      <td>good</td>\n",
       "      <td>enough</td>\n",
       "      <td>enough</td>\n",
       "      <td>spring</td>\n",
       "      <td>spring</td>\n",
       "      <td>groundwater</td>\n",
       "      <td>communal standpipe</td>\n",
       "      <td>communal standpipe</td>\n",
       "      <td>functional</td>\n",
       "    </tr>\n",
       "    <tr>\n",
       "      <th>1</th>\n",
       "      <td>8776</td>\n",
       "      <td>0.0</td>\n",
       "      <td>2013-03-06</td>\n",
       "      <td>Grumeti</td>\n",
       "      <td>1399</td>\n",
       "      <td>GRUMETI</td>\n",
       "      <td>34.698766</td>\n",
       "      <td>-2.147466</td>\n",
       "      <td>Zahanati</td>\n",
       "      <td>0</td>\n",
       "      <td>...</td>\n",
       "      <td>soft</td>\n",
       "      <td>good</td>\n",
       "      <td>insufficient</td>\n",
       "      <td>insufficient</td>\n",
       "      <td>rainwater harvesting</td>\n",
       "      <td>rainwater harvesting</td>\n",
       "      <td>surface</td>\n",
       "      <td>communal standpipe</td>\n",
       "      <td>communal standpipe</td>\n",
       "      <td>functional</td>\n",
       "    </tr>\n",
       "    <tr>\n",
       "      <th>2</th>\n",
       "      <td>34310</td>\n",
       "      <td>25.0</td>\n",
       "      <td>2013-02-25</td>\n",
       "      <td>Lottery Club</td>\n",
       "      <td>686</td>\n",
       "      <td>World vision</td>\n",
       "      <td>37.460664</td>\n",
       "      <td>-3.821329</td>\n",
       "      <td>Kwa Mahundi</td>\n",
       "      <td>0</td>\n",
       "      <td>...</td>\n",
       "      <td>soft</td>\n",
       "      <td>good</td>\n",
       "      <td>enough</td>\n",
       "      <td>enough</td>\n",
       "      <td>dam</td>\n",
       "      <td>dam</td>\n",
       "      <td>surface</td>\n",
       "      <td>communal standpipe multiple</td>\n",
       "      <td>communal standpipe</td>\n",
       "      <td>functional</td>\n",
       "    </tr>\n",
       "    <tr>\n",
       "      <th>3</th>\n",
       "      <td>67743</td>\n",
       "      <td>0.0</td>\n",
       "      <td>2013-01-28</td>\n",
       "      <td>Unicef</td>\n",
       "      <td>263</td>\n",
       "      <td>UNICEF</td>\n",
       "      <td>38.486161</td>\n",
       "      <td>-11.155298</td>\n",
       "      <td>Zahanati Ya Nanyumbu</td>\n",
       "      <td>0</td>\n",
       "      <td>...</td>\n",
       "      <td>soft</td>\n",
       "      <td>good</td>\n",
       "      <td>dry</td>\n",
       "      <td>dry</td>\n",
       "      <td>machine dbh</td>\n",
       "      <td>borehole</td>\n",
       "      <td>groundwater</td>\n",
       "      <td>communal standpipe multiple</td>\n",
       "      <td>communal standpipe</td>\n",
       "      <td>non functional</td>\n",
       "    </tr>\n",
       "    <tr>\n",
       "      <th>4</th>\n",
       "      <td>19728</td>\n",
       "      <td>0.0</td>\n",
       "      <td>2011-07-13</td>\n",
       "      <td>Action In A</td>\n",
       "      <td>0</td>\n",
       "      <td>Artisan</td>\n",
       "      <td>31.130847</td>\n",
       "      <td>-1.825359</td>\n",
       "      <td>Shuleni</td>\n",
       "      <td>0</td>\n",
       "      <td>...</td>\n",
       "      <td>soft</td>\n",
       "      <td>good</td>\n",
       "      <td>seasonal</td>\n",
       "      <td>seasonal</td>\n",
       "      <td>rainwater harvesting</td>\n",
       "      <td>rainwater harvesting</td>\n",
       "      <td>surface</td>\n",
       "      <td>communal standpipe</td>\n",
       "      <td>communal standpipe</td>\n",
       "      <td>functional</td>\n",
       "    </tr>\n",
       "  </tbody>\n",
       "</table>\n",
       "<p>5 rows × 41 columns</p>\n",
       "</div>"
      ],
      "text/plain": [
       "      id  amount_tsh date_recorded        funder  gps_height     installer  \\\n",
       "0  69572      6000.0    2011-03-14         Roman        1390         Roman   \n",
       "1   8776         0.0    2013-03-06       Grumeti        1399       GRUMETI   \n",
       "2  34310        25.0    2013-02-25  Lottery Club         686  World vision   \n",
       "3  67743         0.0    2013-01-28        Unicef         263        UNICEF   \n",
       "4  19728         0.0    2011-07-13   Action In A           0       Artisan   \n",
       "\n",
       "   longitude   latitude              wpt_name  num_private  ... water_quality  \\\n",
       "0  34.938093  -9.856322                  none            0  ...          soft   \n",
       "1  34.698766  -2.147466              Zahanati            0  ...          soft   \n",
       "2  37.460664  -3.821329           Kwa Mahundi            0  ...          soft   \n",
       "3  38.486161 -11.155298  Zahanati Ya Nanyumbu            0  ...          soft   \n",
       "4  31.130847  -1.825359               Shuleni            0  ...          soft   \n",
       "\n",
       "  quality_group      quantity  quantity_group                source  \\\n",
       "0          good        enough          enough                spring   \n",
       "1          good  insufficient    insufficient  rainwater harvesting   \n",
       "2          good        enough          enough                   dam   \n",
       "3          good           dry             dry           machine dbh   \n",
       "4          good      seasonal        seasonal  rainwater harvesting   \n",
       "\n",
       "            source_type source_class              waterpoint_type  \\\n",
       "0                spring  groundwater           communal standpipe   \n",
       "1  rainwater harvesting      surface           communal standpipe   \n",
       "2                   dam      surface  communal standpipe multiple   \n",
       "3              borehole  groundwater  communal standpipe multiple   \n",
       "4  rainwater harvesting      surface           communal standpipe   \n",
       "\n",
       "  waterpoint_type_group    status_group  \n",
       "0    communal standpipe      functional  \n",
       "1    communal standpipe      functional  \n",
       "2    communal standpipe      functional  \n",
       "3    communal standpipe  non functional  \n",
       "4    communal standpipe      functional  \n",
       "\n",
       "[5 rows x 41 columns]"
      ]
     },
     "execution_count": 264,
     "metadata": {},
     "output_type": "execute_result"
    }
   ],
   "source": [
    "# merging dataframes 2 and 3 on id\n",
    "df4 = df3.merge(df2, on = \"id\")\n",
    "df4.head()"
   ]
  },
  {
   "cell_type": "markdown",
   "id": "ad94dd75-0e18-4535-bb91-c162999a045f",
   "metadata": {},
   "source": [
    "Next, we dropped the columns that were duplicates of other columns or otherwise not relevant to the scope of our analysis. We also filtered the data for wells in the Lake Victoria basin that were eight communal standpipe wells or hand pump wells, as per the business problem."
   ]
  },
  {
   "cell_type": "code",
   "execution_count": 265,
   "id": "84b57bed-f47b-40dd-ad64-81481eb13fb8",
   "metadata": {},
   "outputs": [],
   "source": [
    "# dropping irrelevant columns\n",
    "to_drop = [\"scheme_name\", \"id\", \"public_meeting\", 'population', 'lga', 'permit', 'quantity', \"payment_type\", \"ward\", \"management\", \"water_quality\", \"wpt_name\", \"installer\", \"funder\", \"source_type\", \"subvillage\", \"extraction_type\", \"extraction_type_group\", \"source\", \"scheme_management\", \"construction_year\", \"quantity_group\", \"waterpoint_type\", \"amount_tsh\", \"region_code\", \"district_code\", \"num_private\", \"date_recorded\", \"recorded_by\"]\n",
    "df4.drop(to_drop, axis=1, inplace = True)"
   ]
  },
  {
   "cell_type": "code",
   "execution_count": 266,
   "id": "9787e458-bd6a-4e95-9666-774f8c4268e4",
   "metadata": {},
   "outputs": [
    {
     "data": {
      "text/html": [
       "<div>\n",
       "<style scoped>\n",
       "    .dataframe tbody tr th:only-of-type {\n",
       "        vertical-align: middle;\n",
       "    }\n",
       "\n",
       "    .dataframe tbody tr th {\n",
       "        vertical-align: top;\n",
       "    }\n",
       "\n",
       "    .dataframe thead th {\n",
       "        text-align: right;\n",
       "    }\n",
       "</style>\n",
       "<table border=\"1\" class=\"dataframe\">\n",
       "  <thead>\n",
       "    <tr style=\"text-align: right;\">\n",
       "      <th></th>\n",
       "      <th>gps_height</th>\n",
       "      <th>longitude</th>\n",
       "      <th>latitude</th>\n",
       "      <th>basin</th>\n",
       "      <th>region</th>\n",
       "      <th>extraction_type_class</th>\n",
       "      <th>management_group</th>\n",
       "      <th>payment</th>\n",
       "      <th>quality_group</th>\n",
       "      <th>source_class</th>\n",
       "      <th>waterpoint_type_group</th>\n",
       "      <th>status_group</th>\n",
       "    </tr>\n",
       "  </thead>\n",
       "  <tbody>\n",
       "    <tr>\n",
       "      <th>1</th>\n",
       "      <td>1399</td>\n",
       "      <td>34.698766</td>\n",
       "      <td>-2.147466e+00</td>\n",
       "      <td>Lake Victoria</td>\n",
       "      <td>Mara</td>\n",
       "      <td>gravity</td>\n",
       "      <td>user-group</td>\n",
       "      <td>never pay</td>\n",
       "      <td>good</td>\n",
       "      <td>surface</td>\n",
       "      <td>communal standpipe</td>\n",
       "      <td>functional</td>\n",
       "    </tr>\n",
       "    <tr>\n",
       "      <th>4</th>\n",
       "      <td>0</td>\n",
       "      <td>31.130847</td>\n",
       "      <td>-1.825359e+00</td>\n",
       "      <td>Lake Victoria</td>\n",
       "      <td>Kagera</td>\n",
       "      <td>gravity</td>\n",
       "      <td>other</td>\n",
       "      <td>never pay</td>\n",
       "      <td>good</td>\n",
       "      <td>surface</td>\n",
       "      <td>communal standpipe</td>\n",
       "      <td>functional</td>\n",
       "    </tr>\n",
       "    <tr>\n",
       "      <th>9</th>\n",
       "      <td>0</td>\n",
       "      <td>30.626991</td>\n",
       "      <td>-1.257051e+00</td>\n",
       "      <td>Lake Victoria</td>\n",
       "      <td>Kagera</td>\n",
       "      <td>handpump</td>\n",
       "      <td>user-group</td>\n",
       "      <td>never pay</td>\n",
       "      <td>good</td>\n",
       "      <td>groundwater</td>\n",
       "      <td>hand pump</td>\n",
       "      <td>functional</td>\n",
       "    </tr>\n",
       "    <tr>\n",
       "      <th>18</th>\n",
       "      <td>1162</td>\n",
       "      <td>32.920154</td>\n",
       "      <td>-1.947868e+00</td>\n",
       "      <td>Lake Victoria</td>\n",
       "      <td>Mwanza</td>\n",
       "      <td>other</td>\n",
       "      <td>user-group</td>\n",
       "      <td>never pay</td>\n",
       "      <td>milky</td>\n",
       "      <td>groundwater</td>\n",
       "      <td>other</td>\n",
       "      <td>functional needs repair</td>\n",
       "    </tr>\n",
       "    <tr>\n",
       "      <th>21</th>\n",
       "      <td>0</td>\n",
       "      <td>0.000000</td>\n",
       "      <td>-2.000000e-08</td>\n",
       "      <td>Lake Victoria</td>\n",
       "      <td>Shinyanga</td>\n",
       "      <td>handpump</td>\n",
       "      <td>user-group</td>\n",
       "      <td>unknown</td>\n",
       "      <td>unknown</td>\n",
       "      <td>groundwater</td>\n",
       "      <td>hand pump</td>\n",
       "      <td>functional</td>\n",
       "    </tr>\n",
       "  </tbody>\n",
       "</table>\n",
       "</div>"
      ],
      "text/plain": [
       "    gps_height  longitude      latitude          basin     region  \\\n",
       "1         1399  34.698766 -2.147466e+00  Lake Victoria       Mara   \n",
       "4            0  31.130847 -1.825359e+00  Lake Victoria     Kagera   \n",
       "9            0  30.626991 -1.257051e+00  Lake Victoria     Kagera   \n",
       "18        1162  32.920154 -1.947868e+00  Lake Victoria     Mwanza   \n",
       "21           0   0.000000 -2.000000e-08  Lake Victoria  Shinyanga   \n",
       "\n",
       "   extraction_type_class management_group    payment quality_group  \\\n",
       "1                gravity       user-group  never pay          good   \n",
       "4                gravity            other  never pay          good   \n",
       "9               handpump       user-group  never pay          good   \n",
       "18                 other       user-group  never pay         milky   \n",
       "21              handpump       user-group    unknown       unknown   \n",
       "\n",
       "   source_class waterpoint_type_group             status_group  \n",
       "1       surface    communal standpipe               functional  \n",
       "4       surface    communal standpipe               functional  \n",
       "9   groundwater             hand pump               functional  \n",
       "18  groundwater                 other  functional needs repair  \n",
       "21  groundwater             hand pump               functional  "
      ]
     },
     "execution_count": 266,
     "metadata": {},
     "output_type": "execute_result"
    }
   ],
   "source": [
    "# dropping any wells that are not located in the Lake Victoria basin (our stakeholder wants to focus on one region)\n",
    "fdf = df4.drop(df4.index[df4['basin'] != 'Lake Victoria'])\n",
    "fdf.head()"
   ]
  },
  {
   "cell_type": "code",
   "execution_count": 267,
   "id": "6ea69ae9-5c39-41db-8e86-fcb0c15c3198",
   "metadata": {},
   "outputs": [],
   "source": [
    "# dropping any wells that are not a communal standpipe or hand pump\n",
    "fdf2 = fdf[fdf['waterpoint_type_group'].isin(['communal standpipe', 'hand pump'])]"
   ]
  },
  {
   "cell_type": "code",
   "execution_count": 268,
   "id": "e011d891-76f0-4246-8916-d8fc1e33e18b",
   "metadata": {},
   "outputs": [
    {
     "name": "stdout",
     "output_type": "stream",
     "text": [
      "<class 'pandas.core.frame.DataFrame'>\n",
      "Index: 8330 entries, 1 to 59385\n",
      "Data columns (total 12 columns):\n",
      " #   Column                 Non-Null Count  Dtype  \n",
      "---  ------                 --------------  -----  \n",
      " 0   gps_height             8330 non-null   int64  \n",
      " 1   longitude              8330 non-null   float64\n",
      " 2   latitude               8330 non-null   float64\n",
      " 3   basin                  8330 non-null   object \n",
      " 4   region                 8330 non-null   object \n",
      " 5   extraction_type_class  8330 non-null   object \n",
      " 6   management_group       8330 non-null   object \n",
      " 7   payment                8330 non-null   object \n",
      " 8   quality_group          8330 non-null   object \n",
      " 9   source_class           8330 non-null   object \n",
      " 10  waterpoint_type_group  8330 non-null   object \n",
      " 11  target                 8330 non-null   object \n",
      "dtypes: float64(2), int64(1), object(9)\n",
      "memory usage: 846.0+ KB\n"
     ]
    }
   ],
   "source": [
    "# renaming the column \"status_group\" to \"target\"\n",
    "fdf2.rename(columns={\"status_group\": \"target\"}, inplace= True)\n",
    "fdf2.info()"
   ]
  },
  {
   "cell_type": "code",
   "execution_count": 269,
   "id": "fd3fff00-0bdd-4170-b747-0b0bf06af753",
   "metadata": {},
   "outputs": [
    {
     "data": {
      "text/plain": [
       "target\n",
       "functional                 4527\n",
       "non functional             2967\n",
       "functional needs repair     836\n",
       "Name: count, dtype: int64"
      ]
     },
     "execution_count": 269,
     "metadata": {},
     "output_type": "execute_result"
    }
   ],
   "source": [
    "fdf2['target'].value_counts()"
   ]
  },
  {
   "cell_type": "code",
   "execution_count": 270,
   "id": "e3dae708-eccb-4964-b610-84cf142bf536",
   "metadata": {},
   "outputs": [],
   "source": [
    "# changing any row that says \"functional needs repair\" to \"non functional\"\n",
    "fdf2.replace({'target': {'functional needs repair': 'non functional'}}, inplace=True)"
   ]
  },
  {
   "cell_type": "code",
   "execution_count": 271,
   "id": "a7e4778c-df80-4bcf-bcbc-0ac636cb411f",
   "metadata": {},
   "outputs": [
    {
     "data": {
      "text/plain": [
       "target\n",
       "functional        4527\n",
       "non functional    3803\n",
       "Name: count, dtype: int64"
      ]
     },
     "execution_count": 271,
     "metadata": {},
     "output_type": "execute_result"
    }
   ],
   "source": [
    "fdf2['target'].value_counts()"
   ]
  },
  {
   "cell_type": "code",
   "execution_count": 272,
   "id": "3db6c704-3d0f-4a64-b834-557adaf1bcec",
   "metadata": {},
   "outputs": [],
   "source": [
    "# dropping nulls in the 'permit' column\n",
    "#fdf = filtered_df.dropna(subset=['permit'])"
   ]
  },
  {
   "cell_type": "code",
   "execution_count": 273,
   "id": "bf87ed57-5205-4b9f-a792-f16af52af543",
   "metadata": {},
   "outputs": [],
   "source": [
    "# resetting the index on our new dataframe\n",
    "#fdf.reset_index()"
   ]
  },
  {
   "cell_type": "code",
   "execution_count": 274,
   "id": "26fd0488-77e3-4a48-ad11-52830cbe709f",
   "metadata": {},
   "outputs": [
    {
     "name": "stdout",
     "output_type": "stream",
     "text": [
      "<class 'pandas.core.frame.DataFrame'>\n",
      "Index: 8330 entries, 1 to 59385\n",
      "Data columns (total 12 columns):\n",
      " #   Column                 Non-Null Count  Dtype  \n",
      "---  ------                 --------------  -----  \n",
      " 0   gps_height             8330 non-null   int64  \n",
      " 1   longitude              8330 non-null   float64\n",
      " 2   latitude               8330 non-null   float64\n",
      " 3   basin                  8330 non-null   object \n",
      " 4   region                 8330 non-null   object \n",
      " 5   extraction_type_class  8330 non-null   object \n",
      " 6   management_group       8330 non-null   object \n",
      " 7   payment                8330 non-null   object \n",
      " 8   quality_group          8330 non-null   object \n",
      " 9   source_class           8330 non-null   object \n",
      " 10  waterpoint_type_group  8330 non-null   object \n",
      " 11  target                 8330 non-null   object \n",
      "dtypes: float64(2), int64(1), object(9)\n",
      "memory usage: 846.0+ KB\n"
     ]
    }
   ],
   "source": [
    "# dropping the column 'basin' since we filtered for only datapoints in the Lake Victoria basin\n",
    "#fdf.drop(['basin'], axis=1, inplace = True)\n",
    "fdf2.info()"
   ]
  },
  {
   "cell_type": "code",
   "execution_count": 275,
   "id": "0fb241de-3356-4cfb-9ca2-8c8d84cc5b31",
   "metadata": {},
   "outputs": [
    {
     "data": {
      "text/plain": [
       "extraction_type_class\n",
       "manual        5171\n",
       "other         2346\n",
       "mechanical     813\n",
       "Name: count, dtype: int64"
      ]
     },
     "execution_count": 275,
     "metadata": {},
     "output_type": "execute_result"
    }
   ],
   "source": [
    "fdf2.replace({'extraction_type_class': {'handpump': 'manual'}}, inplace=True)\n",
    "fdf2.replace({'extraction_type_class': {'gravity': 'other'}}, inplace=True)\n",
    "fdf2.replace({'extraction_type_class': {'submersible': 'mechanical'}}, inplace=True)\n",
    "fdf2.replace({'extraction_type_class': {'motorpump': 'mechanical'}}, inplace=True)\n",
    "fdf2.replace({'extraction_type_class': {'rope pump': 'manual'}}, inplace=True)\n",
    "fdf2.replace({'extraction_type_class': {'wind-powered': 'other'}}, inplace=True)\n",
    "fdf2['extraction_type_class'].value_counts()"
   ]
  },
  {
   "cell_type": "code",
   "execution_count": 276,
   "id": "8830cc91-419e-4bbf-b8ac-84e780f556ae",
   "metadata": {},
   "outputs": [
    {
     "data": {
      "text/plain": [
       "quality_group\n",
       "good       6976\n",
       "other      1051\n",
       "unknown     303\n",
       "Name: count, dtype: int64"
      ]
     },
     "execution_count": 276,
     "metadata": {},
     "output_type": "execute_result"
    }
   ],
   "source": [
    "fdf2.replace({'quality_group': {'salty': 'other'}}, inplace=True)\n",
    "fdf2.replace({'quality_group': {'milky': 'other'}}, inplace=True)\n",
    "fdf2.replace({'quality_group': {'colored': 'other'}}, inplace=True)\n",
    "fdf2.replace({'quality_group': {'fluoride': 'other'}}, inplace=True)\n",
    "fdf2['quality_group'].value_counts()"
   ]
  },
  {
   "cell_type": "code",
   "execution_count": 277,
   "id": "dbcf63e6-8fcc-4c97-b546-a30c3f650388",
   "metadata": {},
   "outputs": [
    {
     "data": {
      "text/plain": [
       "payment\n",
       "never pay    5199\n",
       "other        1872\n",
       "unknown      1259\n",
       "Name: count, dtype: int64"
      ]
     },
     "execution_count": 277,
     "metadata": {},
     "output_type": "execute_result"
    }
   ],
   "source": [
    "fdf2.replace({'payment': {'pay when scheme fails': 'other'}}, inplace=True)\n",
    "fdf2.replace({'payment': {'pay monthly': 'other'}}, inplace=True)\n",
    "fdf2.replace({'payment': {'pay per bucket': 'other'}}, inplace=True)\n",
    "fdf2.replace({'payment': {'pay annually': 'other'}}, inplace=True)\n",
    "fdf2['payment'].value_counts()"
   ]
  },
  {
   "cell_type": "code",
   "execution_count": 278,
   "id": "393e3a9f-1272-4b9d-880b-274f9490edcf",
   "metadata": {},
   "outputs": [],
   "source": [
    "# uploaded this to a new csv to use in Tableau\n",
    "#fdf.to_csv('df_v2.csv')"
   ]
  },
  {
   "cell_type": "code",
   "execution_count": 279,
   "id": "9c267827-d278-4a66-95c5-3f94caa51359",
   "metadata": {},
   "outputs": [
    {
     "data": {
      "text/plain": [
       "target\n",
       "functional        4527\n",
       "non functional    3803\n",
       "Name: count, dtype: int64"
      ]
     },
     "execution_count": 279,
     "metadata": {},
     "output_type": "execute_result"
    }
   ],
   "source": [
    "# # checking out value counts for our target variable\n",
    "fdf2['target'].value_counts()"
   ]
  },
  {
   "cell_type": "code",
   "execution_count": 280,
   "id": "5acc673a-7958-4714-b05e-dbfb0fe62666",
   "metadata": {},
   "outputs": [
    {
     "data": {
      "text/html": [
       "<div>\n",
       "<style scoped>\n",
       "    .dataframe tbody tr th:only-of-type {\n",
       "        vertical-align: middle;\n",
       "    }\n",
       "\n",
       "    .dataframe tbody tr th {\n",
       "        vertical-align: top;\n",
       "    }\n",
       "\n",
       "    .dataframe thead th {\n",
       "        text-align: right;\n",
       "    }\n",
       "</style>\n",
       "<table border=\"1\" class=\"dataframe\">\n",
       "  <thead>\n",
       "    <tr style=\"text-align: right;\">\n",
       "      <th></th>\n",
       "      <th>gps_height</th>\n",
       "      <th>longitude</th>\n",
       "      <th>latitude</th>\n",
       "    </tr>\n",
       "  </thead>\n",
       "  <tbody>\n",
       "    <tr>\n",
       "      <th>gps_height</th>\n",
       "      <td>1.000000</td>\n",
       "      <td>0.332200</td>\n",
       "      <td>-0.022864</td>\n",
       "    </tr>\n",
       "    <tr>\n",
       "      <th>longitude</th>\n",
       "      <td>0.332200</td>\n",
       "      <td>1.000000</td>\n",
       "      <td>-0.821219</td>\n",
       "    </tr>\n",
       "    <tr>\n",
       "      <th>latitude</th>\n",
       "      <td>-0.022864</td>\n",
       "      <td>-0.821219</td>\n",
       "      <td>1.000000</td>\n",
       "    </tr>\n",
       "  </tbody>\n",
       "</table>\n",
       "</div>"
      ],
      "text/plain": [
       "            gps_height  longitude  latitude\n",
       "gps_height    1.000000   0.332200 -0.022864\n",
       "longitude     0.332200   1.000000 -0.821219\n",
       "latitude     -0.022864  -0.821219  1.000000"
      ]
     },
     "execution_count": 280,
     "metadata": {},
     "output_type": "execute_result"
    }
   ],
   "source": [
    "# looking for correlations in our numeric variables\n",
    "fdf2.corr(method='pearson', numeric_only=True)"
   ]
  },
  {
   "cell_type": "code",
   "execution_count": 281,
   "id": "4d1fe2b7-23c2-4566-a5c7-24f5f54479b7",
   "metadata": {},
   "outputs": [
    {
     "data": {
      "text/plain": [
       "gps_height\n",
       "0       6191\n",
       "1161      15\n",
       "1269      13\n",
       "1209      13\n",
       "1142      13\n",
       "Name: count, dtype: int64"
      ]
     },
     "execution_count": 281,
     "metadata": {},
     "output_type": "execute_result"
    }
   ],
   "source": [
    "# we are assuming this is in meters, however the data dictionary does not specify\n",
    "fdf2['gps_height'].value_counts().head()"
   ]
  },
  {
   "cell_type": "code",
   "execution_count": 282,
   "id": "1c3dd718-6890-4a22-89b8-da74efef6bb7",
   "metadata": {},
   "outputs": [
    {
     "data": {
      "text/plain": [
       "count    8330.000000\n",
       "mean      343.155582\n",
       "std       589.799612\n",
       "min         0.000000\n",
       "25%         0.000000\n",
       "50%         0.000000\n",
       "75%      1145.000000\n",
       "max      2056.000000\n",
       "Name: gps_height, dtype: float64"
      ]
     },
     "execution_count": 282,
     "metadata": {},
     "output_type": "execute_result"
    }
   ],
   "source": [
    "fdf2['gps_height'].describe()"
   ]
  },
  {
   "cell_type": "code",
   "execution_count": 283,
   "id": "341fbb07-285a-4687-ab9d-cb898c9dadce",
   "metadata": {},
   "outputs": [
    {
     "data": {
      "text/plain": [
       "region\n",
       "Mwanza       2389\n",
       "Kagera       2289\n",
       "Shinyanga    1896\n",
       "Mara         1724\n",
       "Arusha         32\n",
       "Name: count, dtype: int64"
      ]
     },
     "execution_count": 283,
     "metadata": {},
     "output_type": "execute_result"
    }
   ],
   "source": [
    "fdf2['region'].value_counts()"
   ]
  },
  {
   "cell_type": "code",
   "execution_count": 284,
   "id": "0dbc5ec8-6f6c-47e2-8b1d-74706672cc29",
   "metadata": {},
   "outputs": [],
   "source": [
    "#fdf['population'].describe()"
   ]
  },
  {
   "cell_type": "code",
   "execution_count": 285,
   "id": "fcfdb738-a78b-4969-adfc-40668ff31d11",
   "metadata": {},
   "outputs": [],
   "source": [
    "# histgram of population - most wells are located in areas with populations on 0\n",
    "#sns.histplot(fdf, x='population');"
   ]
  },
  {
   "cell_type": "code",
   "execution_count": 286,
   "id": "025ba174-9285-4dd7-815f-3ba726c957d3",
   "metadata": {},
   "outputs": [
    {
     "data": {
      "image/png": "[encoded data removed]",
      "text/plain": [
       "<seaborn._core.plot.Plot at 0x15f967cd0>"
      ]
     },
     "execution_count": 286,
     "metadata": {
      "image/png": {
       "height": 556.25,
       "width": 944.375
      }
     },
     "output_type": "execute_result"
    }
   ],
   "source": [
    "# comparing our target by region\n",
    "\n",
    "#makes the plot bigger\n",
    "so.Plot.config.display[\"scaling\"] = 1.25\n",
    "\n",
    "# the plot\n",
    "so.Plot(fdf2, x=\"region\", color=\"target\").add(so.Bar(), so.Count(), so.Stack())"
   ]
  },
  {
   "cell_type": "code",
   "execution_count": 287,
   "id": "5e0f31be-eb87-4afd-89e8-f7b1ec60bc69",
   "metadata": {},
   "outputs": [],
   "source": [
    "# stands for Local Government Authorities (LGAs) in Tanzania are accountable for the delivery of public services to citizens - \n",
    "# providing oversight and management support to health facilities, schools, and villages (https://www.usaid.gov/sites/default/files/2022-05/PS3_Case_Brief_-_LGA.pdf)\n",
    "#fdf['lga'].value_counts()"
   ]
  },
  {
   "cell_type": "code",
   "execution_count": 288,
   "id": "c9555fff-c84f-4e46-8d80-1c16cc1559dd",
   "metadata": {},
   "outputs": [
    {
     "name": "stdout",
     "output_type": "stream",
     "text": [
      "target\n",
      "functional        63.643396\n",
      "non functional    36.356604\n",
      "Name: proportion, dtype: float64\n",
      "___________\n",
      "extraction_type_class\n",
      "manual        72.697150\n",
      "other         21.515352\n",
      "mechanical     5.787497\n",
      "Name: proportion, dtype: float64\n"
     ]
    }
   ],
   "source": [
    "print(fdf2['target'].loc[fdf2['extraction_type_class'] == 'manual'].value_counts(normalize=True) * 100)\n",
    "print('___________')\n",
    "print(fdf2['extraction_type_class'].loc[fdf2['target'] == 'functional'].value_counts(normalize=True) * 100)"
   ]
  },
  {
   "cell_type": "code",
   "execution_count": 289,
   "id": "e2daf248-a86d-4833-a9c5-c04d63202e84",
   "metadata": {},
   "outputs": [
    {
     "data": {
      "image/png": "[encoded data removed]",
      "text/plain": [
       "<seaborn._core.plot.Plot at 0x15fac8ee0>"
      ]
     },
     "execution_count": 289,
     "metadata": {
      "image/png": {
       "height": 556.25,
       "width": 944.375
      }
     },
     "output_type": "execute_result"
    }
   ],
   "source": [
    "# comparing our target by extraction type\n",
    "so.Plot(fdf2, y=\"extraction_type_class\", color=\"target\").add(so.Bar(), so.Count(), so.Stack())"
   ]
  },
  {
   "cell_type": "code",
   "execution_count": 290,
   "id": "04f55a03-98a2-4833-9c44-8c250319962e",
   "metadata": {},
   "outputs": [
    {
     "data": {
      "text/plain": [
       "extraction_type_class\n",
       "manual        62.076831\n",
       "other         28.163265\n",
       "mechanical     9.759904\n",
       "Name: proportion, dtype: float64"
      ]
     },
     "execution_count": 290,
     "metadata": {},
     "output_type": "execute_result"
    }
   ],
   "source": [
    "fdf2[\"extraction_type_class\"].value_counts(normalize=True) * 100"
   ]
  },
  {
   "cell_type": "code",
   "execution_count": 291,
   "id": "7ce8fcef-33a9-45ba-a0f3-f2e54a29446a",
   "metadata": {},
   "outputs": [
    {
     "name": "stdout",
     "output_type": "stream",
     "text": [
      "payment\n",
      "never pay    0.670786\n",
      "other        0.168025\n",
      "unknown      0.161189\n",
      "Name: proportion, dtype: float64\n",
      "___________\n",
      "payment\n",
      "never pay    0.584935\n",
      "other        0.272366\n",
      "unknown      0.142699\n",
      "Name: proportion, dtype: float64\n"
     ]
    }
   ],
   "source": [
    "print(fdf2['payment'].loc[fdf2['target'] == 'non functional'].value_counts(normalize=True))\n",
    "print('___________')\n",
    "print(fdf2['payment'].loc[fdf2['target'] == 'functional'].value_counts(normalize=True))"
   ]
  },
  {
   "cell_type": "code",
   "execution_count": 292,
   "id": "778acca3-f380-4231-a523-00e42fd8efd4",
   "metadata": {},
   "outputs": [
    {
     "data": {
      "image/png": "[encoded data removed]",
      "text/plain": [
       "<seaborn._core.plot.Plot at 0x15d8cbd90>"
      ]
     },
     "execution_count": 292,
     "metadata": {
      "image/png": {
       "height": 556.25,
       "width": 944.375
      }
     },
     "output_type": "execute_result"
    }
   ],
   "source": [
    "# comparing payment method and target\n",
    "so.Plot(fdf2, y=\"payment\", color=\"target\").add(so.Bar(), so.Count(), so.Stack())"
   ]
  },
  {
   "cell_type": "code",
   "execution_count": 293,
   "id": "60012745-24b0-44c3-b428-0c89d48cfd12",
   "metadata": {},
   "outputs": [
    {
     "name": "stdout",
     "output_type": "stream",
     "text": [
      "waterpoint_type_group\n",
      "hand pump             0.510387\n",
      "communal standpipe    0.489613\n",
      "Name: proportion, dtype: float64\n",
      "___________\n",
      "waterpoint_type_group\n",
      "hand pump             0.735145\n",
      "communal standpipe    0.264855\n",
      "Name: proportion, dtype: float64\n"
     ]
    }
   ],
   "source": [
    "print(fdf2['waterpoint_type_group'].loc[fdf2['target'] == 'non functional'].value_counts(normalize=True))\n",
    "print('___________')\n",
    "print(fdf2['waterpoint_type_group'].loc[fdf2['target'] == 'functional'].value_counts(normalize=True))"
   ]
  },
  {
   "cell_type": "code",
   "execution_count": 294,
   "id": "ef9e841f-2d08-4910-88a9-fe3d3b470438",
   "metadata": {},
   "outputs": [
    {
     "data": {
      "image/png": "[encoded data removed]",
      "text/plain": [
       "<seaborn._core.plot.Plot at 0x15fbbc880>"
      ]
     },
     "execution_count": 294,
     "metadata": {
      "image/png": {
       "height": 556.25,
       "width": 944.375
      }
     },
     "output_type": "execute_result"
    }
   ],
   "source": [
    "# comparing waterpoint type and target\n",
    "so.Plot(fdf2, x=\"waterpoint_type_group\", color=\"target\").add(so.Bar(), so.Count(), so.Stack())"
   ]
  },
  {
   "cell_type": "code",
   "execution_count": 295,
   "id": "72c17c1d-af86-445f-8039-3c8b30b51623",
   "metadata": {},
   "outputs": [
    {
     "name": "stdout",
     "output_type": "stream",
     "text": [
      "quality_group\n",
      "good       0.824612\n",
      "other      0.115961\n",
      "unknown    0.059427\n",
      "Name: proportion, dtype: float64\n",
      "___________\n",
      "quality_group\n",
      "good       0.848244\n",
      "other      0.134747\n",
      "unknown    0.017009\n",
      "Name: proportion, dtype: float64\n"
     ]
    }
   ],
   "source": [
    "print(fdf2['quality_group'].loc[fdf2['target'] == 'non functional'].value_counts(normalize=True))\n",
    "print('___________')\n",
    "print(fdf2['quality_group'].loc[fdf2['target'] == 'functional'].value_counts(normalize=True))"
   ]
  },
  {
   "cell_type": "code",
   "execution_count": 296,
   "id": "d651b9f7-dc19-40fe-8208-c2957cef7b10",
   "metadata": {},
   "outputs": [
    {
     "data": {
      "image/png": "[encoded data removed]",
      "text/plain": [
       "<seaborn._core.plot.Plot at 0x15fbb5460>"
      ]
     },
     "execution_count": 296,
     "metadata": {
      "image/png": {
       "height": 556.25,
       "width": 944.375
      }
     },
     "output_type": "execute_result"
    }
   ],
   "source": [
    "so.Plot(fdf2, x=\"quality_group\", color=\"target\").add(so.Bar(), so.Count(), so.Stack())"
   ]
  },
  {
   "cell_type": "code",
   "execution_count": 297,
   "id": "d8a61336-45f6-49fa-8728-c9492f4c41a7",
   "metadata": {},
   "outputs": [
    {
     "name": "stdout",
     "output_type": "stream",
     "text": [
      "<class 'pandas.core.frame.DataFrame'>\n",
      "Index: 8330 entries, 1 to 59385\n",
      "Data columns (total 12 columns):\n",
      " #   Column                 Non-Null Count  Dtype  \n",
      "---  ------                 --------------  -----  \n",
      " 0   gps_height             8330 non-null   int64  \n",
      " 1   longitude              8330 non-null   float64\n",
      " 2   latitude               8330 non-null   float64\n",
      " 3   basin                  8330 non-null   object \n",
      " 4   region                 8330 non-null   object \n",
      " 5   extraction_type_class  8330 non-null   object \n",
      " 6   management_group       8330 non-null   object \n",
      " 7   payment                8330 non-null   object \n",
      " 8   quality_group          8330 non-null   object \n",
      " 9   source_class           8330 non-null   object \n",
      " 10  waterpoint_type_group  8330 non-null   object \n",
      " 11  target                 8330 non-null   object \n",
      "dtypes: float64(2), int64(1), object(9)\n",
      "memory usage: 1.1+ MB\n"
     ]
    }
   ],
   "source": [
    "fdf2.info()"
   ]
  },
  {
   "cell_type": "code",
   "execution_count": 298,
   "id": "309ad6fb-6722-486d-944e-c0449db3ec08",
   "metadata": {},
   "outputs": [],
   "source": [
    "fdf2.to_csv('final_df.csv')"
   ]
  },
  {
   "cell_type": "markdown",
   "id": "c15e38cd-2ef7-449b-ae88-be4820e68f20",
   "metadata": {},
   "source": [
    "## Part 2 - Statistical Analysis"
   ]
  },
  {
   "cell_type": "markdown",
   "id": "a94733cb-e77b-4f3f-ae1a-d4478decdde3",
   "metadata": {},
   "source": [
    "After our initial EDA, we decided to perform some statistical tests to see if any of our variables are highly correlated. Since we are comparing categorical variables, we decided to use a Chi-Squared test of independence. "
   ]
  },
  {
   "cell_type": "code",
   "execution_count": 299,
   "id": "8757ede4-866f-4d33-9055-ba30e7f696ab",
   "metadata": {},
   "outputs": [
    {
     "data": {
      "text/html": [
       "<div>\n",
       "<style scoped>\n",
       "    .dataframe tbody tr th:only-of-type {\n",
       "        vertical-align: middle;\n",
       "    }\n",
       "\n",
       "    .dataframe tbody tr th {\n",
       "        vertical-align: top;\n",
       "    }\n",
       "\n",
       "    .dataframe thead th {\n",
       "        text-align: right;\n",
       "    }\n",
       "</style>\n",
       "<table border=\"1\" class=\"dataframe\">\n",
       "  <thead>\n",
       "    <tr style=\"text-align: right;\">\n",
       "      <th>source_class</th>\n",
       "      <th>groundwater</th>\n",
       "      <th>surface</th>\n",
       "      <th>unknown</th>\n",
       "    </tr>\n",
       "    <tr>\n",
       "      <th>extraction_type_class</th>\n",
       "      <th></th>\n",
       "      <th></th>\n",
       "      <th></th>\n",
       "    </tr>\n",
       "  </thead>\n",
       "  <tbody>\n",
       "    <tr>\n",
       "      <th>manual</th>\n",
       "      <td>5146</td>\n",
       "      <td>20</td>\n",
       "      <td>5</td>\n",
       "    </tr>\n",
       "    <tr>\n",
       "      <th>mechanical</th>\n",
       "      <td>396</td>\n",
       "      <td>416</td>\n",
       "      <td>1</td>\n",
       "    </tr>\n",
       "    <tr>\n",
       "      <th>other</th>\n",
       "      <td>1195</td>\n",
       "      <td>1142</td>\n",
       "      <td>9</td>\n",
       "    </tr>\n",
       "  </tbody>\n",
       "</table>\n",
       "</div>"
      ],
      "text/plain": [
       "source_class           groundwater  surface  unknown\n",
       "extraction_type_class                               \n",
       "manual                        5146       20        5\n",
       "mechanical                     396      416        1\n",
       "other                         1195     1142        9"
      ]
     },
     "execution_count": 299,
     "metadata": {},
     "output_type": "execute_result"
    }
   ],
   "source": [
    "# comparing extraction type and source\n",
    "homogeneity_table1 = pd.crosstab(fdf2[\"extraction_type_class\"], fdf2[\"source_class\"])\n",
    "homogeneity_table1"
   ]
  },
  {
   "cell_type": "code",
   "execution_count": 300,
   "id": "1cdc67fb-f2d2-47a2-87df-a02e5d56d471",
   "metadata": {},
   "outputs": [
    {
     "name": "stdout",
     "output_type": "stream",
     "text": [
      "Chi-square statistic: 3074.33292231809\n",
      "p-value: 0.0\n"
     ]
    }
   ],
   "source": [
    "# performing chi-squared\n",
    "chi2, p, dof, ex = stats.chi2_contingency(homogeneity_table1)\n",
    "\n",
    "print(\"Chi-square statistic:\", chi2)\n",
    "print(\"p-value:\", p)"
   ]
  },
  {
   "cell_type": "code",
   "execution_count": 301,
   "id": "4a789b87-4476-441a-ad56-1eb0ede99c42",
   "metadata": {},
   "outputs": [
    {
     "data": {
      "text/html": [
       "<div>\n",
       "<style scoped>\n",
       "    .dataframe tbody tr th:only-of-type {\n",
       "        vertical-align: middle;\n",
       "    }\n",
       "\n",
       "    .dataframe tbody tr th {\n",
       "        vertical-align: top;\n",
       "    }\n",
       "\n",
       "    .dataframe thead th {\n",
       "        text-align: right;\n",
       "    }\n",
       "</style>\n",
       "<table border=\"1\" class=\"dataframe\">\n",
       "  <thead>\n",
       "    <tr style=\"text-align: right;\">\n",
       "      <th>source_class</th>\n",
       "      <th>groundwater</th>\n",
       "      <th>surface</th>\n",
       "      <th>unknown</th>\n",
       "    </tr>\n",
       "    <tr>\n",
       "      <th>waterpoint_type_group</th>\n",
       "      <th></th>\n",
       "      <th></th>\n",
       "      <th></th>\n",
       "    </tr>\n",
       "  </thead>\n",
       "  <tbody>\n",
       "    <tr>\n",
       "      <th>communal standpipe</th>\n",
       "      <td>1513</td>\n",
       "      <td>1543</td>\n",
       "      <td>5</td>\n",
       "    </tr>\n",
       "    <tr>\n",
       "      <th>hand pump</th>\n",
       "      <td>5224</td>\n",
       "      <td>35</td>\n",
       "      <td>10</td>\n",
       "    </tr>\n",
       "  </tbody>\n",
       "</table>\n",
       "</div>"
      ],
      "text/plain": [
       "source_class           groundwater  surface  unknown\n",
       "waterpoint_type_group                               \n",
       "communal standpipe            1513     1543        5\n",
       "hand pump                     5224       35       10"
      ]
     },
     "execution_count": 301,
     "metadata": {},
     "output_type": "execute_result"
    }
   ],
   "source": [
    "# comparing waterpoint type and source class\n",
    "homogeneity_table2 = pd.crosstab(fdf2[\"waterpoint_type_group\"], fdf2[\"source_class\"])\n",
    "homogeneity_table2"
   ]
  },
  {
   "cell_type": "code",
   "execution_count": 302,
   "id": "ddf52639-4d8a-40c9-9f5a-9f92a236d1cd",
   "metadata": {},
   "outputs": [
    {
     "name": "stdout",
     "output_type": "stream",
     "text": [
      "Chi-square statistic: 3120.9459742088507\n",
      "p-value: 0.0\n"
     ]
    }
   ],
   "source": [
    "# performing chi-squared\n",
    "chi2, p, dof, ex = stats.chi2_contingency(homogeneity_table2)\n",
    "\n",
    "print(\"Chi-square statistic:\", chi2)\n",
    "print(\"p-value:\", p)"
   ]
  },
  {
   "cell_type": "code",
   "execution_count": 303,
   "id": "8657ad65-16ee-4ec1-94d3-d73394641a4f",
   "metadata": {},
   "outputs": [
    {
     "data": {
      "text/html": [
       "<div>\n",
       "<style scoped>\n",
       "    .dataframe tbody tr th:only-of-type {\n",
       "        vertical-align: middle;\n",
       "    }\n",
       "\n",
       "    .dataframe tbody tr th {\n",
       "        vertical-align: top;\n",
       "    }\n",
       "\n",
       "    .dataframe thead th {\n",
       "        text-align: right;\n",
       "    }\n",
       "</style>\n",
       "<table border=\"1\" class=\"dataframe\">\n",
       "  <thead>\n",
       "    <tr style=\"text-align: right;\">\n",
       "      <th>source_class</th>\n",
       "      <th>groundwater</th>\n",
       "      <th>surface</th>\n",
       "      <th>unknown</th>\n",
       "    </tr>\n",
       "    <tr>\n",
       "      <th>extraction_type_class</th>\n",
       "      <th></th>\n",
       "      <th></th>\n",
       "      <th></th>\n",
       "    </tr>\n",
       "  </thead>\n",
       "  <tbody>\n",
       "    <tr>\n",
       "      <th>manual</th>\n",
       "      <td>5146</td>\n",
       "      <td>20</td>\n",
       "      <td>5</td>\n",
       "    </tr>\n",
       "    <tr>\n",
       "      <th>mechanical</th>\n",
       "      <td>396</td>\n",
       "      <td>416</td>\n",
       "      <td>1</td>\n",
       "    </tr>\n",
       "    <tr>\n",
       "      <th>other</th>\n",
       "      <td>1195</td>\n",
       "      <td>1142</td>\n",
       "      <td>9</td>\n",
       "    </tr>\n",
       "  </tbody>\n",
       "</table>\n",
       "</div>"
      ],
      "text/plain": [
       "source_class           groundwater  surface  unknown\n",
       "extraction_type_class                               \n",
       "manual                        5146       20        5\n",
       "mechanical                     396      416        1\n",
       "other                         1195     1142        9"
      ]
     },
     "execution_count": 303,
     "metadata": {},
     "output_type": "execute_result"
    }
   ],
   "source": [
    "# comparing extraction type and source\n",
    "homogeneity_table3 = pd.crosstab(fdf2[\"extraction_type_class\"], fdf2[\"source_class\"])\n",
    "homogeneity_table3"
   ]
  },
  {
   "cell_type": "code",
   "execution_count": 304,
   "id": "d57be857-44de-466c-80f0-3c5d65b5a28a",
   "metadata": {},
   "outputs": [
    {
     "name": "stdout",
     "output_type": "stream",
     "text": [
      "Chi-square statistic: 3074.33292231809\n",
      "p-value: 0.0\n"
     ]
    }
   ],
   "source": [
    "# performing chi-squared\n",
    "chi2, p, dof, ex = stats.chi2_contingency(homogeneity_table3)\n",
    "\n",
    "print(\"Chi-square statistic:\", chi2)\n",
    "print(\"p-value:\", p)"
   ]
  },
  {
   "cell_type": "code",
   "execution_count": 305,
   "id": "df8b4056-d28b-4f2a-8922-d48f16ae7430",
   "metadata": {},
   "outputs": [
    {
     "data": {
      "text/html": [
       "<div>\n",
       "<style scoped>\n",
       "    .dataframe tbody tr th:only-of-type {\n",
       "        vertical-align: middle;\n",
       "    }\n",
       "\n",
       "    .dataframe tbody tr th {\n",
       "        vertical-align: top;\n",
       "    }\n",
       "\n",
       "    .dataframe thead th {\n",
       "        text-align: right;\n",
       "    }\n",
       "</style>\n",
       "<table border=\"1\" class=\"dataframe\">\n",
       "  <thead>\n",
       "    <tr style=\"text-align: right;\">\n",
       "      <th>waterpoint_type_group</th>\n",
       "      <th>communal standpipe</th>\n",
       "      <th>hand pump</th>\n",
       "    </tr>\n",
       "    <tr>\n",
       "      <th>extraction_type_class</th>\n",
       "      <th></th>\n",
       "      <th></th>\n",
       "    </tr>\n",
       "  </thead>\n",
       "  <tbody>\n",
       "    <tr>\n",
       "      <th>manual</th>\n",
       "      <td>63</td>\n",
       "      <td>5108</td>\n",
       "    </tr>\n",
       "    <tr>\n",
       "      <th>mechanical</th>\n",
       "      <td>803</td>\n",
       "      <td>10</td>\n",
       "    </tr>\n",
       "    <tr>\n",
       "      <th>other</th>\n",
       "      <td>2195</td>\n",
       "      <td>151</td>\n",
       "    </tr>\n",
       "  </tbody>\n",
       "</table>\n",
       "</div>"
      ],
      "text/plain": [
       "waterpoint_type_group  communal standpipe  hand pump\n",
       "extraction_type_class                               \n",
       "manual                                 63       5108\n",
       "mechanical                            803         10\n",
       "other                                2195        151"
      ]
     },
     "execution_count": 305,
     "metadata": {},
     "output_type": "execute_result"
    }
   ],
   "source": [
    "# comparing extraction type and waterpoint type\n",
    "homogeneity_table4 = pd.crosstab(fdf2[\"extraction_type_class\"], fdf2[\"waterpoint_type_group\"])\n",
    "homogeneity_table4"
   ]
  },
  {
   "cell_type": "code",
   "execution_count": 306,
   "id": "327870c8-3dee-4085-a3eb-c210dd284975",
   "metadata": {},
   "outputs": [
    {
     "name": "stdout",
     "output_type": "stream",
     "text": [
      "Chi-square statistic: 7411.935370052781\n",
      "p-value: 0.0\n"
     ]
    }
   ],
   "source": [
    "# performing chi-squared\n",
    "chi2, p, dof, ex = stats.chi2_contingency(homogeneity_table4)\n",
    "\n",
    "print(\"Chi-square statistic:\", chi2)\n",
    "print(\"p-value:\", p)"
   ]
  },
  {
   "cell_type": "markdown",
   "id": "53f1ca98-6d18-4737-875b-47ea7f0d4078",
   "metadata": {},
   "source": [
    "# Performing Train-Test Split"
   ]
  },
  {
   "cell_type": "markdown",
   "id": "bb9f662a-fa32-4212-878d-9c7a902be851",
   "metadata": {},
   "source": [
    "After our EDA was complete, we split the data into a training and testing set to make sure there is no data leakage. This was before performing any preprocessing steps. \n",
    "\n",
    "We determined, using domain knowledge, that latitude, longitude, and gps height (aka altitude) would be highly multicolinear, and therefore should be left out of our training and testing data. "
   ]
  },
  {
   "cell_type": "code",
   "execution_count": 307,
   "id": "4515573a-fc6f-48ea-85c1-49ba2a7fc36b",
   "metadata": {},
   "outputs": [],
   "source": [
    "# train-test split\n",
    "\n",
    "X = fdf2.drop([\"target\", \"latitude\", \"longitude\", \"basin\", \"gps_height\"], axis=1)\n",
    "y = fdf2[\"target\"]\n",
    "X_train, X_test, y_train, y_test = train_test_split(X, y, random_state=42, stratify=y)"
   ]
  },
  {
   "cell_type": "code",
   "execution_count": 308,
   "id": "92ee2c3e-a59c-439d-a00a-6e4d6690298b",
   "metadata": {},
   "outputs": [
    {
     "data": {
      "text/plain": [
       "(6247, 7)"
      ]
     },
     "execution_count": 308,
     "metadata": {},
     "output_type": "execute_result"
    }
   ],
   "source": [
    "# checking the shapes to make sure they look correct\n",
    "X_train.shape"
   ]
  },
  {
   "cell_type": "code",
   "execution_count": 309,
   "id": "d8f6fd35-9234-44ff-8c7c-2c59f0fbae62",
   "metadata": {},
   "outputs": [
    {
     "data": {
      "text/plain": [
       "(6247,)"
      ]
     },
     "execution_count": 309,
     "metadata": {},
     "output_type": "execute_result"
    }
   ],
   "source": [
    "# checking the shapes to make sure they look correct\n",
    "y_train.shape"
   ]
  },
  {
   "cell_type": "code",
   "execution_count": 310,
   "id": "d9c193fe-4b71-4c88-9c6a-75bebf3c1eb2",
   "metadata": {},
   "outputs": [
    {
     "data": {
      "text/plain": [
       "(2083, 7)"
      ]
     },
     "execution_count": 310,
     "metadata": {},
     "output_type": "execute_result"
    }
   ],
   "source": [
    "# checking the shapes to make sure they look correct\n",
    "X_test.shape"
   ]
  },
  {
   "cell_type": "code",
   "execution_count": 311,
   "id": "c422ed1b-c2de-489a-80d1-a883f5684dee",
   "metadata": {},
   "outputs": [
    {
     "data": {
      "text/plain": [
       "(2083,)"
      ]
     },
     "execution_count": 311,
     "metadata": {},
     "output_type": "execute_result"
    }
   ],
   "source": [
    "# checking the shapes to make sure they look correct\n",
    "y_test.shape"
   ]
  },
  {
   "cell_type": "code",
   "execution_count": 312,
   "id": "320f4275-b0a7-4e1a-ab36-973a71e631e2",
   "metadata": {},
   "outputs": [
    {
     "name": "stdout",
     "output_type": "stream",
     "text": [
      "<class 'pandas.core.frame.DataFrame'>\n",
      "Index: 6247 entries, 18254 to 42088\n",
      "Data columns (total 7 columns):\n",
      " #   Column                 Non-Null Count  Dtype \n",
      "---  ------                 --------------  ----- \n",
      " 0   region                 6247 non-null   object\n",
      " 1   extraction_type_class  6247 non-null   object\n",
      " 2   management_group       6247 non-null   object\n",
      " 3   payment                6247 non-null   object\n",
      " 4   quality_group          6247 non-null   object\n",
      " 5   source_class           6247 non-null   object\n",
      " 6   waterpoint_type_group  6247 non-null   object\n",
      "dtypes: object(7)\n",
      "memory usage: 390.4+ KB\n"
     ]
    }
   ],
   "source": [
    "X_train.info()"
   ]
  },
  {
   "cell_type": "markdown",
   "id": "186ab02a-47ad-4a17-98d4-ece9332f6035",
   "metadata": {},
   "source": [
    "# Preprocessing"
   ]
  },
  {
   "cell_type": "markdown",
   "id": "47ebd5d4-d7d2-42db-a044-6107cfcca00d",
   "metadata": {},
   "source": [
    "Our first preprocessing step was performing One Hot Encoding on our variables. Since all of our remaining variables are categorical, and we are not missing any values, this was relatively straightforward. "
   ]
  },
  {
   "cell_type": "code",
   "execution_count": 313,
   "id": "8086dcbd-40e1-452c-a541-9ca2c3fa25f4",
   "metadata": {},
   "outputs": [
    {
     "data": {
      "text/html": [
       "<div>\n",
       "<style scoped>\n",
       "    .dataframe tbody tr th:only-of-type {\n",
       "        vertical-align: middle;\n",
       "    }\n",
       "\n",
       "    .dataframe tbody tr th {\n",
       "        vertical-align: top;\n",
       "    }\n",
       "\n",
       "    .dataframe thead th {\n",
       "        text-align: right;\n",
       "    }\n",
       "</style>\n",
       "<table border=\"1\" class=\"dataframe\">\n",
       "  <thead>\n",
       "    <tr style=\"text-align: right;\">\n",
       "      <th></th>\n",
       "      <th>region_Kagera</th>\n",
       "      <th>region_Mara</th>\n",
       "      <th>region_Mwanza</th>\n",
       "      <th>region_Shinyanga</th>\n",
       "      <th>extraction_type_class_mechanical</th>\n",
       "      <th>extraction_type_class_other</th>\n",
       "      <th>management_group_other</th>\n",
       "      <th>management_group_parastatal</th>\n",
       "      <th>management_group_unknown</th>\n",
       "      <th>management_group_user-group</th>\n",
       "      <th>payment_other</th>\n",
       "      <th>payment_unknown</th>\n",
       "      <th>quality_group_other</th>\n",
       "      <th>quality_group_unknown</th>\n",
       "      <th>source_class_surface</th>\n",
       "      <th>source_class_unknown</th>\n",
       "      <th>waterpoint_type_group_hand pump</th>\n",
       "    </tr>\n",
       "  </thead>\n",
       "  <tbody>\n",
       "    <tr>\n",
       "      <th>0</th>\n",
       "      <td>0.0</td>\n",
       "      <td>0.0</td>\n",
       "      <td>0.0</td>\n",
       "      <td>1.0</td>\n",
       "      <td>0.0</td>\n",
       "      <td>0.0</td>\n",
       "      <td>0.0</td>\n",
       "      <td>0.0</td>\n",
       "      <td>0.0</td>\n",
       "      <td>1.0</td>\n",
       "      <td>0.0</td>\n",
       "      <td>1.0</td>\n",
       "      <td>1.0</td>\n",
       "      <td>0.0</td>\n",
       "      <td>0.0</td>\n",
       "      <td>0.0</td>\n",
       "      <td>1.0</td>\n",
       "    </tr>\n",
       "    <tr>\n",
       "      <th>1</th>\n",
       "      <td>0.0</td>\n",
       "      <td>0.0</td>\n",
       "      <td>0.0</td>\n",
       "      <td>1.0</td>\n",
       "      <td>0.0</td>\n",
       "      <td>0.0</td>\n",
       "      <td>0.0</td>\n",
       "      <td>0.0</td>\n",
       "      <td>0.0</td>\n",
       "      <td>1.0</td>\n",
       "      <td>0.0</td>\n",
       "      <td>0.0</td>\n",
       "      <td>0.0</td>\n",
       "      <td>0.0</td>\n",
       "      <td>0.0</td>\n",
       "      <td>0.0</td>\n",
       "      <td>1.0</td>\n",
       "    </tr>\n",
       "    <tr>\n",
       "      <th>2</th>\n",
       "      <td>0.0</td>\n",
       "      <td>0.0</td>\n",
       "      <td>0.0</td>\n",
       "      <td>1.0</td>\n",
       "      <td>0.0</td>\n",
       "      <td>0.0</td>\n",
       "      <td>0.0</td>\n",
       "      <td>0.0</td>\n",
       "      <td>0.0</td>\n",
       "      <td>1.0</td>\n",
       "      <td>1.0</td>\n",
       "      <td>0.0</td>\n",
       "      <td>0.0</td>\n",
       "      <td>0.0</td>\n",
       "      <td>0.0</td>\n",
       "      <td>0.0</td>\n",
       "      <td>1.0</td>\n",
       "    </tr>\n",
       "    <tr>\n",
       "      <th>3</th>\n",
       "      <td>0.0</td>\n",
       "      <td>0.0</td>\n",
       "      <td>1.0</td>\n",
       "      <td>0.0</td>\n",
       "      <td>0.0</td>\n",
       "      <td>0.0</td>\n",
       "      <td>0.0</td>\n",
       "      <td>0.0</td>\n",
       "      <td>0.0</td>\n",
       "      <td>1.0</td>\n",
       "      <td>1.0</td>\n",
       "      <td>0.0</td>\n",
       "      <td>0.0</td>\n",
       "      <td>0.0</td>\n",
       "      <td>0.0</td>\n",
       "      <td>0.0</td>\n",
       "      <td>1.0</td>\n",
       "    </tr>\n",
       "    <tr>\n",
       "      <th>4</th>\n",
       "      <td>0.0</td>\n",
       "      <td>0.0</td>\n",
       "      <td>1.0</td>\n",
       "      <td>0.0</td>\n",
       "      <td>0.0</td>\n",
       "      <td>0.0</td>\n",
       "      <td>0.0</td>\n",
       "      <td>0.0</td>\n",
       "      <td>0.0</td>\n",
       "      <td>1.0</td>\n",
       "      <td>0.0</td>\n",
       "      <td>0.0</td>\n",
       "      <td>0.0</td>\n",
       "      <td>0.0</td>\n",
       "      <td>0.0</td>\n",
       "      <td>0.0</td>\n",
       "      <td>1.0</td>\n",
       "    </tr>\n",
       "  </tbody>\n",
       "</table>\n",
       "</div>"
      ],
      "text/plain": [
       "   region_Kagera  region_Mara  region_Mwanza  region_Shinyanga  \\\n",
       "0            0.0          0.0            0.0               1.0   \n",
       "1            0.0          0.0            0.0               1.0   \n",
       "2            0.0          0.0            0.0               1.0   \n",
       "3            0.0          0.0            1.0               0.0   \n",
       "4            0.0          0.0            1.0               0.0   \n",
       "\n",
       "   extraction_type_class_mechanical  extraction_type_class_other  \\\n",
       "0                               0.0                          0.0   \n",
       "1                               0.0                          0.0   \n",
       "2                               0.0                          0.0   \n",
       "3                               0.0                          0.0   \n",
       "4                               0.0                          0.0   \n",
       "\n",
       "   management_group_other  management_group_parastatal  \\\n",
       "0                     0.0                          0.0   \n",
       "1                     0.0                          0.0   \n",
       "2                     0.0                          0.0   \n",
       "3                     0.0                          0.0   \n",
       "4                     0.0                          0.0   \n",
       "\n",
       "   management_group_unknown  management_group_user-group  payment_other  \\\n",
       "0                       0.0                          1.0            0.0   \n",
       "1                       0.0                          1.0            0.0   \n",
       "2                       0.0                          1.0            1.0   \n",
       "3                       0.0                          1.0            1.0   \n",
       "4                       0.0                          1.0            0.0   \n",
       "\n",
       "   payment_unknown  quality_group_other  quality_group_unknown  \\\n",
       "0              1.0                  1.0                    0.0   \n",
       "1              0.0                  0.0                    0.0   \n",
       "2              0.0                  0.0                    0.0   \n",
       "3              0.0                  0.0                    0.0   \n",
       "4              0.0                  0.0                    0.0   \n",
       "\n",
       "   source_class_surface  source_class_unknown  waterpoint_type_group_hand pump  \n",
       "0                   0.0                   0.0                              1.0  \n",
       "1                   0.0                   0.0                              1.0  \n",
       "2                   0.0                   0.0                              1.0  \n",
       "3                   0.0                   0.0                              1.0  \n",
       "4                   0.0                   0.0                              1.0  "
      ]
     },
     "execution_count": 313,
     "metadata": {},
     "output_type": "execute_result"
    }
   ],
   "source": [
    "# isolating categorical columns\n",
    "cat_columns = X_train[['region', 'extraction_type_class', 'management_group', 'payment', 'quality_group', 'source_class', 'waterpoint_type_group']].copy()\n",
    "\n",
    "# instantiate the OneHotEncoder\n",
    "ohe = OneHotEncoder(drop='first')\n",
    "\n",
    "# fit the ohe on our training set\n",
    "ohe.fit(cat_columns)\n",
    "\n",
    "# transform columns and convert our encoded matrix back into a dataframe\n",
    "X_train_encoded = pd.DataFrame(ohe.transform(cat_columns).todense(),\n",
    "                               columns=ohe.get_feature_names_out())\n",
    "\n",
    "X_train_encoded.head()"
   ]
  },
  {
   "cell_type": "code",
   "execution_count": 314,
   "id": "ade4f8c6-bb8c-4e86-a250-532cd21ccae7",
   "metadata": {},
   "outputs": [
    {
     "name": "stdout",
     "output_type": "stream",
     "text": [
      "<class 'pandas.core.frame.DataFrame'>\n",
      "RangeIndex: 6247 entries, 0 to 6246\n",
      "Data columns (total 17 columns):\n",
      " #   Column                            Non-Null Count  Dtype  \n",
      "---  ------                            --------------  -----  \n",
      " 0   region_Kagera                     6247 non-null   float64\n",
      " 1   region_Mara                       6247 non-null   float64\n",
      " 2   region_Mwanza                     6247 non-null   float64\n",
      " 3   region_Shinyanga                  6247 non-null   float64\n",
      " 4   extraction_type_class_mechanical  6247 non-null   float64\n",
      " 5   extraction_type_class_other       6247 non-null   float64\n",
      " 6   management_group_other            6247 non-null   float64\n",
      " 7   management_group_parastatal       6247 non-null   float64\n",
      " 8   management_group_unknown          6247 non-null   float64\n",
      " 9   management_group_user-group       6247 non-null   float64\n",
      " 10  payment_other                     6247 non-null   float64\n",
      " 11  payment_unknown                   6247 non-null   float64\n",
      " 12  quality_group_other               6247 non-null   float64\n",
      " 13  quality_group_unknown             6247 non-null   float64\n",
      " 14  source_class_surface              6247 non-null   float64\n",
      " 15  source_class_unknown              6247 non-null   float64\n",
      " 16  waterpoint_type_group_hand pump   6247 non-null   float64\n",
      "dtypes: float64(17)\n",
      "memory usage: 829.8 KB\n"
     ]
    }
   ],
   "source": [
    "# Reset the index of X_train numeric columns and X_train encoded categorical variables\n",
    "#X_train_num_reset = X_train['population'].reset_index(drop=True)\n",
    "#X_train_encoded_cats_reset = X_train_encoded_cats.reset_index(drop=True)\n",
    "\n",
    "# Concatenate the two dataframes\n",
    "#X_train_encoded = pd.concat([X_train_num_reset, X_train_encoded_cats_reset], axis=1)\n",
    "\n",
    "# checking our work\n",
    "X_train_encoded.info()"
   ]
  },
  {
   "cell_type": "markdown",
   "id": "bf536214-aa37-49f3-8d59-22abad4ea39e",
   "metadata": {},
   "source": [
    "# Baseline (Dummy) Model"
   ]
  },
  {
   "cell_type": "markdown",
   "id": "fd2c880e-b6f4-4e47-8572-06a2ead75a3a",
   "metadata": {},
   "source": [
    "After performing our preprocessing, we performed a baseline model using SKLearn's Dummy Classifier to determine the value of our target that appears most frequently. "
   ]
  },
  {
   "cell_type": "code",
   "execution_count": 315,
   "id": "cf8ecdec-2212-4d8c-8530-dfedc51fc27d",
   "metadata": {},
   "outputs": [],
   "source": [
    "# Instantiate the model\n",
    "dummy_model = DummyClassifier(strategy=\"most_frequent\")\n",
    "\n",
    "# fitting the model to our newly encoded dataset\n",
    "dummy_model.fit(X_train_encoded, y_train)\n",
    "\n",
    "# predicting the first 10\n",
    "dummy_y = dummy_model.predict(X_train_encoded)[:10]"
   ]
  },
  {
   "cell_type": "code",
   "execution_count": 316,
   "id": "b6632410-6684-4e3a-a621-356bec12cb0d",
   "metadata": {},
   "outputs": [
    {
     "name": "stdout",
     "output_type": "stream",
     "text": [
      "target\n",
      "functional        0.543461\n",
      "non functional    0.456539\n",
      "Name: proportion, dtype: float64\n"
     ]
    }
   ],
   "source": [
    "#print(classification_report(y_train, dummy_y))\n",
    "print(y_train.value_counts(normalize=True))\n",
    "#print(dummy_y.value_counts(normalize=True))"
   ]
  },
  {
   "cell_type": "code",
   "execution_count": 317,
   "id": "57a106f6-5157-4b6e-91bc-67818e8ea685",
   "metadata": {},
   "outputs": [],
   "source": [
    "# transforming the test set with our encoded variables, making sure to TRANSFORM but NOT FIT to the test group\n",
    "#cat_columns2 = X_test[['region', 'lga', 'permit', 'extraction_type_class', 'management_group', 'payment', 'quality_group', 'source_class', 'waterpoint_type_group']].copy()\n",
    "\n",
    "#X_test_encoded_cats = pd.DataFrame(ohe.transform(cat_columns2).todense(),\n",
    "#                               columns=ohe.get_feature_names_out())\n",
    "\n",
    "#X_test_encoded_cats = ohe.transform(cat_columns2)\n",
    "\n",
    "#X_train_encoded_cats"
   ]
  },
  {
   "cell_type": "markdown",
   "id": "faf571b3-abed-45e5-9620-269394750fca",
   "metadata": {},
   "source": [
    "# Preliminary Model 1"
   ]
  },
  {
   "cell_type": "markdown",
   "id": "6720ed99-9575-43de-bf97-82d2b9a4257c",
   "metadata": {},
   "source": [
    "In order to further determine which predictors of our target are the strongest, we used a Decision Tree Classifier."
   ]
  },
  {
   "cell_type": "code",
   "execution_count": 318,
   "id": "575c46db-ff4d-4f84-bfdf-48e89311d4d6",
   "metadata": {},
   "outputs": [
    {
     "data": {
      "image/png": "[encoded data removed]",
      "text/plain": [
       "<Figure size 2000x1500 with 1 Axes>"
      ]
     },
     "metadata": {},
     "output_type": "display_data"
    }
   ],
   "source": [
    "# instantiate tree\n",
    "tree = DecisionTreeClassifier(max_depth=3, random_state=42)\n",
    "\n",
    "# fit to our training set\n",
    "tree.fit(X_train_encoded, y_train)\n",
    "\n",
    "# plotting the figure\n",
    "plt.figure(figsize=(20,15))  # set plot size (denoted in inches)\n",
    "plot_tree(tree, fontsize=10)\n",
    "plt.show();"
   ]
  },
  {
   "cell_type": "code",
   "execution_count": 319,
   "id": "ae6c0bf5-1ae1-467a-b5a8-ad0c0f960558",
   "metadata": {},
   "outputs": [],
   "source": [
    "scaler = StandardScaler()\n",
    "X_train_sc = scaler.fit_transform(X_train_encoded)"
   ]
  },
  {
   "cell_type": "code",
   "execution_count": 320,
   "id": "3f795de8-4786-42bd-8a87-4a3b69298e40",
   "metadata": {},
   "outputs": [
    {
     "data": {
      "text/html": [
       "<style>#sk-container-id-2 {\n",
       "  /* Definition of color scheme common for light and dark mode */\n",
       "  --sklearn-color-text: black;\n",
       "  --sklearn-color-line: gray;\n",
       "  /* Definition of color scheme for unfitted estimators */\n",
       "  --sklearn-color-unfitted-level-0: #fff5e6;\n",
       "  --sklearn-color-unfitted-level-1: #f6e4d2;\n",
       "  --sklearn-color-unfitted-level-2: #ffe0b3;\n",
       "  --sklearn-color-unfitted-level-3: chocolate;\n",
       "  /* Definition of color scheme for fitted estimators */\n",
       "  --sklearn-color-fitted-level-0: #f0f8ff;\n",
       "  --sklearn-color-fitted-level-1: #d4ebff;\n",
       "  --sklearn-color-fitted-level-2: #b3dbfd;\n",
       "  --sklearn-color-fitted-level-3: cornflowerblue;\n",
       "\n",
       "  /* Specific color for light theme */\n",
       "  --sklearn-color-text-on-default-background: var(--sg-text-color, var(--theme-code-foreground, var(--jp-content-font-color1, black)));\n",
       "  --sklearn-color-background: var(--sg-background-color, var(--theme-background, var(--jp-layout-color0, white)));\n",
       "  --sklearn-color-border-box: var(--sg-text-color, var(--theme-code-foreground, var(--jp-content-font-color1, black)));\n",
       "  --sklearn-color-icon: #696969;\n",
       "\n",
       "  @media (prefers-color-scheme: dark) {\n",
       "    /* Redefinition of color scheme for dark theme */\n",
       "    --sklearn-color-text-on-default-background: var(--sg-text-color, var(--theme-code-foreground, var(--jp-content-font-color1, white)));\n",
       "    --sklearn-color-background: var(--sg-background-color, var(--theme-background, var(--jp-layout-color0, #111)));\n",
       "    --sklearn-color-border-box: var(--sg-text-color, var(--theme-code-foreground, var(--jp-content-font-color1, white)));\n",
       "    --sklearn-color-icon: #878787;\n",
       "  }\n",
       "}\n",
       "\n",
       "#sk-container-id-2 {\n",
       "  color: var(--sklearn-color-text);\n",
       "}\n",
       "\n",
       "#sk-container-id-2 pre {\n",
       "  padding: 0;\n",
       "}\n",
       "\n",
       "#sk-container-id-2 input.sk-hidden--visually {\n",
       "  border: 0;\n",
       "  clip: rect(1px 1px 1px 1px);\n",
       "  clip: rect(1px, 1px, 1px, 1px);\n",
       "  height: 1px;\n",
       "  margin: -1px;\n",
       "  overflow: hidden;\n",
       "  padding: 0;\n",
       "  position: absolute;\n",
       "  width: 1px;\n",
       "}\n",
       "\n",
       "#sk-container-id-2 div.sk-dashed-wrapped {\n",
       "  border: 1px dashed var(--sklearn-color-line);\n",
       "  margin: 0 0.4em 0.5em 0.4em;\n",
       "  box-sizing: border-box;\n",
       "  padding-bottom: 0.4em;\n",
       "  background-color: var(--sklearn-color-background);\n",
       "}\n",
       "\n",
       "#sk-container-id-2 div.sk-container {\n",
       "  /* jupyter's `normalize.less` sets `[hidden] { display: none; }`\n",
       "     but bootstrap.min.css set `[hidden] { display: none !important; }`\n",
       "     so we also need the `!important` here to be able to override the\n",
       "     default hidden behavior on the sphinx rendered scikit-learn.org.\n",
       "     See: https://github.com/scikit-learn/scikit-learn/issues/21755 */\n",
       "  display: inline-block !important;\n",
       "  position: relative;\n",
       "}\n",
       "\n",
       "#sk-container-id-2 div.sk-text-repr-fallback {\n",
       "  display: none;\n",
       "}\n",
       "\n",
       "div.sk-parallel-item,\n",
       "div.sk-serial,\n",
       "div.sk-item {\n",
       "  /* draw centered vertical line to link estimators */\n",
       "  background-image: linear-gradient(var(--sklearn-color-text-on-default-background), var(--sklearn-color-text-on-default-background));\n",
       "  background-size: 2px 100%;\n",
       "  background-repeat: no-repeat;\n",
       "  background-position: center center;\n",
       "}\n",
       "\n",
       "/* Parallel-specific style estimator block */\n",
       "\n",
       "#sk-container-id-2 div.sk-parallel-item::after {\n",
       "  content: \"\";\n",
       "  width: 100%;\n",
       "  border-bottom: 2px solid var(--sklearn-color-text-on-default-background);\n",
       "  flex-grow: 1;\n",
       "}\n",
       "\n",
       "#sk-container-id-2 div.sk-parallel {\n",
       "  display: flex;\n",
       "  align-items: stretch;\n",
       "  justify-content: center;\n",
       "  background-color: var(--sklearn-color-background);\n",
       "  position: relative;\n",
       "}\n",
       "\n",
       "#sk-container-id-2 div.sk-parallel-item {\n",
       "  display: flex;\n",
       "  flex-direction: column;\n",
       "}\n",
       "\n",
       "#sk-container-id-2 div.sk-parallel-item:first-child::after {\n",
       "  align-self: flex-end;\n",
       "  width: 50%;\n",
       "}\n",
       "\n",
       "#sk-container-id-2 div.sk-parallel-item:last-child::after {\n",
       "  align-self: flex-start;\n",
       "  width: 50%;\n",
       "}\n",
       "\n",
       "#sk-container-id-2 div.sk-parallel-item:only-child::after {\n",
       "  width: 0;\n",
       "}\n",
       "\n",
       "/* Serial-specific style estimator block */\n",
       "\n",
       "#sk-container-id-2 div.sk-serial {\n",
       "  display: flex;\n",
       "  flex-direction: column;\n",
       "  align-items: center;\n",
       "  background-color: var(--sklearn-color-background);\n",
       "  padding-right: 1em;\n",
       "  padding-left: 1em;\n",
       "}\n",
       "\n",
       "\n",
       "/* Toggleable style: style used for estimator/Pipeline/ColumnTransformer box that is\n",
       "clickable and can be expanded/collapsed.\n",
       "- Pipeline and ColumnTransformer use this feature and define the default style\n",
       "- Estimators will overwrite some part of the style using the `sk-estimator` class\n",
       "*/\n",
       "\n",
       "/* Pipeline and ColumnTransformer style (default) */\n",
       "\n",
       "#sk-container-id-2 div.sk-toggleable {\n",
       "  /* Default theme specific background. It is overwritten whether we have a\n",
       "  specific estimator or a Pipeline/ColumnTransformer */\n",
       "  background-color: var(--sklearn-color-background);\n",
       "}\n",
       "\n",
       "/* Toggleable label */\n",
       "#sk-container-id-2 label.sk-toggleable__label {\n",
       "  cursor: pointer;\n",
       "  display: block;\n",
       "  width: 100%;\n",
       "  margin-bottom: 0;\n",
       "  padding: 0.5em;\n",
       "  box-sizing: border-box;\n",
       "  text-align: center;\n",
       "}\n",
       "\n",
       "#sk-container-id-2 label.sk-toggleable__label-arrow:before {\n",
       "  /* Arrow on the left of the label */\n",
       "  content: \"▸\";\n",
       "  float: left;\n",
       "  margin-right: 0.25em;\n",
       "  color: var(--sklearn-color-icon);\n",
       "}\n",
       "\n",
       "#sk-container-id-2 label.sk-toggleable__label-arrow:hover:before {\n",
       "  color: var(--sklearn-color-text);\n",
       "}\n",
       "\n",
       "/* Toggleable content - dropdown */\n",
       "\n",
       "#sk-container-id-2 div.sk-toggleable__content {\n",
       "  max-height: 0;\n",
       "  max-width: 0;\n",
       "  overflow: hidden;\n",
       "  text-align: left;\n",
       "  /* unfitted */\n",
       "  background-color: var(--sklearn-color-unfitted-level-0);\n",
       "}\n",
       "\n",
       "#sk-container-id-2 div.sk-toggleable__content.fitted {\n",
       "  /* fitted */\n",
       "  background-color: var(--sklearn-color-fitted-level-0);\n",
       "}\n",
       "\n",
       "#sk-container-id-2 div.sk-toggleable__content pre {\n",
       "  margin: 0.2em;\n",
       "  border-radius: 0.25em;\n",
       "  color: var(--sklearn-color-text);\n",
       "  /* unfitted */\n",
       "  background-color: var(--sklearn-color-unfitted-level-0);\n",
       "}\n",
       "\n",
       "#sk-container-id-2 div.sk-toggleable__content.fitted pre {\n",
       "  /* unfitted */\n",
       "  background-color: var(--sklearn-color-fitted-level-0);\n",
       "}\n",
       "\n",
       "#sk-container-id-2 input.sk-toggleable__control:checked~div.sk-toggleable__content {\n",
       "  /* Expand drop-down */\n",
       "  max-height: 200px;\n",
       "  max-width: 100%;\n",
       "  overflow: auto;\n",
       "}\n",
       "\n",
       "#sk-container-id-2 input.sk-toggleable__control:checked~label.sk-toggleable__label-arrow:before {\n",
       "  content: \"▾\";\n",
       "}\n",
       "\n",
       "/* Pipeline/ColumnTransformer-specific style */\n",
       "\n",
       "#sk-container-id-2 div.sk-label input.sk-toggleable__control:checked~label.sk-toggleable__label {\n",
       "  color: var(--sklearn-color-text);\n",
       "  background-color: var(--sklearn-color-unfitted-level-2);\n",
       "}\n",
       "\n",
       "#sk-container-id-2 div.sk-label.fitted input.sk-toggleable__control:checked~label.sk-toggleable__label {\n",
       "  background-color: var(--sklearn-color-fitted-level-2);\n",
       "}\n",
       "\n",
       "/* Estimator-specific style */\n",
       "\n",
       "/* Colorize estimator box */\n",
       "#sk-container-id-2 div.sk-estimator input.sk-toggleable__control:checked~label.sk-toggleable__label {\n",
       "  /* unfitted */\n",
       "  background-color: var(--sklearn-color-unfitted-level-2);\n",
       "}\n",
       "\n",
       "#sk-container-id-2 div.sk-estimator.fitted input.sk-toggleable__control:checked~label.sk-toggleable__label {\n",
       "  /* fitted */\n",
       "  background-color: var(--sklearn-color-fitted-level-2);\n",
       "}\n",
       "\n",
       "#sk-container-id-2 div.sk-label label.sk-toggleable__label,\n",
       "#sk-container-id-2 div.sk-label label {\n",
       "  /* The background is the default theme color */\n",
       "  color: var(--sklearn-color-text-on-default-background);\n",
       "}\n",
       "\n",
       "/* On hover, darken the color of the background */\n",
       "#sk-container-id-2 div.sk-label:hover label.sk-toggleable__label {\n",
       "  color: var(--sklearn-color-text);\n",
       "  background-color: var(--sklearn-color-unfitted-level-2);\n",
       "}\n",
       "\n",
       "/* Label box, darken color on hover, fitted */\n",
       "#sk-container-id-2 div.sk-label.fitted:hover label.sk-toggleable__label.fitted {\n",
       "  color: var(--sklearn-color-text);\n",
       "  background-color: var(--sklearn-color-fitted-level-2);\n",
       "}\n",
       "\n",
       "/* Estimator label */\n",
       "\n",
       "#sk-container-id-2 div.sk-label label {\n",
       "  font-family: monospace;\n",
       "  font-weight: bold;\n",
       "  display: inline-block;\n",
       "  line-height: 1.2em;\n",
       "}\n",
       "\n",
       "#sk-container-id-2 div.sk-label-container {\n",
       "  text-align: center;\n",
       "}\n",
       "\n",
       "/* Estimator-specific */\n",
       "#sk-container-id-2 div.sk-estimator {\n",
       "  font-family: monospace;\n",
       "  border: 1px dotted var(--sklearn-color-border-box);\n",
       "  border-radius: 0.25em;\n",
       "  box-sizing: border-box;\n",
       "  margin-bottom: 0.5em;\n",
       "  /* unfitted */\n",
       "  background-color: var(--sklearn-color-unfitted-level-0);\n",
       "}\n",
       "\n",
       "#sk-container-id-2 div.sk-estimator.fitted {\n",
       "  /* fitted */\n",
       "  background-color: var(--sklearn-color-fitted-level-0);\n",
       "}\n",
       "\n",
       "/* on hover */\n",
       "#sk-container-id-2 div.sk-estimator:hover {\n",
       "  /* unfitted */\n",
       "  background-color: var(--sklearn-color-unfitted-level-2);\n",
       "}\n",
       "\n",
       "#sk-container-id-2 div.sk-estimator.fitted:hover {\n",
       "  /* fitted */\n",
       "  background-color: var(--sklearn-color-fitted-level-2);\n",
       "}\n",
       "\n",
       "/* Specification for estimator info (e.g. \"i\" and \"?\") */\n",
       "\n",
       "/* Common style for \"i\" and \"?\" */\n",
       "\n",
       ".sk-estimator-doc-link,\n",
       "a:link.sk-estimator-doc-link,\n",
       "a:visited.sk-estimator-doc-link {\n",
       "  float: right;\n",
       "  font-size: smaller;\n",
       "  line-height: 1em;\n",
       "  font-family: monospace;\n",
       "  background-color: var(--sklearn-color-background);\n",
       "  border-radius: 1em;\n",
       "  height: 1em;\n",
       "  width: 1em;\n",
       "  text-decoration: none !important;\n",
       "  margin-left: 1ex;\n",
       "  /* unfitted */\n",
       "  border: var(--sklearn-color-unfitted-level-1) 1pt solid;\n",
       "  color: var(--sklearn-color-unfitted-level-1);\n",
       "}\n",
       "\n",
       ".sk-estimator-doc-link.fitted,\n",
       "a:link.sk-estimator-doc-link.fitted,\n",
       "a:visited.sk-estimator-doc-link.fitted {\n",
       "  /* fitted */\n",
       "  border: var(--sklearn-color-fitted-level-1) 1pt solid;\n",
       "  color: var(--sklearn-color-fitted-level-1);\n",
       "}\n",
       "\n",
       "/* On hover */\n",
       "div.sk-estimator:hover .sk-estimator-doc-link:hover,\n",
       ".sk-estimator-doc-link:hover,\n",
       "div.sk-label-container:hover .sk-estimator-doc-link:hover,\n",
       ".sk-estimator-doc-link:hover {\n",
       "  /* unfitted */\n",
       "  background-color: var(--sklearn-color-unfitted-level-3);\n",
       "  color: var(--sklearn-color-background);\n",
       "  text-decoration: none;\n",
       "}\n",
       "\n",
       "div.sk-estimator.fitted:hover .sk-estimator-doc-link.fitted:hover,\n",
       ".sk-estimator-doc-link.fitted:hover,\n",
       "div.sk-label-container:hover .sk-estimator-doc-link.fitted:hover,\n",
       ".sk-estimator-doc-link.fitted:hover {\n",
       "  /* fitted */\n",
       "  background-color: var(--sklearn-color-fitted-level-3);\n",
       "  color: var(--sklearn-color-background);\n",
       "  text-decoration: none;\n",
       "}\n",
       "\n",
       "/* Span, style for the box shown on hovering the info icon */\n",
       ".sk-estimator-doc-link span {\n",
       "  display: none;\n",
       "  z-index: 9999;\n",
       "  position: relative;\n",
       "  font-weight: normal;\n",
       "  right: .2ex;\n",
       "  padding: .5ex;\n",
       "  margin: .5ex;\n",
       "  width: min-content;\n",
       "  min-width: 20ex;\n",
       "  max-width: 50ex;\n",
       "  color: var(--sklearn-color-text);\n",
       "  box-shadow: 2pt 2pt 4pt #999;\n",
       "  /* unfitted */\n",
       "  background: var(--sklearn-color-unfitted-level-0);\n",
       "  border: .5pt solid var(--sklearn-color-unfitted-level-3);\n",
       "}\n",
       "\n",
       ".sk-estimator-doc-link.fitted span {\n",
       "  /* fitted */\n",
       "  background: var(--sklearn-color-fitted-level-0);\n",
       "  border: var(--sklearn-color-fitted-level-3);\n",
       "}\n",
       "\n",
       ".sk-estimator-doc-link:hover span {\n",
       "  display: block;\n",
       "}\n",
       "\n",
       "/* \"?\"-specific style due to the `<a>` HTML tag */\n",
       "\n",
       "#sk-container-id-2 a.estimator_doc_link {\n",
       "  float: right;\n",
       "  font-size: 1rem;\n",
       "  line-height: 1em;\n",
       "  font-family: monospace;\n",
       "  background-color: var(--sklearn-color-background);\n",
       "  border-radius: 1rem;\n",
       "  height: 1rem;\n",
       "  width: 1rem;\n",
       "  text-decoration: none;\n",
       "  /* unfitted */\n",
       "  color: var(--sklearn-color-unfitted-level-1);\n",
       "  border: var(--sklearn-color-unfitted-level-1) 1pt solid;\n",
       "}\n",
       "\n",
       "#sk-container-id-2 a.estimator_doc_link.fitted {\n",
       "  /* fitted */\n",
       "  border: var(--sklearn-color-fitted-level-1) 1pt solid;\n",
       "  color: var(--sklearn-color-fitted-level-1);\n",
       "}\n",
       "\n",
       "/* On hover */\n",
       "#sk-container-id-2 a.estimator_doc_link:hover {\n",
       "  /* unfitted */\n",
       "  background-color: var(--sklearn-color-unfitted-level-3);\n",
       "  color: var(--sklearn-color-background);\n",
       "  text-decoration: none;\n",
       "}\n",
       "\n",
       "#sk-container-id-2 a.estimator_doc_link.fitted:hover {\n",
       "  /* fitted */\n",
       "  background-color: var(--sklearn-color-fitted-level-3);\n",
       "}\n",
       "</style><div id=\"sk-container-id-2\" class=\"sk-top-container\"><div class=\"sk-text-repr-fallback\"><pre>LogisticRegression(random_state=42)</pre><b>In a Jupyter environment, please rerun this cell to show the HTML representation or trust the notebook. <br />On GitHub, the HTML representation is unable to render, please try loading this page with nbviewer.org.</b></div><div class=\"sk-container\" hidden><div class=\"sk-item\"><div class=\"sk-estimator fitted sk-toggleable\"><input class=\"sk-toggleable__control sk-hidden--visually\" id=\"sk-estimator-id-2\" type=\"checkbox\" checked><label for=\"sk-estimator-id-2\" class=\"sk-toggleable__label fitted sk-toggleable__label-arrow fitted\">&nbsp;&nbsp;LogisticRegression<a class=\"sk-estimator-doc-link fitted\" rel=\"noreferrer\" target=\"_blank\" href=\"https://scikit-learn.org/1.4/modules/generated/sklearn.linear_model.LogisticRegression.html\">?<span>Documentation for LogisticRegression</span></a><span class=\"sk-estimator-doc-link fitted\">i<span>Fitted</span></span></label><div class=\"sk-toggleable__content fitted\"><pre>LogisticRegression(random_state=42)</pre></div> </div></div></div></div>"
      ],
      "text/plain": [
       "LogisticRegression(random_state=42)"
      ]
     },
     "execution_count": 320,
     "metadata": {},
     "output_type": "execute_result"
    }
   ],
   "source": [
    "log = LogisticRegression(random_state=42)\n",
    "log.fit(X_train_sc, y_train)"
   ]
  },
  {
   "cell_type": "code",
   "execution_count": 321,
   "id": "2023b655-208a-4db9-8f00-1ea61a5eabb5",
   "metadata": {},
   "outputs": [
    {
     "data": {
      "text/plain": [
       "array(['functional', 'functional', 'functional', ..., 'functional',\n",
       "       'functional', 'functional'], dtype=object)"
      ]
     },
     "execution_count": 321,
     "metadata": {},
     "output_type": "execute_result"
    }
   ],
   "source": [
    "y_predict = log.predict(X_train_sc)\n",
    "y_predict"
   ]
  },
  {
   "cell_type": "code",
   "execution_count": 322,
   "id": "17c9806d-464c-4000-90cd-8ce0bc6c3b2b",
   "metadata": {},
   "outputs": [
    {
     "data": {
      "image/png": "[encoded data removed]",
      "text/plain": [
       "<Figure size 640x480 with 2 Axes>"
      ]
     },
     "metadata": {},
     "output_type": "display_data"
    }
   ],
   "source": [
    "from sklearn.metrics import confusion_matrix, ConfusionMatrixDisplay\n",
    "cm = confusion_matrix(y_train, y_predict)\n",
    "disp = ConfusionMatrixDisplay(confusion_matrix=cm)\n",
    "disp.plot()\n",
    "plt.show()"
   ]
  },
  {
   "cell_type": "code",
   "execution_count": 323,
   "id": "9d4f08eb-dbc4-4fcf-8b28-b052ae25705d",
   "metadata": {},
   "outputs": [
    {
     "data": {
      "text/plain": [
       "0.6646390267328317"
      ]
     },
     "execution_count": 323,
     "metadata": {},
     "output_type": "execute_result"
    }
   ],
   "source": [
    "from sklearn.metrics import precision_score, recall_score, accuracy_score, f1_score\n",
    "\n",
    "training_accuracy = accuracy_score(y_train, y_predict)\n",
    "training_accuracy"
   ]
  },
  {
   "cell_type": "code",
   "execution_count": 324,
   "id": "322b11dc-b38c-4e89-87f2-08d1cb386a77",
   "metadata": {},
   "outputs": [
    {
     "name": "stdout",
     "output_type": "stream",
     "text": [
      "                precision    recall  f1-score   support\n",
      "\n",
      "    functional       0.66      0.80      0.72      3395\n",
      "non functional       0.68      0.50      0.58      2852\n",
      "\n",
      "      accuracy                           0.66      6247\n",
      "     macro avg       0.67      0.65      0.65      6247\n",
      "  weighted avg       0.67      0.66      0.66      6247\n",
      "\n"
     ]
    }
   ],
   "source": [
    "from sklearn.metrics import classification_report\n",
    "print(classification_report(y_train, y_predict))"
   ]
  },
  {
   "cell_type": "code",
   "execution_count": 325,
   "id": "532174f4-e5e3-473d-8098-9f4c02453bd8",
   "metadata": {},
   "outputs": [
    {
     "data": {
      "text/html": [
       "<div>\n",
       "<style scoped>\n",
       "    .dataframe tbody tr th:only-of-type {\n",
       "        vertical-align: middle;\n",
       "    }\n",
       "\n",
       "    .dataframe tbody tr th {\n",
       "        vertical-align: top;\n",
       "    }\n",
       "\n",
       "    .dataframe thead th {\n",
       "        text-align: right;\n",
       "    }\n",
       "</style>\n",
       "<table border=\"1\" class=\"dataframe\">\n",
       "  <thead>\n",
       "    <tr style=\"text-align: right;\">\n",
       "      <th></th>\n",
       "      <th>waterpoint_type_group_hand pump</th>\n",
       "      <th>management_group_user-group</th>\n",
       "      <th>extraction_type_class_other</th>\n",
       "    </tr>\n",
       "  </thead>\n",
       "  <tbody>\n",
       "    <tr>\n",
       "      <th>0</th>\n",
       "      <td>1.0</td>\n",
       "      <td>1.0</td>\n",
       "      <td>0.0</td>\n",
       "    </tr>\n",
       "    <tr>\n",
       "      <th>1</th>\n",
       "      <td>1.0</td>\n",
       "      <td>1.0</td>\n",
       "      <td>0.0</td>\n",
       "    </tr>\n",
       "    <tr>\n",
       "      <th>2</th>\n",
       "      <td>1.0</td>\n",
       "      <td>1.0</td>\n",
       "      <td>0.0</td>\n",
       "    </tr>\n",
       "    <tr>\n",
       "      <th>3</th>\n",
       "      <td>1.0</td>\n",
       "      <td>1.0</td>\n",
       "      <td>0.0</td>\n",
       "    </tr>\n",
       "    <tr>\n",
       "      <th>4</th>\n",
       "      <td>1.0</td>\n",
       "      <td>1.0</td>\n",
       "      <td>0.0</td>\n",
       "    </tr>\n",
       "  </tbody>\n",
       "</table>\n",
       "</div>"
      ],
      "text/plain": [
       "   waterpoint_type_group_hand pump  management_group_user-group  \\\n",
       "0                              1.0                          1.0   \n",
       "1                              1.0                          1.0   \n",
       "2                              1.0                          1.0   \n",
       "3                              1.0                          1.0   \n",
       "4                              1.0                          1.0   \n",
       "\n",
       "   extraction_type_class_other  \n",
       "0                          0.0  \n",
       "1                          0.0  \n",
       "2                          0.0  \n",
       "3                          0.0  \n",
       "4                          0.0  "
      ]
     },
     "execution_count": 325,
     "metadata": {},
     "output_type": "execute_result"
    }
   ],
   "source": [
    "X_train2 = X_train_encoded[['waterpoint_type_group_hand pump', 'management_group_user-group', 'extraction_type_class_other']]\n",
    "X_train2.head()"
   ]
  },
  {
   "cell_type": "code",
   "execution_count": 326,
   "id": "0697a6d4-d318-47fd-a079-62a95b8cce1d",
   "metadata": {},
   "outputs": [
    {
     "data": {
      "text/plain": [
       "array(['functional', 'functional', 'functional', ..., 'functional',\n",
       "       'functional', 'functional'], dtype=object)"
      ]
     },
     "execution_count": 326,
     "metadata": {},
     "output_type": "execute_result"
    }
   ],
   "source": [
    "log = LogisticRegression(random_state=42)\n",
    "log.fit(X_train2, y_train)\n",
    "y_predict2 = log.predict(X_train2)\n",
    "y_predict2"
   ]
  },
  {
   "cell_type": "code",
   "execution_count": 327,
   "id": "1de54e75-7247-44a2-a127-4514a6c547cc",
   "metadata": {},
   "outputs": [
    {
     "name": "stdout",
     "output_type": "stream",
     "text": [
      "                precision    recall  f1-score   support\n",
      "\n",
      "    functional       0.63      0.81      0.71      3395\n",
      "non functional       0.66      0.43      0.52      2852\n",
      "\n",
      "      accuracy                           0.64      6247\n",
      "     macro avg       0.65      0.62      0.62      6247\n",
      "  weighted avg       0.64      0.64      0.62      6247\n",
      "\n"
     ]
    }
   ],
   "source": [
    "print(classification_report(y_train, y_predict2))"
   ]
  },
  {
   "cell_type": "code",
   "execution_count": 328,
   "id": "b6e1cfba-3bfd-4dca-bad5-928a18b622dd",
   "metadata": {},
   "outputs": [],
   "source": [
    "#X_train3 = X_train_encoded[['region_Mwanza', 'payment_pay annually', 'lga_Biharamulo', 'lga_Bunda']]\n",
    "#X_train3.head()"
   ]
  },
  {
   "cell_type": "code",
   "execution_count": 329,
   "id": "3f5b41a4-95c4-44ff-bd4c-45c714ecd014",
   "metadata": {},
   "outputs": [],
   "source": [
    "#log = LogisticRegression(random_state=42)\n",
    "#log.fit(X_train3, y_train)\n",
    "#y_predict3 = log.predict(X_train3)\n",
    "#y_predict3"
   ]
  },
  {
   "cell_type": "code",
   "execution_count": 330,
   "id": "913ab592-c22b-439a-9525-d3fced068d5f",
   "metadata": {},
   "outputs": [],
   "source": [
    "#print(classification_report(y_train, y_predict3))"
   ]
  },
  {
   "cell_type": "code",
   "execution_count": 331,
   "id": "e02b01f3-7a8b-440e-9517-88e52035cc0d",
   "metadata": {},
   "outputs": [
    {
     "name": "stdout",
     "output_type": "stream",
     "text": [
      "<class 'pandas.core.frame.DataFrame'>\n",
      "RangeIndex: 6247 entries, 0 to 6246\n",
      "Data columns (total 17 columns):\n",
      " #   Column                            Non-Null Count  Dtype  \n",
      "---  ------                            --------------  -----  \n",
      " 0   region_Kagera                     6247 non-null   float64\n",
      " 1   region_Mara                       6247 non-null   float64\n",
      " 2   region_Mwanza                     6247 non-null   float64\n",
      " 3   region_Shinyanga                  6247 non-null   float64\n",
      " 4   extraction_type_class_mechanical  6247 non-null   float64\n",
      " 5   extraction_type_class_other       6247 non-null   float64\n",
      " 6   management_group_other            6247 non-null   float64\n",
      " 7   management_group_parastatal       6247 non-null   float64\n",
      " 8   management_group_unknown          6247 non-null   float64\n",
      " 9   management_group_user-group       6247 non-null   float64\n",
      " 10  payment_other                     6247 non-null   float64\n",
      " 11  payment_unknown                   6247 non-null   float64\n",
      " 12  quality_group_other               6247 non-null   float64\n",
      " 13  quality_group_unknown             6247 non-null   float64\n",
      " 14  source_class_surface              6247 non-null   float64\n",
      " 15  source_class_unknown              6247 non-null   float64\n",
      " 16  waterpoint_type_group_hand pump   6247 non-null   float64\n",
      "dtypes: float64(17)\n",
      "memory usage: 829.8 KB\n"
     ]
    }
   ],
   "source": [
    "X_train4 = X_train_encoded.loc[:, ~X_train_encoded.columns.str.contains('lga')]\n",
    "X_train4.info()"
   ]
  },
  {
   "cell_type": "code",
   "execution_count": 332,
   "id": "94a3aed8-e84b-4868-bd93-734aa531106d",
   "metadata": {},
   "outputs": [
    {
     "data": {
      "text/plain": [
       "management_group_user-group\n",
       "1.0    5480\n",
       "0.0     767\n",
       "Name: count, dtype: int64"
      ]
     },
     "execution_count": 332,
     "metadata": {},
     "output_type": "execute_result"
    }
   ],
   "source": [
    "X_train4['management_group_user-group'].value_counts()"
   ]
  },
  {
   "cell_type": "code",
   "execution_count": 333,
   "id": "4c34c0fd-e35f-4b70-b55f-ca2508d57514",
   "metadata": {},
   "outputs": [
    {
     "ename": "KeyError",
     "evalue": "'quality_group_milky'",
     "output_type": "error",
     "traceback": [
      "\u001b[0;31m---------------------------------------------------------------------------\u001b[0m",
      "\u001b[0;31mKeyError\u001b[0m                                  Traceback (most recent call last)",
      "File \u001b[0;32m~/anaconda3/envs/learn-env/lib/python3.9/site-packages/pandas/core/indexes/base.py:3805\u001b[0m, in \u001b[0;36mIndex.get_loc\u001b[0;34m(self, key)\u001b[0m\n\u001b[1;32m   3804\u001b[0m \u001b[38;5;28;01mtry\u001b[39;00m:\n\u001b[0;32m-> 3805\u001b[0m     \u001b[38;5;28;01mreturn\u001b[39;00m \u001b[38;5;28;43mself\u001b[39;49m\u001b[38;5;241;43m.\u001b[39;49m\u001b[43m_engine\u001b[49m\u001b[38;5;241;43m.\u001b[39;49m\u001b[43mget_loc\u001b[49m\u001b[43m(\u001b[49m\u001b[43mcasted_key\u001b[49m\u001b[43m)\u001b[49m\n\u001b[1;32m   3806\u001b[0m \u001b[38;5;28;01mexcept\u001b[39;00m \u001b[38;5;167;01mKeyError\u001b[39;00m \u001b[38;5;28;01mas\u001b[39;00m err:\n",
      "File \u001b[0;32mindex.pyx:167\u001b[0m, in \u001b[0;36mpandas._libs.index.IndexEngine.get_loc\u001b[0;34m()\u001b[0m\n",
      "File \u001b[0;32mindex.pyx:196\u001b[0m, in \u001b[0;36mpandas._libs.index.IndexEngine.get_loc\u001b[0;34m()\u001b[0m\n",
      "File \u001b[0;32mpandas/_libs/hashtable_class_helper.pxi:7081\u001b[0m, in \u001b[0;36mpandas._libs.hashtable.PyObjectHashTable.get_item\u001b[0;34m()\u001b[0m\n",
      "File \u001b[0;32mpandas/_libs/hashtable_class_helper.pxi:7089\u001b[0m, in \u001b[0;36mpandas._libs.hashtable.PyObjectHashTable.get_item\u001b[0;34m()\u001b[0m\n",
      "\u001b[0;31mKeyError\u001b[0m: 'quality_group_milky'",
      "\nThe above exception was the direct cause of the following exception:\n",
      "\u001b[0;31mKeyError\u001b[0m                                  Traceback (most recent call last)",
      "Cell \u001b[0;32mIn[333], line 1\u001b[0m\n\u001b[0;32m----> 1\u001b[0m \u001b[43mX_train4\u001b[49m\u001b[43m[\u001b[49m\u001b[38;5;124;43m'\u001b[39;49m\u001b[38;5;124;43mquality_group_milky\u001b[39;49m\u001b[38;5;124;43m'\u001b[39;49m\u001b[43m]\u001b[49m\u001b[38;5;241m.\u001b[39mvalue_counts()\n",
      "File \u001b[0;32m~/anaconda3/envs/learn-env/lib/python3.9/site-packages/pandas/core/frame.py:4090\u001b[0m, in \u001b[0;36mDataFrame.__getitem__\u001b[0;34m(self, key)\u001b[0m\n\u001b[1;32m   4088\u001b[0m \u001b[38;5;28;01mif\u001b[39;00m \u001b[38;5;28mself\u001b[39m\u001b[38;5;241m.\u001b[39mcolumns\u001b[38;5;241m.\u001b[39mnlevels \u001b[38;5;241m>\u001b[39m \u001b[38;5;241m1\u001b[39m:\n\u001b[1;32m   4089\u001b[0m     \u001b[38;5;28;01mreturn\u001b[39;00m \u001b[38;5;28mself\u001b[39m\u001b[38;5;241m.\u001b[39m_getitem_multilevel(key)\n\u001b[0;32m-> 4090\u001b[0m indexer \u001b[38;5;241m=\u001b[39m \u001b[38;5;28;43mself\u001b[39;49m\u001b[38;5;241;43m.\u001b[39;49m\u001b[43mcolumns\u001b[49m\u001b[38;5;241;43m.\u001b[39;49m\u001b[43mget_loc\u001b[49m\u001b[43m(\u001b[49m\u001b[43mkey\u001b[49m\u001b[43m)\u001b[49m\n\u001b[1;32m   4091\u001b[0m \u001b[38;5;28;01mif\u001b[39;00m is_integer(indexer):\n\u001b[1;32m   4092\u001b[0m     indexer \u001b[38;5;241m=\u001b[39m [indexer]\n",
      "File \u001b[0;32m~/anaconda3/envs/learn-env/lib/python3.9/site-packages/pandas/core/indexes/base.py:3812\u001b[0m, in \u001b[0;36mIndex.get_loc\u001b[0;34m(self, key)\u001b[0m\n\u001b[1;32m   3807\u001b[0m     \u001b[38;5;28;01mif\u001b[39;00m \u001b[38;5;28misinstance\u001b[39m(casted_key, \u001b[38;5;28mslice\u001b[39m) \u001b[38;5;129;01mor\u001b[39;00m (\n\u001b[1;32m   3808\u001b[0m         \u001b[38;5;28misinstance\u001b[39m(casted_key, abc\u001b[38;5;241m.\u001b[39mIterable)\n\u001b[1;32m   3809\u001b[0m         \u001b[38;5;129;01mand\u001b[39;00m \u001b[38;5;28many\u001b[39m(\u001b[38;5;28misinstance\u001b[39m(x, \u001b[38;5;28mslice\u001b[39m) \u001b[38;5;28;01mfor\u001b[39;00m x \u001b[38;5;129;01min\u001b[39;00m casted_key)\n\u001b[1;32m   3810\u001b[0m     ):\n\u001b[1;32m   3811\u001b[0m         \u001b[38;5;28;01mraise\u001b[39;00m InvalidIndexError(key)\n\u001b[0;32m-> 3812\u001b[0m     \u001b[38;5;28;01mraise\u001b[39;00m \u001b[38;5;167;01mKeyError\u001b[39;00m(key) \u001b[38;5;28;01mfrom\u001b[39;00m \u001b[38;5;21;01merr\u001b[39;00m\n\u001b[1;32m   3813\u001b[0m \u001b[38;5;28;01mexcept\u001b[39;00m \u001b[38;5;167;01mTypeError\u001b[39;00m:\n\u001b[1;32m   3814\u001b[0m     \u001b[38;5;66;03m# If we have a listlike key, _check_indexing_error will raise\u001b[39;00m\n\u001b[1;32m   3815\u001b[0m     \u001b[38;5;66;03m#  InvalidIndexError. Otherwise we fall through and re-raise\u001b[39;00m\n\u001b[1;32m   3816\u001b[0m     \u001b[38;5;66;03m#  the TypeError.\u001b[39;00m\n\u001b[1;32m   3817\u001b[0m     \u001b[38;5;28mself\u001b[39m\u001b[38;5;241m.\u001b[39m_check_indexing_error(key)\n",
      "\u001b[0;31mKeyError\u001b[0m: 'quality_group_milky'"
     ]
    }
   ],
   "source": [
    "X_train4['quality_group_milky'].value_counts()"
   ]
  },
  {
   "cell_type": "code",
   "execution_count": null,
   "id": "9b7d753c-23e8-4f92-ac99-5b6b0405ccb7",
   "metadata": {},
   "outputs": [],
   "source": [
    "X_train4['quality_group_fluoride'].value_counts()"
   ]
  },
  {
   "cell_type": "code",
   "execution_count": null,
   "id": "c27935cc-0842-411a-a7a4-cce0e538fda5",
   "metadata": {},
   "outputs": [],
   "source": [
    "X_train4['quality_group_salty'].value_counts()"
   ]
  },
  {
   "cell_type": "code",
   "execution_count": null,
   "id": "8b3f6ba5-1742-4340-97aa-f17c5ac7c4a6",
   "metadata": {},
   "outputs": [],
   "source": [
    "X_train4['quality_group_good'].value_counts()"
   ]
  },
  {
   "cell_type": "code",
   "execution_count": null,
   "id": "ba5325f2-6b44-4f4a-8548-1ebc1242d3c7",
   "metadata": {},
   "outputs": [],
   "source": [
    "X_train4['quality_group_unknown'].value_counts()"
   ]
  },
  {
   "cell_type": "code",
   "execution_count": null,
   "id": "f9dd4939-695b-4512-9ddb-bab7e2b50d43",
   "metadata": {},
   "outputs": [],
   "source": [
    "X_train4['payment_pay when scheme fails'].value_counts()"
   ]
  },
  {
   "cell_type": "code",
   "execution_count": null,
   "id": "a69f25da-e58a-4e3b-a569-b1102a5e555f",
   "metadata": {},
   "outputs": [],
   "source": [
    "X_train4['payment_other'].value_counts()"
   ]
  },
  {
   "cell_type": "markdown",
   "id": "10bc78c0-6764-4c14-a79f-a734c9b14620",
   "metadata": {},
   "source": [
    "# Preliminary Model 2"
   ]
  },
  {
   "cell_type": "code",
   "execution_count": null,
   "id": "2eb52f78-910d-4b6e-a3d0-aa04a1ec0a3d",
   "metadata": {},
   "outputs": [],
   "source": [
    "# instantiate tree\n",
    "tree = DecisionTreeClassifier(max_depth=4, random_state=42)\n",
    "\n",
    "# fit to our training set\n",
    "tree.fit(X_train, y_train)\n",
    "\n",
    "# plotting the figure\n",
    "plt.figure(figsize=(20,15))  # set plot size (denoted in inches)\n",
    "plot_tree(tree, fontsize=10)\n",
    "plt.show();"
   ]
  },
  {
   "cell_type": "markdown",
   "id": "a86a9eed-e368-4b68-966a-3a903ab0daec",
   "metadata": {},
   "source": [
    "# Feature Selection Part 2"
   ]
  },
  {
   "cell_type": "code",
   "execution_count": null,
   "id": "f343090c-f83e-428d-860a-8a5a302ad120",
   "metadata": {},
   "outputs": [],
   "source": [
    "X_train.info()"
   ]
  },
  {
   "cell_type": "code",
   "execution_count": null,
   "id": "d4cad3f9-49cc-4edd-a8fd-6297ecdd945c",
   "metadata": {},
   "outputs": [],
   "source": [
    "#to_drop2 = ['population', 'lga', 'permit', 'quantity']\n",
    "#X_trainV2 = X_train.drop(labels= to_drop2, axis=1)\n",
    "#X_trainV2.info()"
   ]
  },
  {
   "cell_type": "code",
   "execution_count": null,
   "id": "a706d152-2b86-47f1-bf4c-a8588f171cef",
   "metadata": {},
   "outputs": [],
   "source": [
    "X_trainV2['extraction_type_class'].value_counts()"
   ]
  },
  {
   "cell_type": "code",
   "execution_count": null,
   "id": "bdde0dfe-7671-4022-8f75-70294c454ff4",
   "metadata": {},
   "outputs": [],
   "source": [
    "#X_trainV2['extraction_type_class'].replace(\"handpump\", \"manual\", inplace=True)\n",
    "#X_trainV2['extraction_type_class'].replace(\"gravity\", \"other\", inplace=True)\n",
    "#X_trainV2['extraction_type_class'].replace(\"submersible\", \"mechanical\", inplace=True)\n",
    "#X_trainV2['extraction_type_class'].replace(\"motorpump\", \"mechanical\", inplace=True)\n",
    "#X_trainV2['extraction_type_class'].replace(\"rope pump\", \"manual\", inplace=True)\n",
    "#X_trainV2['extraction_type_class'].replace(\"wind-powered\", \"other\", inplace=True)\n",
    "#X_trainV2['extraction_type_class'].value_counts()"
   ]
  },
  {
   "cell_type": "code",
   "execution_count": null,
   "id": "a850f14b-7200-411f-ad54-dc342b574f85",
   "metadata": {},
   "outputs": [],
   "source": [
    "X_trainV2['quality_group'].value_counts()"
   ]
  },
  {
   "cell_type": "code",
   "execution_count": null,
   "id": "f96d6271-69c2-4042-b6cf-a5501d924f91",
   "metadata": {},
   "outputs": [],
   "source": [
    "#X_trainV2['quality_group'].replace(\"salty\", \"other\", inplace=True)\n",
    "#X_trainV2['quality_group'].replace(\"milky\", \"other\", inplace=True)\n",
    "#X_trainV2['quality_group'].replace(\"colored\", \"other\", inplace=True)\n",
    "#X_trainV2['quality_group'].replace(\"fluoride\", \"other\", inplace=True)\n",
    "#X_trainV2['quality_group'].value_counts()"
   ]
  },
  {
   "cell_type": "code",
   "execution_count": null,
   "id": "b5f151dd-dc0a-4cb5-b79e-294092e92ef4",
   "metadata": {},
   "outputs": [],
   "source": [
    "X_trainV2['payment'].value_counts()"
   ]
  },
  {
   "cell_type": "code",
   "execution_count": null,
   "id": "a31e288d-bd25-4a9d-899f-093b79fffcb1",
   "metadata": {},
   "outputs": [],
   "source": [
    "#X_trainV2['payment'].replace(\"pay when scheme fails\", \"other\", inplace=True)\n",
    "#X_trainV2['payment'].replace(\"pay monthly\", \"other\", inplace=True)\n",
    "#X_trainV2['payment'].replace(\"pay per bucket\", \"other\", inplace=True)\n",
    "#X_trainV2['payment'].replace(\"pay annually\", \"other\", inplace=True)\n",
    "#X_trainV2['payment'].value_counts()"
   ]
  },
  {
   "cell_type": "code",
   "execution_count": null,
   "id": "8a503415-6dee-40c0-9a9e-9886a1834891",
   "metadata": {},
   "outputs": [],
   "source": [
    "X_trainV2.info()"
   ]
  },
  {
   "cell_type": "code",
   "execution_count": null,
   "id": "bf3d82d9-b0f2-48fa-a754-20f328bf2a0e",
   "metadata": {},
   "outputs": [],
   "source": [
    "ohe = OneHotEncoder(drop='first')\n",
    "\n",
    "# fit the ohe on our training set\n",
    "ohe.fit(X_trainV2)\n",
    "\n",
    "# transform columns and convert our encoded matrix back into a dataframe\n",
    "X_trainV2_encoded = pd.DataFrame(ohe.transform(X_trainV2).todense(),\n",
    "                               columns=ohe.get_feature_names_out())\n",
    "\n",
    "X_trainV2_encoded.info()"
   ]
  },
  {
   "cell_type": "markdown",
   "id": "4c5f2d89-43a5-4642-bff7-cc9c5a66ca18",
   "metadata": {},
   "source": [
    "# Preliminary Model 3"
   ]
  },
  {
   "cell_type": "code",
   "execution_count": null,
   "id": "fef257f5-64dd-42dc-a093-e15afad83c96",
   "metadata": {},
   "outputs": [],
   "source": [
    "# instantiate tree\n",
    "tree = DecisionTreeClassifier(max_depth=3, random_state=42)\n",
    "\n",
    "# fit to our training set\n",
    "tree.fit(X_trainV2_encoded, y_train)\n",
    "\n",
    "# plotting the figure\n",
    "plt.figure(figsize=(20,15))  # set plot size (denoted in inches)\n",
    "plot_tree(tree, fontsize=10)\n",
    "plt.show();"
   ]
  },
  {
   "cell_type": "code",
   "execution_count": null,
   "id": "7e4c05e1-3577-4f75-b48c-0914d70d6767",
   "metadata": {},
   "outputs": [],
   "source": [
    "log = LogisticRegression(random_state=42)\n",
    "log.fit(X_trainV2_encoded, y_train)\n",
    "y_predictV2 = log.predict(X_trainV2_encoded)\n",
    "y_predictV2"
   ]
  },
  {
   "cell_type": "code",
   "execution_count": null,
   "id": "56c8987f-9041-409e-a595-1fcb7ada6777",
   "metadata": {},
   "outputs": [],
   "source": [
    "cm = confusion_matrix(y_train, y_predictV2)\n",
    "disp = ConfusionMatrixDisplay(confusion_matrix=cm)\n",
    "disp.plot()\n",
    "plt.show()"
   ]
  },
  {
   "cell_type": "code",
   "execution_count": null,
   "id": "aab5cb51-fe39-4ffe-9e27-0c4596cdadec",
   "metadata": {},
   "outputs": [],
   "source": [
    "print(classification_report(y_train, y_predictV2))"
   ]
  },
  {
   "cell_type": "code",
   "execution_count": null,
   "id": "bf2aa9fd-ecde-41a3-807b-52f981ba8aea",
   "metadata": {},
   "outputs": [],
   "source": [
    "subset = X_trainV2_encoded[['extraction_type_class_mechanical', 'extraction_type_class_other', 'management_group_other', 'management_group_parastatal', 'management_group_unknown', 'management_group_user-group', 'waterpoint_type_group_hand pump']]\n",
    "subset.info()"
   ]
  },
  {
   "cell_type": "code",
   "execution_count": null,
   "id": "e0389148-b709-47a1-90d0-fdcd881fa015",
   "metadata": {},
   "outputs": [],
   "source": [
    "log = LogisticRegression(random_state=42)\n",
    "log.fit(subset, y_train)\n",
    "y_pred_sub = log.predict(subset)\n",
    "y_pred_sub"
   ]
  },
  {
   "cell_type": "code",
   "execution_count": null,
   "id": "c949e95b-c86d-457d-94ac-a972fe398171",
   "metadata": {},
   "outputs": [],
   "source": [
    "cm = confusion_matrix(y_train, y_pred_sub)\n",
    "disp = ConfusionMatrixDisplay(confusion_matrix=cm)\n",
    "disp.plot()\n",
    "plt.show()"
   ]
  },
  {
   "cell_type": "code",
   "execution_count": null,
   "id": "fc79bbe5-e9a4-48c3-81c6-b5a749716cec",
   "metadata": {},
   "outputs": [],
   "source": [
    "print(classification_report(y_train, y_pred_sub))"
   ]
  },
  {
   "cell_type": "markdown",
   "id": "1b7f1ea0-2698-4540-9957-6a791e43b06e",
   "metadata": {},
   "source": [
    "# Changing regularization"
   ]
  },
  {
   "cell_type": "code",
   "execution_count": null,
   "id": "d684a1df-8782-463e-93a4-d9e3ef89fbaf",
   "metadata": {},
   "outputs": [],
   "source": [
    "# changing the regularization to 0.5\n",
    "log = LogisticRegression(random_state=42, C=0.5)\n",
    "log.fit(X_train_encoded, y_train)\n",
    "y_predict5 = log.predict(X_train_encoded)\n",
    "y_predict5"
   ]
  },
  {
   "cell_type": "code",
   "execution_count": null,
   "id": "f83f93cf-a71b-4e27-b756-e64a6a1abdbd",
   "metadata": {},
   "outputs": [],
   "source": [
    "print(classification_report(y_train, y_predict5))"
   ]
  },
  {
   "cell_type": "markdown",
   "id": "07cb28ca-7ee2-4798-bfd1-9215c944cc35",
   "metadata": {},
   "source": [
    "# Transforming the test set"
   ]
  },
  {
   "cell_type": "code",
   "execution_count": null,
   "id": "04914869-483d-46c8-b93f-e66a120ca926",
   "metadata": {},
   "outputs": [],
   "source": [
    "# isolating categorical columns\n",
    "cat_columns_test = X_test[['region', 'extraction_type_class', 'management_group', 'payment', 'quality_group', 'source_class', 'waterpoint_type_group']].copy()\n",
    "\n",
    "# instantiate the OneHotEncoder\n",
    "ohe = OneHotEncoder(drop='first')\n",
    "\n",
    "# fit the ohe on our training set\n",
    "ohe.fit(cat_columns_test)\n",
    "\n",
    "# transform columns and convert our encoded matrix back into a dataframe\n",
    "X_test_encoded = pd.DataFrame(ohe.transform(cat_columns_test).todense(),\n",
    "                               columns=ohe.get_feature_names_out())\n",
    "\n",
    "X_test_encoded.head()"
   ]
  },
  {
   "cell_type": "code",
   "execution_count": null,
   "id": "2b715297-c62e-4ec5-97e4-68319ace11f0",
   "metadata": {},
   "outputs": [],
   "source": [
    "X_test_encoded.info()"
   ]
  },
  {
   "cell_type": "markdown",
   "id": "81e39781-18b6-4b40-b243-d47ad8c7ef6e",
   "metadata": {},
   "source": [
    "# Log Reg on the Test!"
   ]
  },
  {
   "cell_type": "code",
   "execution_count": null,
   "id": "4c5438a7-a23b-414e-a859-ef82c36325fd",
   "metadata": {},
   "outputs": [],
   "source": [
    "y_test_predict = log.predict(X_test_encoded)\n",
    "y_test_predict"
   ]
  },
  {
   "cell_type": "code",
   "execution_count": null,
   "id": "0e34c1f3-403f-4bb4-8c80-8b0eba84fe03",
   "metadata": {},
   "outputs": [],
   "source": [
    "print(classification_report(y_test, y_test_predict))"
   ]
  },
  {
   "cell_type": "code",
   "execution_count": null,
   "id": "08cd431a-9bab-4673-95a6-ce184c163f7e",
   "metadata": {},
   "outputs": [],
   "source": [
    "coefficients = log.coef_\n",
    "\n",
    "print(\"Coefficients:\", coefficients)"
   ]
  },
  {
   "cell_type": "code",
   "execution_count": null,
   "id": "8ef1ceaf-5fca-4e8c-874b-cfeb21022f5b",
   "metadata": {},
   "outputs": [],
   "source": []
  }
 ],
 "metadata": {
  "kernelspec": {
   "display_name": "Python (learn-env)",
   "language": "python",
   "name": "learn-env"
  },
  "language_info": {
   "codemirror_mode": {
    "name": "ipython",
    "version": 3
   },
   "file_extension": ".py",
   "mimetype": "text/x-python",
   "name": "python",
   "nbconvert_exporter": "python",
   "pygments_lexer": "ipython3",
   "version": "3.9.18"
  }
 },
 "nbformat": 4,
 "nbformat_minor": 5
}
